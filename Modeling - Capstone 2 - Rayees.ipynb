{
  "cells": [
    {
      "cell_type": "markdown",
      "id": "44ea27ba",
      "metadata": {
        "id": "44ea27ba"
      },
      "source": [
        "# Capstone 2 - Diabetes Patients’ Readmission Prediction\n",
        "\n",
        "## Modeling \n",
        "\n",
        "#### Code written by: Rayees Ahamed "
      ]
    },
    {
      "cell_type": "markdown",
      "id": "70a08321",
      "metadata": {
        "id": "70a08321"
      },
      "source": [
        "**Steps:**\n",
        "1. Importing necessary packages\n",
        "2. Loading and verifying the scaled data\n",
        "3. Training & test split\n",
        "4. Model 1: Logistic Regression\n",
        "5. Model 2: k-Nearest Neighbors (kNN)\n",
        "6. Model 3: Gradient Boosting Classifier\n",
        "7. Hyperparameter tuning\n",
        "8. Final model selection\n",
        "9. Summary & deployment"
      ]
    },
    {
      "cell_type": "markdown",
      "id": "a8a4968f",
      "metadata": {
        "id": "a8a4968f"
      },
      "source": [
        "## Imports"
      ]
    },
    {
      "cell_type": "code",
      "execution_count": 107,
      "id": "009fa701",
      "metadata": {
        "id": "009fa701"
      },
      "outputs": [],
      "source": [
        "import numpy as np\n",
        "import pandas as pd\n",
        "import matplotlib.pyplot as plt\n",
        "import seaborn as sns\n",
        "%matplotlib inline\n",
        "\n",
        "from sklearn.preprocessing import StandardScaler\n",
        "from sklearn.model_selection import train_test_split, cross_validate, GridSearchCV\n",
        "from sklearn.linear_model import LogisticRegression\n",
        "from sklearn.neighbors import KNeighborsClassifier\n",
        "from sklearn.ensemble import RandomForestClassifier\n",
        "from sklearn.ensemble import GradientBoostingClassifier\n",
        "from sklearn.metrics import accuracy_score, precision_score, recall_score, classification_report, confusion_matrix, roc_curve, auc, roc_auc_score\n",
        "\n",
        "from sklearn.pipeline import make_pipeline\n",
        "\n",
        "import warnings\n",
        "warnings.filterwarnings('ignore')"
      ]
    },
    {
      "cell_type": "markdown",
      "id": "d759a29d",
      "metadata": {
        "id": "d759a29d"
      },
      "source": [
        "## Loading the data"
      ]
    },
    {
      "cell_type": "code",
      "execution_count": null,
      "id": "c08283ec",
      "metadata": {
        "colab": {
          "base_uri": "https://localhost:8080/",
          "height": 299
        },
        "id": "c08283ec",
        "outputId": "afd6a615-1054-42ba-f9a5-6027d82da308"
      },
      "outputs": [
        {
          "output_type": "execute_result",
          "data": {
            "text/html": [
              "\n",
              "  <div id=\"df-964ffd9a-d82d-4d72-b29b-b30b7b5bc16c\">\n",
              "    <div class=\"colab-df-container\">\n",
              "      <div>\n",
              "<style scoped>\n",
              "    .dataframe tbody tr th:only-of-type {\n",
              "        vertical-align: middle;\n",
              "    }\n",
              "\n",
              "    .dataframe tbody tr th {\n",
              "        vertical-align: top;\n",
              "    }\n",
              "\n",
              "    .dataframe thead th {\n",
              "        text-align: right;\n",
              "    }\n",
              "</style>\n",
              "<table border=\"1\" class=\"dataframe\">\n",
              "  <thead>\n",
              "    <tr style=\"text-align: right;\">\n",
              "      <th></th>\n",
              "      <th>race</th>\n",
              "      <th>gender</th>\n",
              "      <th>time_in_hospital</th>\n",
              "      <th>num_lab_procedures</th>\n",
              "      <th>num_procedures</th>\n",
              "      <th>num_medications</th>\n",
              "      <th>number_diagnoses</th>\n",
              "      <th>max_glu_serum</th>\n",
              "      <th>A1Cresult</th>\n",
              "      <th>metformin</th>\n",
              "      <th>...</th>\n",
              "      <th>service_utilization_log1p</th>\n",
              "      <th>num_medications|time_in_hospital</th>\n",
              "      <th>num_medications|num_procedures</th>\n",
              "      <th>time_in_hospital|num_lab_procedures</th>\n",
              "      <th>num_medications|num_lab_procedures</th>\n",
              "      <th>num_medications|number_diagnoses</th>\n",
              "      <th>age_mean|number_diagnoses</th>\n",
              "      <th>change|num_medications</th>\n",
              "      <th>number_diagnoses|time_in_hospital</th>\n",
              "      <th>num_medications|numchange</th>\n",
              "    </tr>\n",
              "  </thead>\n",
              "  <tbody>\n",
              "    <tr>\n",
              "      <th>0</th>\n",
              "      <td>Caucasian</td>\n",
              "      <td>0</td>\n",
              "      <td>3</td>\n",
              "      <td>59</td>\n",
              "      <td>0</td>\n",
              "      <td>18</td>\n",
              "      <td>9</td>\n",
              "      <td>-99</td>\n",
              "      <td>-99</td>\n",
              "      <td>0</td>\n",
              "      <td>...</td>\n",
              "      <td>0.000000</td>\n",
              "      <td>54</td>\n",
              "      <td>0</td>\n",
              "      <td>177</td>\n",
              "      <td>1062</td>\n",
              "      <td>162</td>\n",
              "      <td>135.0</td>\n",
              "      <td>18</td>\n",
              "      <td>27</td>\n",
              "      <td>18</td>\n",
              "    </tr>\n",
              "    <tr>\n",
              "      <th>1</th>\n",
              "      <td>AfricanAmerican</td>\n",
              "      <td>0</td>\n",
              "      <td>2</td>\n",
              "      <td>11</td>\n",
              "      <td>5</td>\n",
              "      <td>13</td>\n",
              "      <td>6</td>\n",
              "      <td>-99</td>\n",
              "      <td>-99</td>\n",
              "      <td>0</td>\n",
              "      <td>...</td>\n",
              "      <td>1.386294</td>\n",
              "      <td>26</td>\n",
              "      <td>65</td>\n",
              "      <td>22</td>\n",
              "      <td>143</td>\n",
              "      <td>78</td>\n",
              "      <td>150.0</td>\n",
              "      <td>0</td>\n",
              "      <td>12</td>\n",
              "      <td>0</td>\n",
              "    </tr>\n",
              "    <tr>\n",
              "      <th>2</th>\n",
              "      <td>Caucasian</td>\n",
              "      <td>1</td>\n",
              "      <td>2</td>\n",
              "      <td>44</td>\n",
              "      <td>1</td>\n",
              "      <td>16</td>\n",
              "      <td>7</td>\n",
              "      <td>-99</td>\n",
              "      <td>-99</td>\n",
              "      <td>0</td>\n",
              "      <td>...</td>\n",
              "      <td>0.000000</td>\n",
              "      <td>32</td>\n",
              "      <td>16</td>\n",
              "      <td>88</td>\n",
              "      <td>704</td>\n",
              "      <td>112</td>\n",
              "      <td>245.0</td>\n",
              "      <td>16</td>\n",
              "      <td>14</td>\n",
              "      <td>16</td>\n",
              "    </tr>\n",
              "    <tr>\n",
              "      <th>3</th>\n",
              "      <td>Caucasian</td>\n",
              "      <td>1</td>\n",
              "      <td>1</td>\n",
              "      <td>51</td>\n",
              "      <td>0</td>\n",
              "      <td>8</td>\n",
              "      <td>5</td>\n",
              "      <td>-99</td>\n",
              "      <td>-99</td>\n",
              "      <td>0</td>\n",
              "      <td>...</td>\n",
              "      <td>0.000000</td>\n",
              "      <td>8</td>\n",
              "      <td>0</td>\n",
              "      <td>51</td>\n",
              "      <td>408</td>\n",
              "      <td>40</td>\n",
              "      <td>225.0</td>\n",
              "      <td>8</td>\n",
              "      <td>5</td>\n",
              "      <td>0</td>\n",
              "    </tr>\n",
              "    <tr>\n",
              "      <th>4</th>\n",
              "      <td>Caucasian</td>\n",
              "      <td>1</td>\n",
              "      <td>3</td>\n",
              "      <td>31</td>\n",
              "      <td>6</td>\n",
              "      <td>16</td>\n",
              "      <td>9</td>\n",
              "      <td>-99</td>\n",
              "      <td>-99</td>\n",
              "      <td>0</td>\n",
              "      <td>...</td>\n",
              "      <td>0.000000</td>\n",
              "      <td>48</td>\n",
              "      <td>96</td>\n",
              "      <td>93</td>\n",
              "      <td>496</td>\n",
              "      <td>144</td>\n",
              "      <td>495.0</td>\n",
              "      <td>0</td>\n",
              "      <td>27</td>\n",
              "      <td>0</td>\n",
              "    </tr>\n",
              "  </tbody>\n",
              "</table>\n",
              "<p>5 rows × 48 columns</p>\n",
              "</div>\n",
              "      <button class=\"colab-df-convert\" onclick=\"convertToInteractive('df-964ffd9a-d82d-4d72-b29b-b30b7b5bc16c')\"\n",
              "              title=\"Convert this dataframe to an interactive table.\"\n",
              "              style=\"display:none;\">\n",
              "        \n",
              "  <svg xmlns=\"http://www.w3.org/2000/svg\" height=\"24px\"viewBox=\"0 0 24 24\"\n",
              "       width=\"24px\">\n",
              "    <path d=\"M0 0h24v24H0V0z\" fill=\"none\"/>\n",
              "    <path d=\"M18.56 5.44l.94 2.06.94-2.06 2.06-.94-2.06-.94-.94-2.06-.94 2.06-2.06.94zm-11 1L8.5 8.5l.94-2.06 2.06-.94-2.06-.94L8.5 2.5l-.94 2.06-2.06.94zm10 10l.94 2.06.94-2.06 2.06-.94-2.06-.94-.94-2.06-.94 2.06-2.06.94z\"/><path d=\"M17.41 7.96l-1.37-1.37c-.4-.4-.92-.59-1.43-.59-.52 0-1.04.2-1.43.59L10.3 9.45l-7.72 7.72c-.78.78-.78 2.05 0 2.83L4 21.41c.39.39.9.59 1.41.59.51 0 1.02-.2 1.41-.59l7.78-7.78 2.81-2.81c.8-.78.8-2.07 0-2.86zM5.41 20L4 18.59l7.72-7.72 1.47 1.35L5.41 20z\"/>\n",
              "  </svg>\n",
              "      </button>\n",
              "      \n",
              "  <style>\n",
              "    .colab-df-container {\n",
              "      display:flex;\n",
              "      flex-wrap:wrap;\n",
              "      gap: 12px;\n",
              "    }\n",
              "\n",
              "    .colab-df-convert {\n",
              "      background-color: #E8F0FE;\n",
              "      border: none;\n",
              "      border-radius: 50%;\n",
              "      cursor: pointer;\n",
              "      display: none;\n",
              "      fill: #1967D2;\n",
              "      height: 32px;\n",
              "      padding: 0 0 0 0;\n",
              "      width: 32px;\n",
              "    }\n",
              "\n",
              "    .colab-df-convert:hover {\n",
              "      background-color: #E2EBFA;\n",
              "      box-shadow: 0px 1px 2px rgba(60, 64, 67, 0.3), 0px 1px 3px 1px rgba(60, 64, 67, 0.15);\n",
              "      fill: #174EA6;\n",
              "    }\n",
              "\n",
              "    [theme=dark] .colab-df-convert {\n",
              "      background-color: #3B4455;\n",
              "      fill: #D2E3FC;\n",
              "    }\n",
              "\n",
              "    [theme=dark] .colab-df-convert:hover {\n",
              "      background-color: #434B5C;\n",
              "      box-shadow: 0px 1px 3px 1px rgba(0, 0, 0, 0.15);\n",
              "      filter: drop-shadow(0px 1px 2px rgba(0, 0, 0, 0.3));\n",
              "      fill: #FFFFFF;\n",
              "    }\n",
              "  </style>\n",
              "\n",
              "      <script>\n",
              "        const buttonEl =\n",
              "          document.querySelector('#df-964ffd9a-d82d-4d72-b29b-b30b7b5bc16c button.colab-df-convert');\n",
              "        buttonEl.style.display =\n",
              "          google.colab.kernel.accessAllowed ? 'block' : 'none';\n",
              "\n",
              "        async function convertToInteractive(key) {\n",
              "          const element = document.querySelector('#df-964ffd9a-d82d-4d72-b29b-b30b7b5bc16c');\n",
              "          const dataTable =\n",
              "            await google.colab.kernel.invokeFunction('convertToInteractive',\n",
              "                                                     [key], {});\n",
              "          if (!dataTable) return;\n",
              "\n",
              "          const docLinkHtml = 'Like what you see? Visit the ' +\n",
              "            '<a target=\"_blank\" href=https://colab.research.google.com/notebooks/data_table.ipynb>data table notebook</a>'\n",
              "            + ' to learn more about interactive tables.';\n",
              "          element.innerHTML = '';\n",
              "          dataTable['output_type'] = 'display_data';\n",
              "          await google.colab.output.renderOutput(dataTable, element);\n",
              "          const docLink = document.createElement('div');\n",
              "          docLink.innerHTML = docLinkHtml;\n",
              "          element.appendChild(docLink);\n",
              "        }\n",
              "      </script>\n",
              "    </div>\n",
              "  </div>\n",
              "  "
            ],
            "text/plain": [
              "              race  gender  time_in_hospital  num_lab_procedures  \\\n",
              "0        Caucasian       0                 3                  59   \n",
              "1  AfricanAmerican       0                 2                  11   \n",
              "2        Caucasian       1                 2                  44   \n",
              "3        Caucasian       1                 1                  51   \n",
              "4        Caucasian       1                 3                  31   \n",
              "\n",
              "   num_procedures  num_medications  number_diagnoses  max_glu_serum  \\\n",
              "0               0               18                 9            -99   \n",
              "1               5               13                 6            -99   \n",
              "2               1               16                 7            -99   \n",
              "3               0                8                 5            -99   \n",
              "4               6               16                 9            -99   \n",
              "\n",
              "   A1Cresult  metformin  ...  service_utilization_log1p  \\\n",
              "0        -99          0  ...                   0.000000   \n",
              "1        -99          0  ...                   1.386294   \n",
              "2        -99          0  ...                   0.000000   \n",
              "3        -99          0  ...                   0.000000   \n",
              "4        -99          0  ...                   0.000000   \n",
              "\n",
              "   num_medications|time_in_hospital  num_medications|num_procedures  \\\n",
              "0                                54                               0   \n",
              "1                                26                              65   \n",
              "2                                32                              16   \n",
              "3                                 8                               0   \n",
              "4                                48                              96   \n",
              "\n",
              "   time_in_hospital|num_lab_procedures  num_medications|num_lab_procedures  \\\n",
              "0                                  177                                1062   \n",
              "1                                   22                                 143   \n",
              "2                                   88                                 704   \n",
              "3                                   51                                 408   \n",
              "4                                   93                                 496   \n",
              "\n",
              "   num_medications|number_diagnoses  age_mean|number_diagnoses  \\\n",
              "0                               162                      135.0   \n",
              "1                                78                      150.0   \n",
              "2                               112                      245.0   \n",
              "3                                40                      225.0   \n",
              "4                               144                      495.0   \n",
              "\n",
              "   change|num_medications  number_diagnoses|time_in_hospital  \\\n",
              "0                      18                                 27   \n",
              "1                       0                                 12   \n",
              "2                      16                                 14   \n",
              "3                       8                                  5   \n",
              "4                       0                                 27   \n",
              "\n",
              "   num_medications|numchange  \n",
              "0                         18  \n",
              "1                          0  \n",
              "2                         16  \n",
              "3                          0  \n",
              "4                          0  \n",
              "\n",
              "[5 rows x 48 columns]"
            ]
          },
          "metadata": {},
          "execution_count": 41
        }
      ],
      "source": [
        "df = pd.read_csv('https://raw.githubusercontent.com/rayees-codes/Capstone-2---Rayees---Diabetes-Readmission-Prediction/main/data/Diabetes_SOLVED_NEW.csv')\n",
        "df.head()"
      ]
    },
    {
      "cell_type": "code",
      "execution_count": null,
      "id": "c3b3318d",
      "metadata": {
        "colab": {
          "base_uri": "https://localhost:8080/"
        },
        "id": "c3b3318d",
        "outputId": "e235ee0d-77ca-4018-88ed-1ab346b81236"
      },
      "outputs": [
        {
          "output_type": "execute_result",
          "data": {
            "text/plain": [
              "Index(['race', 'gender', 'time_in_hospital', 'num_lab_procedures',\n",
              "       'num_procedures', 'num_medications', 'number_diagnoses',\n",
              "       'max_glu_serum', 'A1Cresult', 'metformin', 'repaglinide', 'nateglinide',\n",
              "       'chlorpropamide', 'glimepiride', 'acetohexamide', 'glipizide',\n",
              "       'glyburide', 'tolbutamide', 'pioglitazone', 'rosiglitazone', 'acarbose',\n",
              "       'miglitol', 'troglitazone', 'tolazamide', 'insulin',\n",
              "       'glyburide-metformin', 'glipizide-metformin', 'metformin-rosiglitazone',\n",
              "       'metformin-pioglitazone', 'change', 'diabetesMed', 'readmitted',\n",
              "       'numchange', 'age_mean', 'nummed', 'number_inpatient_log1p',\n",
              "       'number_emergency_log1p', 'number_outpatient_log1p',\n",
              "       'service_utilization_log1p', 'num_medications|time_in_hospital',\n",
              "       'num_medications|num_procedures', 'time_in_hospital|num_lab_procedures',\n",
              "       'num_medications|num_lab_procedures',\n",
              "       'num_medications|number_diagnoses', 'age_mean|number_diagnoses',\n",
              "       'change|num_medications', 'number_diagnoses|time_in_hospital',\n",
              "       'num_medications|numchange'],\n",
              "      dtype='object')"
            ]
          },
          "metadata": {},
          "execution_count": 42
        }
      ],
      "source": [
        "df.columns"
      ]
    },
    {
      "cell_type": "markdown",
      "id": "d359c8df",
      "metadata": {
        "id": "d359c8df"
      },
      "source": [
        "## Preprocessing steps"
      ]
    },
    {
      "cell_type": "code",
      "execution_count": null,
      "id": "d6dbc580",
      "metadata": {
        "id": "d6dbc580"
      },
      "outputs": [],
      "source": [
        "# X variable assignment \n",
        "X = df.drop('readmitted', axis=1)"
      ]
    },
    {
      "cell_type": "code",
      "execution_count": null,
      "id": "f43aa338",
      "metadata": {
        "id": "f43aa338"
      },
      "outputs": [],
      "source": [
        "# Getting dummies\n",
        "X = pd.get_dummies(X)"
      ]
    },
    {
      "cell_type": "code",
      "execution_count": null,
      "id": "7195c663",
      "metadata": {
        "colab": {
          "base_uri": "https://localhost:8080/",
          "height": 1000
        },
        "id": "7195c663",
        "outputId": "7b844426-c2ef-4cc2-f02f-f28901993e14"
      },
      "outputs": [
        {
          "output_type": "execute_result",
          "data": {
            "text/html": [
              "\n",
              "  <div id=\"df-8fc650e9-1ba0-4a7c-9ac3-0e6be5b36c6f\">\n",
              "    <div class=\"colab-df-container\">\n",
              "      <div>\n",
              "<style scoped>\n",
              "    .dataframe tbody tr th:only-of-type {\n",
              "        vertical-align: middle;\n",
              "    }\n",
              "\n",
              "    .dataframe tbody tr th {\n",
              "        vertical-align: top;\n",
              "    }\n",
              "\n",
              "    .dataframe thead th {\n",
              "        text-align: right;\n",
              "    }\n",
              "</style>\n",
              "<table border=\"1\" class=\"dataframe\">\n",
              "  <thead>\n",
              "    <tr style=\"text-align: right;\">\n",
              "      <th></th>\n",
              "      <th>0</th>\n",
              "      <th>1</th>\n",
              "      <th>2</th>\n",
              "      <th>3</th>\n",
              "      <th>4</th>\n",
              "      <th>5</th>\n",
              "      <th>6</th>\n",
              "      <th>7</th>\n",
              "      <th>8</th>\n",
              "      <th>9</th>\n",
              "    </tr>\n",
              "  </thead>\n",
              "  <tbody>\n",
              "    <tr>\n",
              "      <th>gender</th>\n",
              "      <td>0.0</td>\n",
              "      <td>0.000000</td>\n",
              "      <td>1.0</td>\n",
              "      <td>1.0</td>\n",
              "      <td>1.0</td>\n",
              "      <td>1.0</td>\n",
              "      <td>1.0</td>\n",
              "      <td>0.0</td>\n",
              "      <td>0.0</td>\n",
              "      <td>0.0</td>\n",
              "    </tr>\n",
              "    <tr>\n",
              "      <th>time_in_hospital</th>\n",
              "      <td>3.0</td>\n",
              "      <td>2.000000</td>\n",
              "      <td>2.0</td>\n",
              "      <td>1.0</td>\n",
              "      <td>3.0</td>\n",
              "      <td>4.0</td>\n",
              "      <td>5.0</td>\n",
              "      <td>13.0</td>\n",
              "      <td>12.0</td>\n",
              "      <td>9.0</td>\n",
              "    </tr>\n",
              "    <tr>\n",
              "      <th>num_lab_procedures</th>\n",
              "      <td>59.0</td>\n",
              "      <td>11.000000</td>\n",
              "      <td>44.0</td>\n",
              "      <td>51.0</td>\n",
              "      <td>31.0</td>\n",
              "      <td>70.0</td>\n",
              "      <td>73.0</td>\n",
              "      <td>68.0</td>\n",
              "      <td>33.0</td>\n",
              "      <td>47.0</td>\n",
              "    </tr>\n",
              "    <tr>\n",
              "      <th>num_procedures</th>\n",
              "      <td>0.0</td>\n",
              "      <td>5.000000</td>\n",
              "      <td>1.0</td>\n",
              "      <td>0.0</td>\n",
              "      <td>6.0</td>\n",
              "      <td>1.0</td>\n",
              "      <td>0.0</td>\n",
              "      <td>2.0</td>\n",
              "      <td>3.0</td>\n",
              "      <td>2.0</td>\n",
              "    </tr>\n",
              "    <tr>\n",
              "      <th>num_medications</th>\n",
              "      <td>18.0</td>\n",
              "      <td>13.000000</td>\n",
              "      <td>16.0</td>\n",
              "      <td>8.0</td>\n",
              "      <td>16.0</td>\n",
              "      <td>21.0</td>\n",
              "      <td>12.0</td>\n",
              "      <td>28.0</td>\n",
              "      <td>18.0</td>\n",
              "      <td>17.0</td>\n",
              "    </tr>\n",
              "    <tr>\n",
              "      <th>number_diagnoses</th>\n",
              "      <td>9.0</td>\n",
              "      <td>6.000000</td>\n",
              "      <td>7.0</td>\n",
              "      <td>5.0</td>\n",
              "      <td>9.0</td>\n",
              "      <td>7.0</td>\n",
              "      <td>8.0</td>\n",
              "      <td>8.0</td>\n",
              "      <td>8.0</td>\n",
              "      <td>9.0</td>\n",
              "    </tr>\n",
              "    <tr>\n",
              "      <th>max_glu_serum</th>\n",
              "      <td>-99.0</td>\n",
              "      <td>-99.000000</td>\n",
              "      <td>-99.0</td>\n",
              "      <td>-99.0</td>\n",
              "      <td>-99.0</td>\n",
              "      <td>-99.0</td>\n",
              "      <td>-99.0</td>\n",
              "      <td>-99.0</td>\n",
              "      <td>-99.0</td>\n",
              "      <td>-99.0</td>\n",
              "    </tr>\n",
              "    <tr>\n",
              "      <th>A1Cresult</th>\n",
              "      <td>-99.0</td>\n",
              "      <td>-99.000000</td>\n",
              "      <td>-99.0</td>\n",
              "      <td>-99.0</td>\n",
              "      <td>-99.0</td>\n",
              "      <td>-99.0</td>\n",
              "      <td>-99.0</td>\n",
              "      <td>-99.0</td>\n",
              "      <td>-99.0</td>\n",
              "      <td>-99.0</td>\n",
              "    </tr>\n",
              "    <tr>\n",
              "      <th>metformin</th>\n",
              "      <td>0.0</td>\n",
              "      <td>0.000000</td>\n",
              "      <td>0.0</td>\n",
              "      <td>0.0</td>\n",
              "      <td>0.0</td>\n",
              "      <td>1.0</td>\n",
              "      <td>0.0</td>\n",
              "      <td>0.0</td>\n",
              "      <td>0.0</td>\n",
              "      <td>0.0</td>\n",
              "    </tr>\n",
              "    <tr>\n",
              "      <th>repaglinide</th>\n",
              "      <td>0.0</td>\n",
              "      <td>0.000000</td>\n",
              "      <td>0.0</td>\n",
              "      <td>0.0</td>\n",
              "      <td>0.0</td>\n",
              "      <td>0.0</td>\n",
              "      <td>0.0</td>\n",
              "      <td>0.0</td>\n",
              "      <td>0.0</td>\n",
              "      <td>0.0</td>\n",
              "    </tr>\n",
              "    <tr>\n",
              "      <th>nateglinide</th>\n",
              "      <td>0.0</td>\n",
              "      <td>0.000000</td>\n",
              "      <td>0.0</td>\n",
              "      <td>0.0</td>\n",
              "      <td>0.0</td>\n",
              "      <td>0.0</td>\n",
              "      <td>0.0</td>\n",
              "      <td>0.0</td>\n",
              "      <td>0.0</td>\n",
              "      <td>0.0</td>\n",
              "    </tr>\n",
              "    <tr>\n",
              "      <th>chlorpropamide</th>\n",
              "      <td>0.0</td>\n",
              "      <td>0.000000</td>\n",
              "      <td>0.0</td>\n",
              "      <td>0.0</td>\n",
              "      <td>0.0</td>\n",
              "      <td>0.0</td>\n",
              "      <td>0.0</td>\n",
              "      <td>0.0</td>\n",
              "      <td>0.0</td>\n",
              "      <td>0.0</td>\n",
              "    </tr>\n",
              "    <tr>\n",
              "      <th>glimepiride</th>\n",
              "      <td>0.0</td>\n",
              "      <td>0.000000</td>\n",
              "      <td>0.0</td>\n",
              "      <td>0.0</td>\n",
              "      <td>0.0</td>\n",
              "      <td>1.0</td>\n",
              "      <td>0.0</td>\n",
              "      <td>0.0</td>\n",
              "      <td>0.0</td>\n",
              "      <td>0.0</td>\n",
              "    </tr>\n",
              "    <tr>\n",
              "      <th>acetohexamide</th>\n",
              "      <td>0.0</td>\n",
              "      <td>0.000000</td>\n",
              "      <td>0.0</td>\n",
              "      <td>0.0</td>\n",
              "      <td>0.0</td>\n",
              "      <td>0.0</td>\n",
              "      <td>0.0</td>\n",
              "      <td>0.0</td>\n",
              "      <td>0.0</td>\n",
              "      <td>0.0</td>\n",
              "    </tr>\n",
              "    <tr>\n",
              "      <th>glipizide</th>\n",
              "      <td>0.0</td>\n",
              "      <td>1.000000</td>\n",
              "      <td>0.0</td>\n",
              "      <td>1.0</td>\n",
              "      <td>0.0</td>\n",
              "      <td>0.0</td>\n",
              "      <td>0.0</td>\n",
              "      <td>1.0</td>\n",
              "      <td>0.0</td>\n",
              "      <td>0.0</td>\n",
              "    </tr>\n",
              "    <tr>\n",
              "      <th>glyburide</th>\n",
              "      <td>0.0</td>\n",
              "      <td>0.000000</td>\n",
              "      <td>0.0</td>\n",
              "      <td>0.0</td>\n",
              "      <td>0.0</td>\n",
              "      <td>0.0</td>\n",
              "      <td>1.0</td>\n",
              "      <td>0.0</td>\n",
              "      <td>0.0</td>\n",
              "      <td>0.0</td>\n",
              "    </tr>\n",
              "    <tr>\n",
              "      <th>tolbutamide</th>\n",
              "      <td>0.0</td>\n",
              "      <td>0.000000</td>\n",
              "      <td>0.0</td>\n",
              "      <td>0.0</td>\n",
              "      <td>0.0</td>\n",
              "      <td>0.0</td>\n",
              "      <td>0.0</td>\n",
              "      <td>0.0</td>\n",
              "      <td>0.0</td>\n",
              "      <td>0.0</td>\n",
              "    </tr>\n",
              "    <tr>\n",
              "      <th>pioglitazone</th>\n",
              "      <td>0.0</td>\n",
              "      <td>0.000000</td>\n",
              "      <td>0.0</td>\n",
              "      <td>0.0</td>\n",
              "      <td>0.0</td>\n",
              "      <td>0.0</td>\n",
              "      <td>0.0</td>\n",
              "      <td>0.0</td>\n",
              "      <td>0.0</td>\n",
              "      <td>0.0</td>\n",
              "    </tr>\n",
              "    <tr>\n",
              "      <th>rosiglitazone</th>\n",
              "      <td>0.0</td>\n",
              "      <td>0.000000</td>\n",
              "      <td>0.0</td>\n",
              "      <td>0.0</td>\n",
              "      <td>0.0</td>\n",
              "      <td>0.0</td>\n",
              "      <td>0.0</td>\n",
              "      <td>0.0</td>\n",
              "      <td>1.0</td>\n",
              "      <td>0.0</td>\n",
              "    </tr>\n",
              "    <tr>\n",
              "      <th>acarbose</th>\n",
              "      <td>0.0</td>\n",
              "      <td>0.000000</td>\n",
              "      <td>0.0</td>\n",
              "      <td>0.0</td>\n",
              "      <td>0.0</td>\n",
              "      <td>0.0</td>\n",
              "      <td>0.0</td>\n",
              "      <td>0.0</td>\n",
              "      <td>0.0</td>\n",
              "      <td>0.0</td>\n",
              "    </tr>\n",
              "    <tr>\n",
              "      <th>miglitol</th>\n",
              "      <td>0.0</td>\n",
              "      <td>0.000000</td>\n",
              "      <td>0.0</td>\n",
              "      <td>0.0</td>\n",
              "      <td>0.0</td>\n",
              "      <td>0.0</td>\n",
              "      <td>0.0</td>\n",
              "      <td>0.0</td>\n",
              "      <td>0.0</td>\n",
              "      <td>0.0</td>\n",
              "    </tr>\n",
              "    <tr>\n",
              "      <th>troglitazone</th>\n",
              "      <td>0.0</td>\n",
              "      <td>0.000000</td>\n",
              "      <td>0.0</td>\n",
              "      <td>0.0</td>\n",
              "      <td>0.0</td>\n",
              "      <td>0.0</td>\n",
              "      <td>0.0</td>\n",
              "      <td>0.0</td>\n",
              "      <td>0.0</td>\n",
              "      <td>0.0</td>\n",
              "    </tr>\n",
              "    <tr>\n",
              "      <th>tolazamide</th>\n",
              "      <td>0.0</td>\n",
              "      <td>0.000000</td>\n",
              "      <td>0.0</td>\n",
              "      <td>0.0</td>\n",
              "      <td>0.0</td>\n",
              "      <td>0.0</td>\n",
              "      <td>0.0</td>\n",
              "      <td>0.0</td>\n",
              "      <td>0.0</td>\n",
              "      <td>0.0</td>\n",
              "    </tr>\n",
              "    <tr>\n",
              "      <th>insulin</th>\n",
              "      <td>1.0</td>\n",
              "      <td>0.000000</td>\n",
              "      <td>1.0</td>\n",
              "      <td>1.0</td>\n",
              "      <td>1.0</td>\n",
              "      <td>1.0</td>\n",
              "      <td>0.0</td>\n",
              "      <td>1.0</td>\n",
              "      <td>1.0</td>\n",
              "      <td>1.0</td>\n",
              "    </tr>\n",
              "    <tr>\n",
              "      <th>glyburide-metformin</th>\n",
              "      <td>0.0</td>\n",
              "      <td>0.000000</td>\n",
              "      <td>0.0</td>\n",
              "      <td>0.0</td>\n",
              "      <td>0.0</td>\n",
              "      <td>0.0</td>\n",
              "      <td>0.0</td>\n",
              "      <td>0.0</td>\n",
              "      <td>0.0</td>\n",
              "      <td>0.0</td>\n",
              "    </tr>\n",
              "    <tr>\n",
              "      <th>glipizide-metformin</th>\n",
              "      <td>0.0</td>\n",
              "      <td>0.000000</td>\n",
              "      <td>0.0</td>\n",
              "      <td>0.0</td>\n",
              "      <td>0.0</td>\n",
              "      <td>0.0</td>\n",
              "      <td>0.0</td>\n",
              "      <td>0.0</td>\n",
              "      <td>0.0</td>\n",
              "      <td>0.0</td>\n",
              "    </tr>\n",
              "    <tr>\n",
              "      <th>metformin-rosiglitazone</th>\n",
              "      <td>0.0</td>\n",
              "      <td>0.000000</td>\n",
              "      <td>0.0</td>\n",
              "      <td>0.0</td>\n",
              "      <td>0.0</td>\n",
              "      <td>0.0</td>\n",
              "      <td>0.0</td>\n",
              "      <td>0.0</td>\n",
              "      <td>0.0</td>\n",
              "      <td>0.0</td>\n",
              "    </tr>\n",
              "    <tr>\n",
              "      <th>metformin-pioglitazone</th>\n",
              "      <td>0.0</td>\n",
              "      <td>0.000000</td>\n",
              "      <td>0.0</td>\n",
              "      <td>0.0</td>\n",
              "      <td>0.0</td>\n",
              "      <td>0.0</td>\n",
              "      <td>0.0</td>\n",
              "      <td>0.0</td>\n",
              "      <td>0.0</td>\n",
              "      <td>0.0</td>\n",
              "    </tr>\n",
              "    <tr>\n",
              "      <th>change</th>\n",
              "      <td>1.0</td>\n",
              "      <td>0.000000</td>\n",
              "      <td>1.0</td>\n",
              "      <td>1.0</td>\n",
              "      <td>0.0</td>\n",
              "      <td>1.0</td>\n",
              "      <td>0.0</td>\n",
              "      <td>1.0</td>\n",
              "      <td>1.0</td>\n",
              "      <td>0.0</td>\n",
              "    </tr>\n",
              "    <tr>\n",
              "      <th>diabetesMed</th>\n",
              "      <td>1.0</td>\n",
              "      <td>1.000000</td>\n",
              "      <td>1.0</td>\n",
              "      <td>1.0</td>\n",
              "      <td>1.0</td>\n",
              "      <td>1.0</td>\n",
              "      <td>1.0</td>\n",
              "      <td>1.0</td>\n",
              "      <td>1.0</td>\n",
              "      <td>1.0</td>\n",
              "    </tr>\n",
              "    <tr>\n",
              "      <th>numchange</th>\n",
              "      <td>1.0</td>\n",
              "      <td>0.000000</td>\n",
              "      <td>1.0</td>\n",
              "      <td>0.0</td>\n",
              "      <td>0.0</td>\n",
              "      <td>0.0</td>\n",
              "      <td>0.0</td>\n",
              "      <td>0.0</td>\n",
              "      <td>0.0</td>\n",
              "      <td>0.0</td>\n",
              "    </tr>\n",
              "    <tr>\n",
              "      <th>age_mean</th>\n",
              "      <td>15.0</td>\n",
              "      <td>25.000000</td>\n",
              "      <td>35.0</td>\n",
              "      <td>45.0</td>\n",
              "      <td>55.0</td>\n",
              "      <td>65.0</td>\n",
              "      <td>75.0</td>\n",
              "      <td>85.0</td>\n",
              "      <td>95.0</td>\n",
              "      <td>45.0</td>\n",
              "    </tr>\n",
              "    <tr>\n",
              "      <th>nummed</th>\n",
              "      <td>1.0</td>\n",
              "      <td>1.000000</td>\n",
              "      <td>1.0</td>\n",
              "      <td>2.0</td>\n",
              "      <td>1.0</td>\n",
              "      <td>3.0</td>\n",
              "      <td>1.0</td>\n",
              "      <td>2.0</td>\n",
              "      <td>2.0</td>\n",
              "      <td>1.0</td>\n",
              "    </tr>\n",
              "    <tr>\n",
              "      <th>number_inpatient_log1p</th>\n",
              "      <td>0.0</td>\n",
              "      <td>0.693147</td>\n",
              "      <td>0.0</td>\n",
              "      <td>0.0</td>\n",
              "      <td>0.0</td>\n",
              "      <td>0.0</td>\n",
              "      <td>0.0</td>\n",
              "      <td>0.0</td>\n",
              "      <td>0.0</td>\n",
              "      <td>0.0</td>\n",
              "    </tr>\n",
              "    <tr>\n",
              "      <th>number_emergency_log1p</th>\n",
              "      <td>0.0</td>\n",
              "      <td>0.000000</td>\n",
              "      <td>0.0</td>\n",
              "      <td>0.0</td>\n",
              "      <td>0.0</td>\n",
              "      <td>0.0</td>\n",
              "      <td>0.0</td>\n",
              "      <td>0.0</td>\n",
              "      <td>0.0</td>\n",
              "      <td>0.0</td>\n",
              "    </tr>\n",
              "    <tr>\n",
              "      <th>number_outpatient_log1p</th>\n",
              "      <td>0.0</td>\n",
              "      <td>1.098612</td>\n",
              "      <td>0.0</td>\n",
              "      <td>0.0</td>\n",
              "      <td>0.0</td>\n",
              "      <td>0.0</td>\n",
              "      <td>0.0</td>\n",
              "      <td>0.0</td>\n",
              "      <td>0.0</td>\n",
              "      <td>0.0</td>\n",
              "    </tr>\n",
              "    <tr>\n",
              "      <th>service_utilization_log1p</th>\n",
              "      <td>0.0</td>\n",
              "      <td>1.386294</td>\n",
              "      <td>0.0</td>\n",
              "      <td>0.0</td>\n",
              "      <td>0.0</td>\n",
              "      <td>0.0</td>\n",
              "      <td>0.0</td>\n",
              "      <td>0.0</td>\n",
              "      <td>0.0</td>\n",
              "      <td>0.0</td>\n",
              "    </tr>\n",
              "    <tr>\n",
              "      <th>num_medications|time_in_hospital</th>\n",
              "      <td>54.0</td>\n",
              "      <td>26.000000</td>\n",
              "      <td>32.0</td>\n",
              "      <td>8.0</td>\n",
              "      <td>48.0</td>\n",
              "      <td>84.0</td>\n",
              "      <td>60.0</td>\n",
              "      <td>364.0</td>\n",
              "      <td>216.0</td>\n",
              "      <td>153.0</td>\n",
              "    </tr>\n",
              "    <tr>\n",
              "      <th>num_medications|num_procedures</th>\n",
              "      <td>0.0</td>\n",
              "      <td>65.000000</td>\n",
              "      <td>16.0</td>\n",
              "      <td>0.0</td>\n",
              "      <td>96.0</td>\n",
              "      <td>21.0</td>\n",
              "      <td>0.0</td>\n",
              "      <td>56.0</td>\n",
              "      <td>54.0</td>\n",
              "      <td>34.0</td>\n",
              "    </tr>\n",
              "    <tr>\n",
              "      <th>time_in_hospital|num_lab_procedures</th>\n",
              "      <td>177.0</td>\n",
              "      <td>22.000000</td>\n",
              "      <td>88.0</td>\n",
              "      <td>51.0</td>\n",
              "      <td>93.0</td>\n",
              "      <td>280.0</td>\n",
              "      <td>365.0</td>\n",
              "      <td>884.0</td>\n",
              "      <td>396.0</td>\n",
              "      <td>423.0</td>\n",
              "    </tr>\n",
              "    <tr>\n",
              "      <th>num_medications|num_lab_procedures</th>\n",
              "      <td>1062.0</td>\n",
              "      <td>143.000000</td>\n",
              "      <td>704.0</td>\n",
              "      <td>408.0</td>\n",
              "      <td>496.0</td>\n",
              "      <td>1470.0</td>\n",
              "      <td>876.0</td>\n",
              "      <td>1904.0</td>\n",
              "      <td>594.0</td>\n",
              "      <td>799.0</td>\n",
              "    </tr>\n",
              "    <tr>\n",
              "      <th>num_medications|number_diagnoses</th>\n",
              "      <td>162.0</td>\n",
              "      <td>78.000000</td>\n",
              "      <td>112.0</td>\n",
              "      <td>40.0</td>\n",
              "      <td>144.0</td>\n",
              "      <td>147.0</td>\n",
              "      <td>96.0</td>\n",
              "      <td>224.0</td>\n",
              "      <td>144.0</td>\n",
              "      <td>153.0</td>\n",
              "    </tr>\n",
              "    <tr>\n",
              "      <th>age_mean|number_diagnoses</th>\n",
              "      <td>135.0</td>\n",
              "      <td>150.000000</td>\n",
              "      <td>245.0</td>\n",
              "      <td>225.0</td>\n",
              "      <td>495.0</td>\n",
              "      <td>455.0</td>\n",
              "      <td>600.0</td>\n",
              "      <td>680.0</td>\n",
              "      <td>760.0</td>\n",
              "      <td>405.0</td>\n",
              "    </tr>\n",
              "    <tr>\n",
              "      <th>change|num_medications</th>\n",
              "      <td>18.0</td>\n",
              "      <td>0.000000</td>\n",
              "      <td>16.0</td>\n",
              "      <td>8.0</td>\n",
              "      <td>0.0</td>\n",
              "      <td>21.0</td>\n",
              "      <td>0.0</td>\n",
              "      <td>28.0</td>\n",
              "      <td>18.0</td>\n",
              "      <td>0.0</td>\n",
              "    </tr>\n",
              "    <tr>\n",
              "      <th>number_diagnoses|time_in_hospital</th>\n",
              "      <td>27.0</td>\n",
              "      <td>12.000000</td>\n",
              "      <td>14.0</td>\n",
              "      <td>5.0</td>\n",
              "      <td>27.0</td>\n",
              "      <td>28.0</td>\n",
              "      <td>40.0</td>\n",
              "      <td>104.0</td>\n",
              "      <td>96.0</td>\n",
              "      <td>81.0</td>\n",
              "    </tr>\n",
              "    <tr>\n",
              "      <th>num_medications|numchange</th>\n",
              "      <td>18.0</td>\n",
              "      <td>0.000000</td>\n",
              "      <td>16.0</td>\n",
              "      <td>0.0</td>\n",
              "      <td>0.0</td>\n",
              "      <td>0.0</td>\n",
              "      <td>0.0</td>\n",
              "      <td>0.0</td>\n",
              "      <td>0.0</td>\n",
              "      <td>0.0</td>\n",
              "    </tr>\n",
              "    <tr>\n",
              "      <th>race_AfricanAmerican</th>\n",
              "      <td>0.0</td>\n",
              "      <td>1.000000</td>\n",
              "      <td>0.0</td>\n",
              "      <td>0.0</td>\n",
              "      <td>0.0</td>\n",
              "      <td>0.0</td>\n",
              "      <td>0.0</td>\n",
              "      <td>0.0</td>\n",
              "      <td>0.0</td>\n",
              "      <td>1.0</td>\n",
              "    </tr>\n",
              "    <tr>\n",
              "      <th>race_Asian</th>\n",
              "      <td>0.0</td>\n",
              "      <td>0.000000</td>\n",
              "      <td>0.0</td>\n",
              "      <td>0.0</td>\n",
              "      <td>0.0</td>\n",
              "      <td>0.0</td>\n",
              "      <td>0.0</td>\n",
              "      <td>0.0</td>\n",
              "      <td>0.0</td>\n",
              "      <td>0.0</td>\n",
              "    </tr>\n",
              "    <tr>\n",
              "      <th>race_Caucasian</th>\n",
              "      <td>1.0</td>\n",
              "      <td>0.000000</td>\n",
              "      <td>1.0</td>\n",
              "      <td>1.0</td>\n",
              "      <td>1.0</td>\n",
              "      <td>1.0</td>\n",
              "      <td>1.0</td>\n",
              "      <td>1.0</td>\n",
              "      <td>1.0</td>\n",
              "      <td>0.0</td>\n",
              "    </tr>\n",
              "    <tr>\n",
              "      <th>race_Hispanic</th>\n",
              "      <td>0.0</td>\n",
              "      <td>0.000000</td>\n",
              "      <td>0.0</td>\n",
              "      <td>0.0</td>\n",
              "      <td>0.0</td>\n",
              "      <td>0.0</td>\n",
              "      <td>0.0</td>\n",
              "      <td>0.0</td>\n",
              "      <td>0.0</td>\n",
              "      <td>0.0</td>\n",
              "    </tr>\n",
              "    <tr>\n",
              "      <th>race_Other</th>\n",
              "      <td>0.0</td>\n",
              "      <td>0.000000</td>\n",
              "      <td>0.0</td>\n",
              "      <td>0.0</td>\n",
              "      <td>0.0</td>\n",
              "      <td>0.0</td>\n",
              "      <td>0.0</td>\n",
              "      <td>0.0</td>\n",
              "      <td>0.0</td>\n",
              "      <td>0.0</td>\n",
              "    </tr>\n",
              "  </tbody>\n",
              "</table>\n",
              "</div>\n",
              "      <button class=\"colab-df-convert\" onclick=\"convertToInteractive('df-8fc650e9-1ba0-4a7c-9ac3-0e6be5b36c6f')\"\n",
              "              title=\"Convert this dataframe to an interactive table.\"\n",
              "              style=\"display:none;\">\n",
              "        \n",
              "  <svg xmlns=\"http://www.w3.org/2000/svg\" height=\"24px\"viewBox=\"0 0 24 24\"\n",
              "       width=\"24px\">\n",
              "    <path d=\"M0 0h24v24H0V0z\" fill=\"none\"/>\n",
              "    <path d=\"M18.56 5.44l.94 2.06.94-2.06 2.06-.94-2.06-.94-.94-2.06-.94 2.06-2.06.94zm-11 1L8.5 8.5l.94-2.06 2.06-.94-2.06-.94L8.5 2.5l-.94 2.06-2.06.94zm10 10l.94 2.06.94-2.06 2.06-.94-2.06-.94-.94-2.06-.94 2.06-2.06.94z\"/><path d=\"M17.41 7.96l-1.37-1.37c-.4-.4-.92-.59-1.43-.59-.52 0-1.04.2-1.43.59L10.3 9.45l-7.72 7.72c-.78.78-.78 2.05 0 2.83L4 21.41c.39.39.9.59 1.41.59.51 0 1.02-.2 1.41-.59l7.78-7.78 2.81-2.81c.8-.78.8-2.07 0-2.86zM5.41 20L4 18.59l7.72-7.72 1.47 1.35L5.41 20z\"/>\n",
              "  </svg>\n",
              "      </button>\n",
              "      \n",
              "  <style>\n",
              "    .colab-df-container {\n",
              "      display:flex;\n",
              "      flex-wrap:wrap;\n",
              "      gap: 12px;\n",
              "    }\n",
              "\n",
              "    .colab-df-convert {\n",
              "      background-color: #E8F0FE;\n",
              "      border: none;\n",
              "      border-radius: 50%;\n",
              "      cursor: pointer;\n",
              "      display: none;\n",
              "      fill: #1967D2;\n",
              "      height: 32px;\n",
              "      padding: 0 0 0 0;\n",
              "      width: 32px;\n",
              "    }\n",
              "\n",
              "    .colab-df-convert:hover {\n",
              "      background-color: #E2EBFA;\n",
              "      box-shadow: 0px 1px 2px rgba(60, 64, 67, 0.3), 0px 1px 3px 1px rgba(60, 64, 67, 0.15);\n",
              "      fill: #174EA6;\n",
              "    }\n",
              "\n",
              "    [theme=dark] .colab-df-convert {\n",
              "      background-color: #3B4455;\n",
              "      fill: #D2E3FC;\n",
              "    }\n",
              "\n",
              "    [theme=dark] .colab-df-convert:hover {\n",
              "      background-color: #434B5C;\n",
              "      box-shadow: 0px 1px 3px 1px rgba(0, 0, 0, 0.15);\n",
              "      filter: drop-shadow(0px 1px 2px rgba(0, 0, 0, 0.3));\n",
              "      fill: #FFFFFF;\n",
              "    }\n",
              "  </style>\n",
              "\n",
              "      <script>\n",
              "        const buttonEl =\n",
              "          document.querySelector('#df-8fc650e9-1ba0-4a7c-9ac3-0e6be5b36c6f button.colab-df-convert');\n",
              "        buttonEl.style.display =\n",
              "          google.colab.kernel.accessAllowed ? 'block' : 'none';\n",
              "\n",
              "        async function convertToInteractive(key) {\n",
              "          const element = document.querySelector('#df-8fc650e9-1ba0-4a7c-9ac3-0e6be5b36c6f');\n",
              "          const dataTable =\n",
              "            await google.colab.kernel.invokeFunction('convertToInteractive',\n",
              "                                                     [key], {});\n",
              "          if (!dataTable) return;\n",
              "\n",
              "          const docLinkHtml = 'Like what you see? Visit the ' +\n",
              "            '<a target=\"_blank\" href=https://colab.research.google.com/notebooks/data_table.ipynb>data table notebook</a>'\n",
              "            + ' to learn more about interactive tables.';\n",
              "          element.innerHTML = '';\n",
              "          dataTable['output_type'] = 'display_data';\n",
              "          await google.colab.output.renderOutput(dataTable, element);\n",
              "          const docLink = document.createElement('div');\n",
              "          docLink.innerHTML = docLinkHtml;\n",
              "          element.appendChild(docLink);\n",
              "        }\n",
              "      </script>\n",
              "    </div>\n",
              "  </div>\n",
              "  "
            ],
            "text/plain": [
              "                                          0           1      2      3      4  \\\n",
              "gender                                  0.0    0.000000    1.0    1.0    1.0   \n",
              "time_in_hospital                        3.0    2.000000    2.0    1.0    3.0   \n",
              "num_lab_procedures                     59.0   11.000000   44.0   51.0   31.0   \n",
              "num_procedures                          0.0    5.000000    1.0    0.0    6.0   \n",
              "num_medications                        18.0   13.000000   16.0    8.0   16.0   \n",
              "number_diagnoses                        9.0    6.000000    7.0    5.0    9.0   \n",
              "max_glu_serum                         -99.0  -99.000000  -99.0  -99.0  -99.0   \n",
              "A1Cresult                             -99.0  -99.000000  -99.0  -99.0  -99.0   \n",
              "metformin                               0.0    0.000000    0.0    0.0    0.0   \n",
              "repaglinide                             0.0    0.000000    0.0    0.0    0.0   \n",
              "nateglinide                             0.0    0.000000    0.0    0.0    0.0   \n",
              "chlorpropamide                          0.0    0.000000    0.0    0.0    0.0   \n",
              "glimepiride                             0.0    0.000000    0.0    0.0    0.0   \n",
              "acetohexamide                           0.0    0.000000    0.0    0.0    0.0   \n",
              "glipizide                               0.0    1.000000    0.0    1.0    0.0   \n",
              "glyburide                               0.0    0.000000    0.0    0.0    0.0   \n",
              "tolbutamide                             0.0    0.000000    0.0    0.0    0.0   \n",
              "pioglitazone                            0.0    0.000000    0.0    0.0    0.0   \n",
              "rosiglitazone                           0.0    0.000000    0.0    0.0    0.0   \n",
              "acarbose                                0.0    0.000000    0.0    0.0    0.0   \n",
              "miglitol                                0.0    0.000000    0.0    0.0    0.0   \n",
              "troglitazone                            0.0    0.000000    0.0    0.0    0.0   \n",
              "tolazamide                              0.0    0.000000    0.0    0.0    0.0   \n",
              "insulin                                 1.0    0.000000    1.0    1.0    1.0   \n",
              "glyburide-metformin                     0.0    0.000000    0.0    0.0    0.0   \n",
              "glipizide-metformin                     0.0    0.000000    0.0    0.0    0.0   \n",
              "metformin-rosiglitazone                 0.0    0.000000    0.0    0.0    0.0   \n",
              "metformin-pioglitazone                  0.0    0.000000    0.0    0.0    0.0   \n",
              "change                                  1.0    0.000000    1.0    1.0    0.0   \n",
              "diabetesMed                             1.0    1.000000    1.0    1.0    1.0   \n",
              "numchange                               1.0    0.000000    1.0    0.0    0.0   \n",
              "age_mean                               15.0   25.000000   35.0   45.0   55.0   \n",
              "nummed                                  1.0    1.000000    1.0    2.0    1.0   \n",
              "number_inpatient_log1p                  0.0    0.693147    0.0    0.0    0.0   \n",
              "number_emergency_log1p                  0.0    0.000000    0.0    0.0    0.0   \n",
              "number_outpatient_log1p                 0.0    1.098612    0.0    0.0    0.0   \n",
              "service_utilization_log1p               0.0    1.386294    0.0    0.0    0.0   \n",
              "num_medications|time_in_hospital       54.0   26.000000   32.0    8.0   48.0   \n",
              "num_medications|num_procedures          0.0   65.000000   16.0    0.0   96.0   \n",
              "time_in_hospital|num_lab_procedures   177.0   22.000000   88.0   51.0   93.0   \n",
              "num_medications|num_lab_procedures   1062.0  143.000000  704.0  408.0  496.0   \n",
              "num_medications|number_diagnoses      162.0   78.000000  112.0   40.0  144.0   \n",
              "age_mean|number_diagnoses             135.0  150.000000  245.0  225.0  495.0   \n",
              "change|num_medications                 18.0    0.000000   16.0    8.0    0.0   \n",
              "number_diagnoses|time_in_hospital      27.0   12.000000   14.0    5.0   27.0   \n",
              "num_medications|numchange              18.0    0.000000   16.0    0.0    0.0   \n",
              "race_AfricanAmerican                    0.0    1.000000    0.0    0.0    0.0   \n",
              "race_Asian                              0.0    0.000000    0.0    0.0    0.0   \n",
              "race_Caucasian                          1.0    0.000000    1.0    1.0    1.0   \n",
              "race_Hispanic                           0.0    0.000000    0.0    0.0    0.0   \n",
              "race_Other                              0.0    0.000000    0.0    0.0    0.0   \n",
              "\n",
              "                                          5      6       7      8      9  \n",
              "gender                                  1.0    1.0     0.0    0.0    0.0  \n",
              "time_in_hospital                        4.0    5.0    13.0   12.0    9.0  \n",
              "num_lab_procedures                     70.0   73.0    68.0   33.0   47.0  \n",
              "num_procedures                          1.0    0.0     2.0    3.0    2.0  \n",
              "num_medications                        21.0   12.0    28.0   18.0   17.0  \n",
              "number_diagnoses                        7.0    8.0     8.0    8.0    9.0  \n",
              "max_glu_serum                         -99.0  -99.0   -99.0  -99.0  -99.0  \n",
              "A1Cresult                             -99.0  -99.0   -99.0  -99.0  -99.0  \n",
              "metformin                               1.0    0.0     0.0    0.0    0.0  \n",
              "repaglinide                             0.0    0.0     0.0    0.0    0.0  \n",
              "nateglinide                             0.0    0.0     0.0    0.0    0.0  \n",
              "chlorpropamide                          0.0    0.0     0.0    0.0    0.0  \n",
              "glimepiride                             1.0    0.0     0.0    0.0    0.0  \n",
              "acetohexamide                           0.0    0.0     0.0    0.0    0.0  \n",
              "glipizide                               0.0    0.0     1.0    0.0    0.0  \n",
              "glyburide                               0.0    1.0     0.0    0.0    0.0  \n",
              "tolbutamide                             0.0    0.0     0.0    0.0    0.0  \n",
              "pioglitazone                            0.0    0.0     0.0    0.0    0.0  \n",
              "rosiglitazone                           0.0    0.0     0.0    1.0    0.0  \n",
              "acarbose                                0.0    0.0     0.0    0.0    0.0  \n",
              "miglitol                                0.0    0.0     0.0    0.0    0.0  \n",
              "troglitazone                            0.0    0.0     0.0    0.0    0.0  \n",
              "tolazamide                              0.0    0.0     0.0    0.0    0.0  \n",
              "insulin                                 1.0    0.0     1.0    1.0    1.0  \n",
              "glyburide-metformin                     0.0    0.0     0.0    0.0    0.0  \n",
              "glipizide-metformin                     0.0    0.0     0.0    0.0    0.0  \n",
              "metformin-rosiglitazone                 0.0    0.0     0.0    0.0    0.0  \n",
              "metformin-pioglitazone                  0.0    0.0     0.0    0.0    0.0  \n",
              "change                                  1.0    0.0     1.0    1.0    0.0  \n",
              "diabetesMed                             1.0    1.0     1.0    1.0    1.0  \n",
              "numchange                               0.0    0.0     0.0    0.0    0.0  \n",
              "age_mean                               65.0   75.0    85.0   95.0   45.0  \n",
              "nummed                                  3.0    1.0     2.0    2.0    1.0  \n",
              "number_inpatient_log1p                  0.0    0.0     0.0    0.0    0.0  \n",
              "number_emergency_log1p                  0.0    0.0     0.0    0.0    0.0  \n",
              "number_outpatient_log1p                 0.0    0.0     0.0    0.0    0.0  \n",
              "service_utilization_log1p               0.0    0.0     0.0    0.0    0.0  \n",
              "num_medications|time_in_hospital       84.0   60.0   364.0  216.0  153.0  \n",
              "num_medications|num_procedures         21.0    0.0    56.0   54.0   34.0  \n",
              "time_in_hospital|num_lab_procedures   280.0  365.0   884.0  396.0  423.0  \n",
              "num_medications|num_lab_procedures   1470.0  876.0  1904.0  594.0  799.0  \n",
              "num_medications|number_diagnoses      147.0   96.0   224.0  144.0  153.0  \n",
              "age_mean|number_diagnoses             455.0  600.0   680.0  760.0  405.0  \n",
              "change|num_medications                 21.0    0.0    28.0   18.0    0.0  \n",
              "number_diagnoses|time_in_hospital      28.0   40.0   104.0   96.0   81.0  \n",
              "num_medications|numchange               0.0    0.0     0.0    0.0    0.0  \n",
              "race_AfricanAmerican                    0.0    0.0     0.0    0.0    1.0  \n",
              "race_Asian                              0.0    0.0     0.0    0.0    0.0  \n",
              "race_Caucasian                          1.0    1.0     1.0    1.0    0.0  \n",
              "race_Hispanic                           0.0    0.0     0.0    0.0    0.0  \n",
              "race_Other                              0.0    0.0     0.0    0.0    0.0  "
            ]
          },
          "metadata": {},
          "execution_count": 45
        }
      ],
      "source": [
        "X.head(10).T"
      ]
    },
    {
      "cell_type": "code",
      "execution_count": null,
      "id": "1d6a575e",
      "metadata": {
        "colab": {
          "base_uri": "https://localhost:8080/"
        },
        "id": "1d6a575e",
        "outputId": "07b69a43-d006-47b0-e154-3799c8ffb838"
      },
      "outputs": [
        {
          "output_type": "execute_result",
          "data": {
            "text/plain": [
              "0    64163\n",
              "1     6250\n",
              "Name: readmitted, dtype: int64"
            ]
          },
          "metadata": {},
          "execution_count": 46
        }
      ],
      "source": [
        "# Target variable class size\n",
        "df['readmitted'].value_counts()"
      ]
    },
    {
      "cell_type": "code",
      "execution_count": null,
      "id": "0244c06e",
      "metadata": {
        "id": "0244c06e"
      },
      "outputs": [],
      "source": [
        "# y variable assignment \n",
        "y = df['readmitted']"
      ]
    },
    {
      "cell_type": "markdown",
      "id": "36160ffc",
      "metadata": {
        "id": "36160ffc"
      },
      "source": [
        "## Train/Test split"
      ]
    },
    {
      "cell_type": "code",
      "execution_count": null,
      "id": "f2f8fa98",
      "metadata": {
        "id": "f2f8fa98"
      },
      "outputs": [],
      "source": [
        "# Train & test set split\n",
        "X_train, X_test, y_train, y_test = train_test_split(X, y, test_size=0.25, random_state=110, stratify=y)"
      ]
    },
    {
      "cell_type": "code",
      "execution_count": null,
      "id": "d3c0f802",
      "metadata": {
        "colab": {
          "base_uri": "https://localhost:8080/"
        },
        "id": "d3c0f802",
        "outputId": "351629be-4ec5-470a-fdc5-13d7d68fc3f0"
      },
      "outputs": [
        {
          "output_type": "execute_result",
          "data": {
            "text/plain": [
              "((52809, 51), (17604, 51))"
            ]
          },
          "metadata": {},
          "execution_count": 49
        }
      ],
      "source": [
        "# Verifying X shape\n",
        "X_train.shape, X_test.shape"
      ]
    },
    {
      "cell_type": "code",
      "execution_count": null,
      "id": "cab314ed",
      "metadata": {
        "colab": {
          "base_uri": "https://localhost:8080/"
        },
        "id": "cab314ed",
        "outputId": "9c9a0dcd-fc58-4d8f-dd08-623e0f6d877b"
      },
      "outputs": [
        {
          "output_type": "execute_result",
          "data": {
            "text/plain": [
              "((52809,), (17604,))"
            ]
          },
          "metadata": {},
          "execution_count": 50
        }
      ],
      "source": [
        "# Verifying y shape\n",
        "y_train.shape, y_test.shape"
      ]
    },
    {
      "cell_type": "code",
      "execution_count": null,
      "id": "a47879dd",
      "metadata": {
        "colab": {
          "base_uri": "https://localhost:8080/"
        },
        "id": "a47879dd",
        "outputId": "025e83e2-2bdf-4037-d56d-593e8bc3f5d3"
      },
      "outputs": [
        {
          "output_type": "execute_result",
          "data": {
            "text/plain": [
              "gender                                 True\n",
              "time_in_hospital                       True\n",
              "num_lab_procedures                     True\n",
              "num_procedures                         True\n",
              "num_medications                        True\n",
              "number_diagnoses                       True\n",
              "max_glu_serum                          True\n",
              "A1Cresult                              True\n",
              "metformin                              True\n",
              "repaglinide                            True\n",
              "nateglinide                            True\n",
              "chlorpropamide                         True\n",
              "glimepiride                            True\n",
              "acetohexamide                          True\n",
              "glipizide                              True\n",
              "glyburide                              True\n",
              "tolbutamide                            True\n",
              "pioglitazone                           True\n",
              "rosiglitazone                          True\n",
              "acarbose                               True\n",
              "miglitol                               True\n",
              "troglitazone                           True\n",
              "tolazamide                             True\n",
              "insulin                                True\n",
              "glyburide-metformin                    True\n",
              "glipizide-metformin                    True\n",
              "metformin-rosiglitazone                True\n",
              "metformin-pioglitazone                 True\n",
              "change                                 True\n",
              "diabetesMed                            True\n",
              "numchange                              True\n",
              "age_mean                               True\n",
              "nummed                                 True\n",
              "number_inpatient_log1p                 True\n",
              "number_emergency_log1p                 True\n",
              "number_outpatient_log1p                True\n",
              "service_utilization_log1p              True\n",
              "num_medications|time_in_hospital       True\n",
              "num_medications|num_procedures         True\n",
              "time_in_hospital|num_lab_procedures    True\n",
              "num_medications|num_lab_procedures     True\n",
              "num_medications|number_diagnoses       True\n",
              "age_mean|number_diagnoses              True\n",
              "change|num_medications                 True\n",
              "number_diagnoses|time_in_hospital      True\n",
              "num_medications|numchange              True\n",
              "race_AfricanAmerican                   True\n",
              "race_Asian                             True\n",
              "race_Caucasian                         True\n",
              "race_Hispanic                          True\n",
              "race_Other                             True\n",
              "dtype: bool"
            ]
          },
          "metadata": {},
          "execution_count": 51
        }
      ],
      "source": [
        "# Checking datatype to be numeric in all\n",
        "X_train.dtypes != 'object'"
      ]
    },
    {
      "cell_type": "markdown",
      "id": "ce01035a",
      "metadata": {
        "id": "ce01035a"
      },
      "source": [
        "## Scaling the data"
      ]
    },
    {
      "cell_type": "code",
      "execution_count": null,
      "id": "4d3c1108",
      "metadata": {
        "id": "4d3c1108"
      },
      "outputs": [],
      "source": [
        "# Making a scaler object\n",
        "scaler = StandardScaler().fit(X_train)\n",
        "X_train_scaled = scaler.transform(X_train)\n",
        "X_test_scaled = scaler.transform(X_test)"
      ]
    },
    {
      "cell_type": "markdown",
      "id": "9009cdc1",
      "metadata": {
        "id": "9009cdc1"
      },
      "source": [
        "## Verifying the scaling"
      ]
    },
    {
      "cell_type": "code",
      "execution_count": null,
      "id": "e7ba1651",
      "metadata": {
        "colab": {
          "base_uri": "https://localhost:8080/"
        },
        "id": "e7ba1651",
        "outputId": "a62dba3e-6b7e-47e8-e757-e789165dba56"
      },
      "outputs": [
        {
          "output_type": "execute_result",
          "data": {
            "text/plain": [
              "7.281505234728174e-18"
            ]
          },
          "metadata": {},
          "execution_count": 53
        }
      ],
      "source": [
        "# Verifying the mean of scaled_df (mean =0)\n",
        "X_train_scaled.mean()"
      ]
    },
    {
      "cell_type": "code",
      "execution_count": null,
      "id": "a2806609",
      "metadata": {
        "colab": {
          "base_uri": "https://localhost:8080/"
        },
        "id": "a2806609",
        "outputId": "c51c3875-4987-4cf4-9baa-8cb961f16216"
      },
      "outputs": [
        {
          "output_type": "execute_result",
          "data": {
            "text/plain": [
              "0.992539162888569"
            ]
          },
          "metadata": {},
          "execution_count": 54
        }
      ],
      "source": [
        "# Verifying the standard deviation (std = 1)\n",
        "X_test_scaled.std(ddof=0)"
      ]
    },
    {
      "cell_type": "markdown",
      "id": "f9eb7c6d",
      "metadata": {
        "id": "f9eb7c6d"
      },
      "source": [
        "## Model 1: Logistic regression"
      ]
    },
    {
      "cell_type": "code",
      "execution_count": null,
      "id": "3494b131",
      "metadata": {
        "colab": {
          "base_uri": "https://localhost:8080/"
        },
        "id": "3494b131",
        "outputId": "3d36124b-7060-44d6-b283-a63f61c1e3cb"
      },
      "outputs": [
        {
          "output_type": "execute_result",
          "data": {
            "text/plain": [
              "LogisticRegression()"
            ]
          },
          "metadata": {},
          "execution_count": 55
        }
      ],
      "source": [
        "lg_model = LogisticRegression()\n",
        "lg_model.fit(X_train_scaled, y_train)"
      ]
    },
    {
      "cell_type": "code",
      "execution_count": null,
      "id": "337222fd",
      "metadata": {
        "id": "337222fd"
      },
      "outputs": [],
      "source": [
        "y_pred1 = lg_model.predict(X_test_scaled)"
      ]
    },
    {
      "cell_type": "code",
      "execution_count": null,
      "id": "408f090d",
      "metadata": {
        "colab": {
          "base_uri": "https://localhost:8080/"
        },
        "id": "408f090d",
        "outputId": "a7ce4aff-ee39-4c12-dd9f-60da3005ba86"
      },
      "outputs": [
        {
          "output_type": "stream",
          "name": "stdout",
          "text": [
            "Accuracy:  0.9112133605998637\n",
            "Precision:  0.0\n",
            "Recall:  0.0\n"
          ]
        }
      ],
      "source": [
        "print('Accuracy: ', accuracy_score(y_test, y_pred1))\n",
        "print('Precision: ', precision_score(y_test, y_pred1))\n",
        "print('Recall: ', recall_score(y_test, y_pred1))"
      ]
    },
    {
      "cell_type": "markdown",
      "source": [
        "**Results**\n",
        "\n",
        "\n",
        "*   Model accuracy is good, but precision & recall scores are bad\n",
        "*   This is sign of **class imbalance** problem\n",
        "*   We can use SMOTE technique to solve the class imbalance\n",
        "\n"
      ],
      "metadata": {
        "id": "fpVp1vlRx-i1"
      },
      "id": "fpVp1vlRx-i1"
    },
    {
      "cell_type": "code",
      "source": [
        "df['readmitted'].value_counts()"
      ],
      "metadata": {
        "colab": {
          "base_uri": "https://localhost:8080/"
        },
        "id": "mqS9sPIj4au6",
        "outputId": "4f7d5361-046b-42d0-ef37-9a424d02f504"
      },
      "id": "mqS9sPIj4au6",
      "execution_count": null,
      "outputs": [
        {
          "output_type": "execute_result",
          "data": {
            "text/plain": [
              "0    64163\n",
              "1     6250\n",
              "Name: readmitted, dtype: int64"
            ]
          },
          "metadata": {},
          "execution_count": 58
        }
      ]
    },
    {
      "cell_type": "markdown",
      "source": [
        "Above clearly we can see the imbalance in the classes\n"
      ],
      "metadata": {
        "id": "GVQ-zK1K4hWa"
      },
      "id": "GVQ-zK1K4hWa"
    },
    {
      "cell_type": "markdown",
      "source": [
        "##SMOTE for balancing data"
      ],
      "metadata": {
        "id": "QGopFu9Q47Gv"
      },
      "id": "QGopFu9Q47Gv"
    },
    {
      "cell_type": "code",
      "execution_count": null,
      "id": "7539a67a",
      "metadata": {
        "colab": {
          "base_uri": "https://localhost:8080/"
        },
        "id": "7539a67a",
        "outputId": "14c25519-5239-4bec-93df-0b3c9f065273"
      },
      "outputs": [
        {
          "output_type": "stream",
          "name": "stdout",
          "text": [
            "Original dataset shape Counter({0: 48122, 1: 4687})\n",
            "New dataset shape Counter({0: 48122, 1: 48122})\n"
          ]
        }
      ],
      "source": [
        "from imblearn.over_sampling import SMOTE\n",
        "from collections import Counter\n",
        "print('Original dataset shape {}'.format(Counter(y_train)))\n",
        "sm = SMOTE(random_state=20)\n",
        "train_input_new, train_output_new = sm.fit_resample(X_train, y_train)\n",
        "print('New dataset shape {}'.format(Counter(train_output_new)))"
      ]
    },
    {
      "cell_type": "markdown",
      "id": "17d3750b",
      "metadata": {
        "id": "17d3750b"
      },
      "source": [
        "### Creating new dataframe after SMOTE\n",
        "\n",
        "\n"
      ]
    },
    {
      "cell_type": "code",
      "execution_count": 60,
      "id": "ed41a5db",
      "metadata": {
        "id": "ed41a5db"
      },
      "outputs": [],
      "source": [
        "train_input_new = pd.DataFrame(train_input_new, columns=list(X.columns))"
      ]
    },
    {
      "cell_type": "markdown",
      "source": [
        "### Train/Test split from new dataframe"
      ],
      "metadata": {
        "id": "ipA1vETLt-zL"
      },
      "id": "ipA1vETLt-zL"
    },
    {
      "cell_type": "code",
      "source": [
        "X_train, X_test, y_train, y_test = train_test_split(train_input_new, train_output_new, test_size=0.25, random_state=110)"
      ],
      "metadata": {
        "id": "MwbEzRy0t9gJ"
      },
      "id": "MwbEzRy0t9gJ",
      "execution_count": 63,
      "outputs": []
    },
    {
      "cell_type": "markdown",
      "source": [
        "### Training again with Model 1: Logistic Regression"
      ],
      "metadata": {
        "id": "BfK4Yfrcu4Z5"
      },
      "id": "BfK4Yfrcu4Z5"
    },
    {
      "cell_type": "code",
      "execution_count": 64,
      "id": "d4c40c26",
      "metadata": {
        "id": "d4c40c26",
        "outputId": "0391fdc3-1269-4095-f85c-e8d4a87a4fee",
        "colab": {
          "base_uri": "https://localhost:8080/"
        }
      },
      "outputs": [
        {
          "output_type": "execute_result",
          "data": {
            "text/plain": [
              "LogisticRegression()"
            ]
          },
          "metadata": {},
          "execution_count": 64
        }
      ],
      "source": [
        "lg_model_2 = LogisticRegression()\n",
        "lg_model_2.fit(X_train, y_train)"
      ]
    },
    {
      "cell_type": "code",
      "source": [
        "y_pred2 = lg_model_2.predict(X_test)"
      ],
      "metadata": {
        "id": "yDjvVUaGvUYC"
      },
      "id": "yDjvVUaGvUYC",
      "execution_count": 67,
      "outputs": []
    },
    {
      "cell_type": "code",
      "source": [
        "print('Accuracy: ', accuracy_score(y_test, y_pred2))\n",
        "print('Precision: ', precision_score(y_test, y_pred2))\n",
        "print('Recall: ', recall_score(y_test, y_pred2))"
      ],
      "metadata": {
        "colab": {
          "base_uri": "https://localhost:8080/"
        },
        "id": "oz9xqd9IvUh3",
        "outputId": "34db7e69-21df-41dd-e7b8-a335a9457848"
      },
      "id": "oz9xqd9IvUh3",
      "execution_count": 68,
      "outputs": [
        {
          "output_type": "stream",
          "name": "stdout",
          "text": [
            "Accuracy:  0.6692988653838161\n",
            "Precision:  0.6667481662591687\n",
            "Recall:  0.6789775085069301\n"
          ]
        }
      ]
    },
    {
      "cell_type": "markdown",
      "source": [
        "**Conclusion:** \n",
        "\n",
        "**Model 1 - Logistic regression**\n",
        "\n",
        "\n",
        "*   Initial model testing showed high accuracy (>90%)\n",
        "*   But precison and recall scores were bad (0%)\n",
        "*   We found class imbalance problem, used SMOTE technique to balance the classes\n",
        "*   After SMOTE, precision and recall scores improved to 66%, but accuracy dropped from 90% to 67%\n",
        "\n"
      ],
      "metadata": {
        "id": "-UzWg6uivou7"
      },
      "id": "-UzWg6uivou7"
    },
    {
      "cell_type": "markdown",
      "id": "48ebbbbe",
      "metadata": {
        "id": "48ebbbbe"
      },
      "source": [
        "## Model 2: KNearest Neighbors Classifier"
      ]
    },
    {
      "cell_type": "code",
      "execution_count": 69,
      "id": "d3d4d7ae",
      "metadata": {
        "id": "d3d4d7ae",
        "outputId": "b9f7eba3-3061-4b5f-e213-0bd1206be87f",
        "colab": {
          "base_uri": "https://localhost:8080/"
        }
      },
      "outputs": [
        {
          "output_type": "stream",
          "name": "stdout",
          "text": [
            "Train score: 0.9185403765429533\n",
            "Test score: 0.8450189102697311\n"
          ]
        }
      ],
      "source": [
        "# Initial model (k=3)\n",
        "knn = KNeighborsClassifier(n_neighbors=3, n_jobs=-1)\n",
        "knn.fit(X_train, y_train)\n",
        "print('Train score:', knn.score(X_train, y_train))\n",
        "print('Test score:', knn.score(X_test, y_test))"
      ]
    },
    {
      "cell_type": "code",
      "execution_count": 70,
      "id": "74472c66",
      "metadata": {
        "id": "74472c66"
      },
      "outputs": [],
      "source": [
        "y_pred_knn = knn.predict(X_test)"
      ]
    },
    {
      "cell_type": "code",
      "source": [
        "print('Accuracy: ', accuracy_score(y_test, y_pred_knn))\n",
        "print('Precision: ', precision_score(y_test, y_pred_knn))\n",
        "print('Recall: ', recall_score(y_test, y_pred_knn))"
      ],
      "metadata": {
        "colab": {
          "base_uri": "https://localhost:8080/"
        },
        "id": "-gpAkQ7T1ysF",
        "outputId": "1aac0abf-3f0d-4176-d81a-b60ea647fe0e"
      },
      "id": "-gpAkQ7T1ysF",
      "execution_count": 72,
      "outputs": [
        {
          "output_type": "stream",
          "name": "stdout",
          "text": [
            "Accuracy:  0.8450189102697311\n",
            "Precision:  0.7710450873077925\n",
            "Recall:  0.9821561955348992\n"
          ]
        }
      ]
    },
    {
      "cell_type": "markdown",
      "source": [
        "\n",
        "*   With kNN model (n_neighbors=3), accuracy, precision  and recall scores were better than logistic regression model \n",
        "*   We can still optimize the n_neighbors parameter to improve results\n",
        "\n"
      ],
      "metadata": {
        "id": "Bxi-TYtPyiTE"
      },
      "id": "Bxi-TYtPyiTE"
    },
    {
      "cell_type": "markdown",
      "id": "f74b873f",
      "metadata": {
        "id": "f74b873f"
      },
      "source": [
        "### Finding the right 'k' neighbors values"
      ]
    },
    {
      "cell_type": "code",
      "execution_count": 74,
      "id": "e58230ec",
      "metadata": {
        "id": "e58230ec"
      },
      "outputs": [],
      "source": [
        "# Testing n_neighbors 1 to 10\n",
        "test_scores = []\n",
        "train_scores = []\n",
        "\n",
        "for k in range(1,10):\n",
        "    knn = KNeighborsClassifier(n_neighbors=k, n_jobs=-1)\n",
        "    knn.fit(X_train, y_train)\n",
        "    \n",
        "    train_scores.append(knn.score(X_train, y_train))\n",
        "    test_scores.append(knn.score(X_test, y_test))"
      ]
    },
    {
      "cell_type": "code",
      "execution_count": 76,
      "id": "1495c872",
      "metadata": {
        "id": "1495c872",
        "outputId": "843fe170-30bc-4036-8cbd-a17996ffca74",
        "colab": {
          "base_uri": "https://localhost:8080/"
        }
      },
      "outputs": [
        {
          "output_type": "stream",
          "name": "stdout",
          "text": [
            "   train_scores  test_scores\n",
            "k                           \n",
            "1      0.999945     0.883463\n",
            "2      0.987920     0.888118\n",
            "3      0.918540     0.845019\n",
            "4      0.927351     0.856864\n",
            "5      0.876855     0.819500\n",
            "6      0.888741     0.831096\n",
            "7      0.848288     0.798678\n",
            "8      0.860507     0.809941\n",
            "9      0.826455     0.781638\n"
          ]
        }
      ],
      "source": [
        "# Printing the scores according to k\n",
        "knn_scores = pd.DataFrame({'train_scores':train_scores, 'test_scores':test_scores})\n",
        "knn_scores['k'] = list(range(1,10))\n",
        "knn_scores.set_index('k', inplace=True)\n",
        "print(knn_scores)"
      ]
    },
    {
      "cell_type": "markdown",
      "source": [
        "### Plotting the train and test scores by n_neighbors"
      ],
      "metadata": {
        "id": "Cb974WBHBPSu"
      },
      "id": "Cb974WBHBPSu"
    },
    {
      "cell_type": "code",
      "source": [
        "plt.figure()\n",
        "sns.lineplot(range(1,10),train_scores,marker='*',label='Train Score')\n",
        "sns.lineplot(range(1,10),test_scores,marker='o',label='Test Score')\n",
        "plt.xlabel('n_neighbors')\n",
        "plt.ylabel('Accuracy score')\n",
        "plt.title('kNN - Model performance by n_neighbors')\n",
        "plt.show()"
      ],
      "metadata": {
        "colab": {
          "base_uri": "https://localhost:8080/",
          "height": 296
        },
        "id": "h5K2_j_XBJlw",
        "outputId": "58224aba-ffdc-4923-b76d-a7f09e3a6b3b"
      },
      "id": "h5K2_j_XBJlw",
      "execution_count": 81,
      "outputs": [
        {
          "output_type": "display_data",
          "data": {
            "image/png": "[encoded data removed]",
            "text/plain": [
              "<Figure size 432x288 with 1 Axes>"
            ]
          },
          "metadata": {
            "needs_background": "light"
          }
        }
      ]
    },
    {
      "cell_type": "markdown",
      "source": [
        "**Results:**\n",
        "\n",
        "From the above plot,\n",
        "\n",
        "*   When number of neighbors increases accuracy score decreases in both train and test sets\n",
        "*   **n_neighbors=2** gave highest train and test accuracy score, but it will be highly underfitting our model\n",
        "*   So, **n_neighbors = 4** might be right parameter as it has good bias/variance trade-off with **train accuracy: 92%, test accuracy: 85%**\n",
        "\n"
      ],
      "metadata": {
        "id": "OyC4wTRHCMLT"
      },
      "id": "OyC4wTRHCMLT"
    },
    {
      "cell_type": "code",
      "source": [
        "# neighbors = 4 kNN model training\n",
        "knn4 = KNeighborsClassifier(n_neighbors=4, n_jobs=-1)\n",
        "knn4.fit(X_train, y_train)\n",
        "y_pred_knn4 = knn4.predict(X_test)"
      ],
      "metadata": {
        "id": "mS_b5Jj-Wvzf"
      },
      "id": "mS_b5Jj-Wvzf",
      "execution_count": 87,
      "outputs": []
    },
    {
      "cell_type": "code",
      "source": [
        "print('Accuracy: ', accuracy_score(y_test, y_pred_knn4))\n",
        "print('Precision: ', precision_score(y_test, y_pred_knn4))\n",
        "print('Recall: ', recall_score(y_test, y_pred_knn4))"
      ],
      "metadata": {
        "colab": {
          "base_uri": "https://localhost:8080/"
        },
        "id": "ngL2g8XiceYr",
        "outputId": "5a0b2fe1-9d11-44ff-df6d-806e6e8c2fce"
      },
      "id": "ngL2g8XiceYr",
      "execution_count": 99,
      "outputs": [
        {
          "output_type": "stream",
          "name": "stdout",
          "text": [
            "Accuracy:  0.8568638044969037\n",
            "Precision:  0.7962542174481856\n",
            "Recall:  0.9597476969043074\n"
          ]
        }
      ]
    },
    {
      "cell_type": "code",
      "source": [
        "# Classification report - kNN\n",
        "cr_knn = classification_report(y_test, y_pred_knn4)\n",
        "print(cr_knn)"
      ],
      "metadata": {
        "colab": {
          "base_uri": "https://localhost:8080/"
        },
        "id": "imfmlyFgXwSP",
        "outputId": "45b7be96-5988-4fdb-c8dc-11b8b52ae4df"
      },
      "id": "imfmlyFgXwSP",
      "execution_count": 88,
      "outputs": [
        {
          "output_type": "stream",
          "name": "stdout",
          "text": [
            "              precision    recall  f1-score   support\n",
            "\n",
            "           0       0.95      0.75      0.84     12012\n",
            "           1       0.80      0.96      0.87     12049\n",
            "\n",
            "    accuracy                           0.86     24061\n",
            "   macro avg       0.87      0.86      0.86     24061\n",
            "weighted avg       0.87      0.86      0.86     24061\n",
            "\n"
          ]
        }
      ]
    },
    {
      "cell_type": "code",
      "source": [
        "# Confusion matrix\n",
        "knn_matrix = confusion_matrix(y_test, y_pred_knn4)\n",
        "knn_df = pd.DataFrame(knn_matrix)\n",
        "knn_df['Confusion matrix'] = ['Predicted = Yes', 'Predicted = No']\n",
        "knn_df.set_index('Confusion matrix', inplace=True)\n",
        "knn_df.rename(columns={0:'Actual = Yes', 1:'Actual = No'}, inplace=True)\n",
        "knn_df"
      ],
      "metadata": {
        "colab": {
          "base_uri": "https://localhost:8080/",
          "height": 149
        },
        "id": "BNi2_aa7XwVR",
        "outputId": "b96b22c5-7459-4de5-fb9f-4d482ed77111"
      },
      "id": "BNi2_aa7XwVR",
      "execution_count": 98,
      "outputs": [
        {
          "output_type": "execute_result",
          "data": {
            "text/html": [
              "\n",
              "  <div id=\"df-93011061-c698-468f-b527-28db3aa3d726\">\n",
              "    <div class=\"colab-df-container\">\n",
              "      <div>\n",
              "<style scoped>\n",
              "    .dataframe tbody tr th:only-of-type {\n",
              "        vertical-align: middle;\n",
              "    }\n",
              "\n",
              "    .dataframe tbody tr th {\n",
              "        vertical-align: top;\n",
              "    }\n",
              "\n",
              "    .dataframe thead th {\n",
              "        text-align: right;\n",
              "    }\n",
              "</style>\n",
              "<table border=\"1\" class=\"dataframe\">\n",
              "  <thead>\n",
              "    <tr style=\"text-align: right;\">\n",
              "      <th></th>\n",
              "      <th>Actual = Yes</th>\n",
              "      <th>Actual = No</th>\n",
              "    </tr>\n",
              "    <tr>\n",
              "      <th>Confusion matrix</th>\n",
              "      <th></th>\n",
              "      <th></th>\n",
              "    </tr>\n",
              "  </thead>\n",
              "  <tbody>\n",
              "    <tr>\n",
              "      <th>Predicted = Yes</th>\n",
              "      <td>9053</td>\n",
              "      <td>2959</td>\n",
              "    </tr>\n",
              "    <tr>\n",
              "      <th>Predicted = No</th>\n",
              "      <td>485</td>\n",
              "      <td>11564</td>\n",
              "    </tr>\n",
              "  </tbody>\n",
              "</table>\n",
              "</div>\n",
              "      <button class=\"colab-df-convert\" onclick=\"convertToInteractive('df-93011061-c698-468f-b527-28db3aa3d726')\"\n",
              "              title=\"Convert this dataframe to an interactive table.\"\n",
              "              style=\"display:none;\">\n",
              "        \n",
              "  <svg xmlns=\"http://www.w3.org/2000/svg\" height=\"24px\"viewBox=\"0 0 24 24\"\n",
              "       width=\"24px\">\n",
              "    <path d=\"M0 0h24v24H0V0z\" fill=\"none\"/>\n",
              "    <path d=\"M18.56 5.44l.94 2.06.94-2.06 2.06-.94-2.06-.94-.94-2.06-.94 2.06-2.06.94zm-11 1L8.5 8.5l.94-2.06 2.06-.94-2.06-.94L8.5 2.5l-.94 2.06-2.06.94zm10 10l.94 2.06.94-2.06 2.06-.94-2.06-.94-.94-2.06-.94 2.06-2.06.94z\"/><path d=\"M17.41 7.96l-1.37-1.37c-.4-.4-.92-.59-1.43-.59-.52 0-1.04.2-1.43.59L10.3 9.45l-7.72 7.72c-.78.78-.78 2.05 0 2.83L4 21.41c.39.39.9.59 1.41.59.51 0 1.02-.2 1.41-.59l7.78-7.78 2.81-2.81c.8-.78.8-2.07 0-2.86zM5.41 20L4 18.59l7.72-7.72 1.47 1.35L5.41 20z\"/>\n",
              "  </svg>\n",
              "      </button>\n",
              "      \n",
              "  <style>\n",
              "    .colab-df-container {\n",
              "      display:flex;\n",
              "      flex-wrap:wrap;\n",
              "      gap: 12px;\n",
              "    }\n",
              "\n",
              "    .colab-df-convert {\n",
              "      background-color: #E8F0FE;\n",
              "      border: none;\n",
              "      border-radius: 50%;\n",
              "      cursor: pointer;\n",
              "      display: none;\n",
              "      fill: #1967D2;\n",
              "      height: 32px;\n",
              "      padding: 0 0 0 0;\n",
              "      width: 32px;\n",
              "    }\n",
              "\n",
              "    .colab-df-convert:hover {\n",
              "      background-color: #E2EBFA;\n",
              "      box-shadow: 0px 1px 2px rgba(60, 64, 67, 0.3), 0px 1px 3px 1px rgba(60, 64, 67, 0.15);\n",
              "      fill: #174EA6;\n",
              "    }\n",
              "\n",
              "    [theme=dark] .colab-df-convert {\n",
              "      background-color: #3B4455;\n",
              "      fill: #D2E3FC;\n",
              "    }\n",
              "\n",
              "    [theme=dark] .colab-df-convert:hover {\n",
              "      background-color: #434B5C;\n",
              "      box-shadow: 0px 1px 3px 1px rgba(0, 0, 0, 0.15);\n",
              "      filter: drop-shadow(0px 1px 2px rgba(0, 0, 0, 0.3));\n",
              "      fill: #FFFFFF;\n",
              "    }\n",
              "  </style>\n",
              "\n",
              "      <script>\n",
              "        const buttonEl =\n",
              "          document.querySelector('#df-93011061-c698-468f-b527-28db3aa3d726 button.colab-df-convert');\n",
              "        buttonEl.style.display =\n",
              "          google.colab.kernel.accessAllowed ? 'block' : 'none';\n",
              "\n",
              "        async function convertToInteractive(key) {\n",
              "          const element = document.querySelector('#df-93011061-c698-468f-b527-28db3aa3d726');\n",
              "          const dataTable =\n",
              "            await google.colab.kernel.invokeFunction('convertToInteractive',\n",
              "                                                     [key], {});\n",
              "          if (!dataTable) return;\n",
              "\n",
              "          const docLinkHtml = 'Like what you see? Visit the ' +\n",
              "            '<a target=\"_blank\" href=https://colab.research.google.com/notebooks/data_table.ipynb>data table notebook</a>'\n",
              "            + ' to learn more about interactive tables.';\n",
              "          element.innerHTML = '';\n",
              "          dataTable['output_type'] = 'display_data';\n",
              "          await google.colab.output.renderOutput(dataTable, element);\n",
              "          const docLink = document.createElement('div');\n",
              "          docLink.innerHTML = docLinkHtml;\n",
              "          element.appendChild(docLink);\n",
              "        }\n",
              "      </script>\n",
              "    </div>\n",
              "  </div>\n",
              "  "
            ],
            "text/plain": [
              "                  Actual = Yes  Actual = No\n",
              "Confusion matrix                           \n",
              "Predicted = Yes           9053         2959\n",
              "Predicted = No             485        11564"
            ]
          },
          "metadata": {},
          "execution_count": 98
        }
      ]
    },
    {
      "cell_type": "markdown",
      "source": [
        "**Conclusion:**\n",
        "\n",
        "**Model 2: k-Nearest Neighbors**\n",
        "\n",
        "Initial model with **n_neighbors=3** gave decent preformance metrics, After optimizing the right number of neighbors, we chose **n_neighbors=4**.\n",
        "\n",
        "**Score comparison:**\n",
        "*   n_neighbors=3 gave, (Accuracy/Precision/Recall: **0.84/0.77/0.98**)\n",
        "*   n_neighbors=4 gave, (Accuracy/Precision/Recall: **0.85/0.79/0.96**)\n",
        "\n",
        "Very small improvement in scores were seen between neighbors 3 and 4."
      ],
      "metadata": {
        "id": "mhKEaxDJcAyi"
      },
      "id": "mhKEaxDJcAyi"
    },
    {
      "cell_type": "markdown",
      "source": [
        "## Model 3: Gradient Boosting Classifier"
      ],
      "metadata": {
        "id": "2IScFDZa3-58"
      },
      "id": "2IScFDZa3-58"
    },
    {
      "cell_type": "code",
      "source": [
        "gb_model = GradientBoostingClassifier(n_estimators=100, learning_rate=0.1, max_depth=3, random_state=110)\n",
        "gb_model.fit(X_train, y_train)"
      ],
      "metadata": {
        "colab": {
          "base_uri": "https://localhost:8080/"
        },
        "id": "yvTjuakT34If",
        "outputId": "e1c66cc3-d846-4e08-afca-99d517262445"
      },
      "id": "yvTjuakT34If",
      "execution_count": 75,
      "outputs": [
        {
          "output_type": "execute_result",
          "data": {
            "text/plain": [
              "GradientBoostingClassifier(random_state=110)"
            ]
          },
          "metadata": {},
          "execution_count": 75
        }
      ]
    },
    {
      "cell_type": "code",
      "source": [
        "print('Accuracy score (training): ', gb_model.score(X_train, y_train))\n",
        "print('Accuracy score (test): ', gb_model.score(X_test,y_test))"
      ],
      "metadata": {
        "colab": {
          "base_uri": "https://localhost:8080/"
        },
        "id": "UHrYSDrc9GRY",
        "outputId": "8bbfc5ff-d90d-4bb9-e3d2-b4a932ce2e07"
      },
      "id": "UHrYSDrc9GRY",
      "execution_count": 85,
      "outputs": [
        {
          "output_type": "stream",
          "name": "stdout",
          "text": [
            "Accuracy score (training):  0.9133591011734065\n",
            "Accuracy score (test):  0.9128465151074353\n"
          ]
        }
      ]
    },
    {
      "cell_type": "markdown",
      "source": [
        "\n",
        "\n",
        "*   Best training and test scores compared to previous two models\n",
        "*   Multiple learning rates can be checked\n",
        "\n",
        "\n",
        "**Testing multiple learning rates**"
      ],
      "metadata": {
        "id": "fg8bW6IwgF9J"
      },
      "id": "fg8bW6IwgF9J"
    },
    {
      "cell_type": "code",
      "source": [
        "learning_rates = [0.05, 0.1, 0.25, 0.5, 0.75, 1]\n",
        "\n",
        "for learning_rate in learning_rates:\n",
        "    gb_model = GradientBoostingClassifier(n_estimators=100, learning_rate=learning_rate, max_depth=3, random_state=110)\n",
        "    gb_model.fit(X_train, y_train)\n",
        "    print(\"Learning rate: \", learning_rate)\n",
        "    print('Accuracy score (training): ', gb_model.score(X_train, y_train))\n",
        "    print('Accuracy score (test): ', gb_model.score(X_test,y_test))"
      ],
      "metadata": {
        "colab": {
          "base_uri": "https://localhost:8080/"
        },
        "id": "7C2ip7Ozf70r",
        "outputId": "d48fa228-ea82-4098-b0f7-cfaef4ca6aa8"
      },
      "id": "7C2ip7Ozf70r",
      "execution_count": 103,
      "outputs": [
        {
          "output_type": "stream",
          "name": "stdout",
          "text": [
            "Learning rate:  0.05\n",
            "Accuracy score (training):  0.8888657994264577\n",
            "Accuracy score (test):  0.888159261876065\n",
            "Learning rate:  0.1\n",
            "Accuracy score (training):  0.9133591011734065\n",
            "Accuracy score (test):  0.9128465151074353\n",
            "Learning rate:  0.25\n",
            "Accuracy score (training):  0.9284319022484518\n",
            "Accuracy score (test):  0.926686338888658\n",
            "Learning rate:  0.5\n",
            "Accuracy score (training):  0.9380740617596941\n",
            "Accuracy score (test):  0.9366194256265326\n",
            "Learning rate:  0.75\n",
            "Accuracy score (training):  0.9421054819001704\n",
            "Accuracy score (test):  0.9384065500187024\n",
            "Learning rate:  1\n",
            "Accuracy score (training):  0.9449177784242827\n",
            "Accuracy score (test):  0.9402767964756245\n"
          ]
        }
      ]
    },
    {
      "cell_type": "markdown",
      "source": [
        "------------------------------------------------------------\n",
        "\n",
        "Best learning rate: 1, with train and test accuracy: 94%\n",
        "\n",
        "------------------------------------------------------------\n",
        "\n",
        "**Applying the best learning rate in Gradient Boost Model**"
      ],
      "metadata": {
        "id": "Uf-FiJDViUY7"
      },
      "id": "Uf-FiJDViUY7"
    },
    {
      "cell_type": "code",
      "source": [
        "gb_final = GradientBoostingClassifier(n_estimators=100, learning_rate=1, max_depth=3, random_state=110)\n",
        "gb_final.fit(X_train, y_train)\n",
        "y_pred_gb = gb_final.predict(X_test)"
      ],
      "metadata": {
        "id": "vZ8GGCNVf7oF"
      },
      "id": "vZ8GGCNVf7oF",
      "execution_count": 104,
      "outputs": []
    },
    {
      "cell_type": "code",
      "source": [
        "print('Accuracy: ', accuracy_score(y_test, y_pred_gb))\n",
        "print('Precision: ', precision_score(y_test, y_pred_gb))\n",
        "print('Recall: ', recall_score(y_test, y_pred_gb))"
      ],
      "metadata": {
        "colab": {
          "base_uri": "https://localhost:8080/"
        },
        "id": "CaFBnT9svcYg",
        "outputId": "415a3e34-783c-4485-809e-774821844c8a"
      },
      "id": "CaFBnT9svcYg",
      "execution_count": 122,
      "outputs": [
        {
          "output_type": "stream",
          "name": "stdout",
          "text": [
            "Accuracy:  0.9402767964756245\n",
            "Precision:  0.9913872939433228\n",
            "Recall:  0.8884554734832766\n"
          ]
        }
      ]
    },
    {
      "cell_type": "code",
      "source": [
        "# classification report - Gradient Boosting Model\n",
        "cm_gb = classification_report(y_test, y_pred_gb)\n",
        "print(cm_gb)"
      ],
      "metadata": {
        "colab": {
          "base_uri": "https://localhost:8080/"
        },
        "id": "k-cKTQNXf7aO",
        "outputId": "3a311e5f-f7fd-4254-d2dc-45461cae5598"
      },
      "id": "k-cKTQNXf7aO",
      "execution_count": 105,
      "outputs": [
        {
          "output_type": "stream",
          "name": "stdout",
          "text": [
            "              precision    recall  f1-score   support\n",
            "\n",
            "           0       0.90      0.99      0.94     12012\n",
            "           1       0.99      0.89      0.94     12049\n",
            "\n",
            "    accuracy                           0.94     24061\n",
            "   macro avg       0.95      0.94      0.94     24061\n",
            "weighted avg       0.95      0.94      0.94     24061\n",
            "\n"
          ]
        }
      ]
    },
    {
      "cell_type": "markdown",
      "source": [
        "**ROC curve for the Gradient Boosting Model:**"
      ],
      "metadata": {
        "id": "o1nPc7ARkh90"
      },
      "id": "o1nPc7ARkh90"
    },
    {
      "cell_type": "code",
      "source": [
        "import sklearn.metrics as metrics"
      ],
      "metadata": {
        "id": "tMKWqvTdf7Rj"
      },
      "id": "tMKWqvTdf7Rj",
      "execution_count": 117,
      "outputs": []
    },
    {
      "cell_type": "code",
      "source": [
        "# Defining the metrics\n",
        "fpr, tpr, threshold = metrics.roc_curve(y_test, y_pred_gb)\n",
        "auc = metrics.roc_auc_score(y_test, y_pred_gb)\n",
        "\n",
        "# Creating the ROC curve\n",
        "plt.plot(fpr, tpr, linestyle='--', label='AUC = '+str(auc), color='red')\n",
        "plt.xlabel('False Positive Rate')\n",
        "plt.ylabel('True Positive Rate')\n",
        "plt.title('ROC curve - Gradient boosting')\n",
        "plt.legend(loc=4)\n",
        "plt.show()"
      ],
      "metadata": {
        "colab": {
          "base_uri": "https://localhost:8080/",
          "height": 295
        },
        "id": "GcyroggvnX4p",
        "outputId": "d7bfe439-a938-4b7d-b0fc-2404aa5eb47e"
      },
      "id": "GcyroggvnX4p",
      "execution_count": 121,
      "outputs": [
        {
          "output_type": "display_data",
          "data": {
            "image/png": "[encoded data removed]",
            "text/plain": [
              "<Figure size 432x288 with 1 Axes>"
            ]
          },
          "metadata": {
            "needs_background": "light"
          }
        }
      ]
    },
    {
      "cell_type": "markdown",
      "source": [
        "**Results:**\n",
        "\n",
        "**Model 3: Gradient Boosting Classifier**\n",
        "\n",
        "\n",
        "*   Among all models, model 3 gave **highest training and test accuracy scores of 94%**\n",
        "*   Mean **precision scores were >90%**\n",
        "*   Mean **recall scores were >89%**"
      ],
      "metadata": {
        "id": "21BA66ZrsIjk"
      },
      "id": "21BA66ZrsIjk"
    },
    {
      "cell_type": "markdown",
      "source": [
        "## Model comparison"
      ],
      "metadata": {
        "id": "NIJx0KoytCBF"
      },
      "id": "NIJx0KoytCBF"
    },
    {
      "cell_type": "code",
      "source": [
        "# Logistic regression scores\n",
        "accuracy_log_reg = accuracy_score(y_test, y_pred2)\n",
        "precision_log_reg = precision_score(y_test, y_pred2)\n",
        "recall_log_reg = recall_score(y_test, y_pred2)\n",
        "\n",
        "# kNN scores\n",
        "accuracy_knn = accuracy_score(y_test, y_pred_knn4)\n",
        "precision_knn = precision_score(y_test, y_pred_knn4)\n",
        "recall_knn = recall_score(y_test, y_pred_knn4)\n",
        "\n",
        "# Gradient boosting scores\n",
        "accuracy_gb = accuracy_score(y_test, y_pred_gb)\n",
        "precision_gb = precision_score(y_test, y_pred_gb)\n",
        "recall_gb = recall_score(y_test, y_pred_gb)"
      ],
      "metadata": {
        "id": "c6A72iDttQHJ"
      },
      "id": "c6A72iDttQHJ",
      "execution_count": 123,
      "outputs": []
    },
    {
      "cell_type": "code",
      "source": [
        "# Plotting the scores of all models\n",
        "\n",
        "plt.figure(figsize=(10,5))\n",
        "ax = plt.subplot(111)\n",
        "\n",
        "# Accuracy\n",
        "models = ['Logistic Regression', 'k-Nearest Neighbors', 'Gradient Boosting']\n",
        "values = [accuracy_log_reg, accuracy_knn, accuracy_gb]\n",
        "model = np.arange(len(models))\n",
        "\n",
        "plt.bar(model, values, align='center', width = 0.15, alpha=0.7, color = 'red', label= 'Accuracy')\n",
        "plt.xticks(model, models)\n",
        "           \n",
        "\n",
        "# Precision           \n",
        "ax = plt.subplot(111)\n",
        "\n",
        "models = ['Logistic Regression', 'k-Nearest Neighbors', 'Gradient Boosting']\n",
        "values = [precision_log_reg, precision_knn, precision_gb]\n",
        "model = np.arange(len(models))\n",
        "\n",
        "plt.bar(model+0.15, values, align='center', width = 0.15, alpha=0.7, color = 'blue', label = 'Precision')\n",
        "plt.xticks(model, models)\n",
        "\n",
        "\n",
        "# Recall\n",
        "ax = plt.subplot(111)\n",
        "\n",
        "models = ['Logistic Regression', 'k-Nearest Neighbors', 'Gradient Boosting']\n",
        "values = [recall_log_reg, recall_knn, recall_gb]\n",
        "model = np.arange(len(models))\n",
        "\n",
        "plt.bar(model+0.3, values, align='center', width = 0.15, alpha=0.7, color = 'green', label = 'Recall')\n",
        "plt.xticks(model, models)\n",
        "\n",
        "\n",
        "\n",
        "plt.ylabel('Performance Metrics for Different models')\n",
        "plt.title('Diabetes Readmission Prediction')\n",
        "    \n",
        "# removing the axis on the top and right of the plot window\n",
        "ax.spines['right'].set_visible(False)\n",
        "ax.spines['top'].set_visible(False)\n",
        "ax.legend()\n",
        "\n",
        "plt.show()           "
      ],
      "metadata": {
        "colab": {
          "base_uri": "https://localhost:8080/",
          "height": 336
        },
        "id": "d__TdKUjtQJx",
        "outputId": "8e51417a-42ea-48cb-95ad-cf8ced69c0ec"
      },
      "id": "d__TdKUjtQJx",
      "execution_count": 126,
      "outputs": [
        {
          "output_type": "display_data",
          "data": {
            "image/png": "[encoded data removed]",
            "text/plain": [
              "<Figure size 720x360 with 1 Axes>"
            ]
          },
          "metadata": {
            "needs_background": "light"
          }
        }
      ]
    },
    {
      "cell_type": "markdown",
      "source": [
        "## Model Selection:\n",
        "\n",
        "\n",
        "\n",
        "*   kNN and gradient boosting models have similar scores\n",
        "*   But gradient boosting has high precision score than kNN \n",
        "*   Also kNN model is computationally expensive \n",
        "*   So, we will select **Gradient Boosting Classifier** for our final model optimization\n",
        "\n"
      ],
      "metadata": {
        "id": "XRTlN2xcyDQN"
      },
      "id": "XRTlN2xcyDQN"
    },
    {
      "cell_type": "markdown",
      "id": "3f02644f",
      "metadata": {
        "id": "3f02644f"
      },
      "source": [
        "### Hyperparameter tuning\n",
        "\n",
        "**RandomizedSearch CV**\n",
        "\n",
        "We can tune gradient boosting parameters using RandomizedSearchCV function because computaionally less expensive, faster and saves runtime. Also, produces very close results to GridSearchCV function."
      ]
    },
    {
      "cell_type": "code",
      "execution_count": 133,
      "id": "71e86726",
      "metadata": {
        "id": "71e86726",
        "colab": {
          "base_uri": "https://localhost:8080/"
        },
        "outputId": "94e39e94-926f-4c7c-de77-10c7676a7c2a"
      },
      "outputs": [
        {
          "output_type": "execute_result",
          "data": {
            "text/plain": [
              "{'learning_rate': 1, 'max_depth': 2, 'n_estimators': 400}"
            ]
          },
          "metadata": {},
          "execution_count": 133
        }
      ],
      "source": [
        "from sklearn.model_selection import RandomizedSearchCV\n",
        "# number of trees\n",
        "n_estimators = range(100, 500, 100)\n",
        "\n",
        "# maximum depth of trees\n",
        "max_depth = range(1,5,1)\n",
        "\n",
        "# learning rate\n",
        "learning_rate = [1]     # already optimized\n",
        "\n",
        "# random search grid\n",
        "random_search_grid = {'n_estimators': n_estimators, 'max_depth': max_depth, 'learning_rate': learning_rate}\n",
        "\n",
        "# model\n",
        "gbc = GradientBoostingClassifier()\n",
        "\n",
        "# scorer\n",
        "from sklearn.metrics import make_scorer\n",
        "auc_scoring = make_scorer(roc_auc_score)\n",
        "\n",
        "# randomCV tuning\n",
        "randomCV_gbc = RandomizedSearchCV(estimator = gbc, param_distributions = random_search_grid, cv=5, scoring=auc_scoring, random_state=110)\n",
        "\n",
        "randomCV_gbc.fit(X_train, y_train)\n",
        "randomCV_gbc.best_params_"
      ]
    },
    {
      "cell_type": "markdown",
      "source": [
        "Best parameters by RandomSearchCV:\n",
        "* learning_rate: 1 \n",
        "* max_depth: 2 \n",
        "* n_estimators: 400\n",
        "\n",
        "\n",
        "\n"
      ],
      "metadata": {
        "id": "zteTqLr9f6dB"
      },
      "id": "zteTqLr9f6dB"
    },
    {
      "cell_type": "markdown",
      "source": [
        "## Final Model: Best Classifier"
      ],
      "metadata": {
        "id": "3Xbx0IabgRGr"
      },
      "id": "3Xbx0IabgRGr"
    },
    {
      "cell_type": "code",
      "source": [
        "# Gradient Boosting Classifier\n",
        "final_model = GradientBoostingClassifier(n_estimators=400, learning_rate=1, max_depth=2, random_state=110)\n",
        "final_model.fit(X_train, y_train)\n",
        "y_pred = final_model.predict(X_test)"
      ],
      "metadata": {
        "id": "RS6ABwP3WMRi"
      },
      "id": "RS6ABwP3WMRi",
      "execution_count": 134,
      "outputs": []
    },
    {
      "cell_type": "code",
      "source": [
        "print('Accuracy: ', accuracy_score(y_test, y_pred))\n",
        "print('Precision: ', precision_score(y_test, y_pred))\n",
        "print('Recall: ', recall_score(y_test, y_pred))"
      ],
      "metadata": {
        "colab": {
          "base_uri": "https://localhost:8080/"
        },
        "id": "ne-Nx3BuhQpx",
        "outputId": "e35638b6-82d5-4a45-9cbb-c8dda2772bc6"
      },
      "id": "ne-Nx3BuhQpx",
      "execution_count": 135,
      "outputs": [
        {
          "output_type": "stream",
          "name": "stdout",
          "text": [
            "Accuracy:  0.9425210922239309\n",
            "Precision:  0.9927924598041028\n",
            "Recall:  0.8916922566188066\n"
          ]
        }
      ]
    },
    {
      "cell_type": "code",
      "source": [
        "# classification report - Final GB Model\n",
        "final_cm = classification_report(y_test, y_pred)\n",
        "print(final_cm)"
      ],
      "metadata": {
        "colab": {
          "base_uri": "https://localhost:8080/"
        },
        "id": "pb8URfUKhyN6",
        "outputId": "10d8a3ca-6ba5-41b3-8728-e79c329f8e2f"
      },
      "id": "pb8URfUKhyN6",
      "execution_count": 136,
      "outputs": [
        {
          "output_type": "stream",
          "name": "stdout",
          "text": [
            "              precision    recall  f1-score   support\n",
            "\n",
            "           0       0.90      0.99      0.95     12012\n",
            "           1       0.99      0.89      0.94     12049\n",
            "\n",
            "    accuracy                           0.94     24061\n",
            "   macro avg       0.95      0.94      0.94     24061\n",
            "weighted avg       0.95      0.94      0.94     24061\n",
            "\n"
          ]
        }
      ]
    },
    {
      "cell_type": "markdown",
      "source": [
        "**Comparison of baseline and optimized scores after hyperparameter tuning**"
      ],
      "metadata": {
        "id": "TpIG5a6FjZ8i"
      },
      "id": "TpIG5a6FjZ8i"
    },
    {
      "cell_type": "code",
      "source": [
        "# Baseline scores\n",
        "accuracy_base = accuracy_score(y_test, y_pred_gb)\n",
        "precision_base = precision_score(y_test, y_pred_gb)\n",
        "recall_base = recall_score(y_test, y_pred_gb)\n",
        "\n",
        "# Optimized scores\n",
        "accuracy_tuned = accuracy_score(y_test, y_pred)\n",
        "precision_tuned = precision_score(y_test, y_pred)\n",
        "recall_tuned = recall_score(y_test, y_pred)\n",
        "\n",
        "# Plotting the scores \n",
        "plt.figure(figsize=(10,5))\n",
        "axis = plt.subplot(111)\n",
        "\n",
        "# Accuracy\n",
        "models = ['Baseline', 'Optimized']\n",
        "values = [accuracy_base, accuracy_tuned]\n",
        "model = np.arange(len(models))\n",
        "\n",
        "plt.bar(model, values, align='center', width = 0.15, alpha=0.7, color = 'red', label= 'Accuracy')\n",
        "plt.xticks(model, models)\n",
        "           \n",
        "\n",
        "# Precision           \n",
        "ax = plt.subplot(111)\n",
        "\n",
        "models = ['Baseline', 'Optimized']\n",
        "values = [precision_base, precision_tuned]\n",
        "model = np.arange(len(models))\n",
        "\n",
        "plt.bar(model+0.15, values, align='center', width = 0.15, alpha=0.7, color = 'blue', label = 'Precision')\n",
        "plt.xticks(model, models)\n",
        "\n",
        "\n",
        "# Recall\n",
        "ax = plt.subplot(111)\n",
        "\n",
        "models = ['Baseline', 'Optimized']\n",
        "values = [recall_base, recall_tuned]\n",
        "model = np.arange(len(models))\n",
        "\n",
        "plt.bar(model+0.3, values, align='center', width = 0.15, alpha=0.7, color = 'green', label = 'Recall')\n",
        "plt.xticks(model, models)\n",
        "\n",
        "\n",
        "\n",
        "plt.ylabel('Performance Metrics comparison')\n",
        "plt.title('Final model - Gradient Boosting Classifier')\n",
        "    \n",
        "# removing the axis on the top and right of the plot window\n",
        "ax.spines['right'].set_visible(True)\n",
        "ax.spines['top'].set_visible(True)\n",
        "ax.legend()\n",
        "\n",
        "plt.show()           "
      ],
      "metadata": {
        "colab": {
          "base_uri": "https://localhost:8080/",
          "height": 336
        },
        "id": "sbvI9y_diOcC",
        "outputId": "b7729d87-bfec-400f-9988-7674eec643f3"
      },
      "id": "sbvI9y_diOcC",
      "execution_count": 141,
      "outputs": [
        {
          "output_type": "display_data",
          "data": {
            "image/png": "[encoded data removed]",
            "text/plain": [
              "<Figure size 720x360 with 1 Axes>"
            ]
          },
          "metadata": {
            "needs_background": "light"
          }
        }
      ]
    },
    {
      "cell_type": "markdown",
      "source": [
        "# Summary\n",
        "\n",
        "* Gradient Boosting classifier has been idenfied as best classifier for this dataset.\n",
        "* It gave accuracy = 94%, precision = 99%, recall = 89%"
      ],
      "metadata": {
        "id": "hQYrufi5ls82"
      },
      "id": "hQYrufi5ls82"
    },
    {
      "cell_type": "code",
      "source": [
        ""
      ],
      "metadata": {
        "id": "y19DWOsTl-_R"
      },
      "id": "y19DWOsTl-_R",
      "execution_count": null,
      "outputs": []
    }
  ],
  "metadata": {
    "kernelspec": {
      "display_name": "Python 3",
      "language": "python",
      "name": "python3"
    },
    "language_info": {
      "codemirror_mode": {
        "name": "ipython",
        "version": 3
      },
      "file_extension": ".py",
      "mimetype": "text/x-python",
      "name": "python",
      "nbconvert_exporter": "python",
      "pygments_lexer": "ipython3",
      "version": "3.9.4"
    },
    "colab": {
      "name": "Modeling - Capstone 2 - Rayees.ipynb",
      "provenance": [],
      "collapsed_sections": [],
      "machine_shape": "hm"
    }
  },
  "nbformat": 4,
  "nbformat_minor": 5
}