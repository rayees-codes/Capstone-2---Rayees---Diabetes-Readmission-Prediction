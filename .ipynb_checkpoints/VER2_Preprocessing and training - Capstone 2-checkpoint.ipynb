{
 "cells": [
  {
   "cell_type": "markdown",
   "id": "fcf67ac2",
   "metadata": {},
   "source": [
    "# Capstone 2 - Diabetes Patients’ Readmission Prediction\n",
    "\n",
    "## Preprocessing and training\n",
    "\n",
    "Code written by: Rayees Ahamed"
   ]
  },
  {
   "cell_type": "markdown",
   "id": "31f7859e",
   "metadata": {},
   "source": [
    "**Steps:**\n",
    "\n",
    "1. Feature engineering - new features from existing columns (e.g. column1 / column2)\n",
    "2. Creating dummy features or indicator variables (get_dummies or OneHotEncoder)\n",
    "3. Scaling the data and verifying it (mean/sd)\n",
    "4. Correlation maps - (heatmaps, boxplots, scatterplots, pairplot, regplot etc.)\n",
    "5. Split into train & test sets\n",
    "6. Save data & summary"
   ]
  },
  {
   "cell_type": "markdown",
   "id": "c35c1d95",
   "metadata": {},
   "source": [
    "## Importing packages"
   ]
  },
  {
   "cell_type": "code",
   "execution_count": 47,
   "id": "719a4c2d",
   "metadata": {},
   "outputs": [],
   "source": [
    "# Imports\n",
    "import numpy as np\n",
    "import pandas as pd\n",
    "import matplotlib.pyplot as plt\n",
    "import seaborn as sns\n",
    "%matplotlib inline\n",
    "\n",
    "from sklearn.preprocessing import scale\n",
    "from sklearn.preprocessing import StandardScaler, MinMaxScaler\n",
    "from sklearn.decomposition import PCA\n",
    "from sklearn.model_selection import train_test_split\n",
    "\n",
    "import os\n",
    "from library.sb_utils import save_file\n",
    "\n",
    "import warnings\n",
    "warnings.filterwarnings('ignore')"
   ]
  },
  {
   "cell_type": "markdown",
   "id": "f69814c1",
   "metadata": {},
   "source": [
    "## Loading the data"
   ]
  },
  {
   "cell_type": "code",
   "execution_count": 48,
   "id": "b3dbdeca",
   "metadata": {},
   "outputs": [
    {
     "data": {
      "text/html": [
       "<div>\n",
       "<style scoped>\n",
       "    .dataframe tbody tr th:only-of-type {\n",
       "        vertical-align: middle;\n",
       "    }\n",
       "\n",
       "    .dataframe tbody tr th {\n",
       "        vertical-align: top;\n",
       "    }\n",
       "\n",
       "    .dataframe thead th {\n",
       "        text-align: right;\n",
       "    }\n",
       "</style>\n",
       "<table border=\"1\" class=\"dataframe\">\n",
       "  <thead>\n",
       "    <tr style=\"text-align: right;\">\n",
       "      <th></th>\n",
       "      <th>encounter_id</th>\n",
       "      <th>patient_nbr</th>\n",
       "      <th>race</th>\n",
       "      <th>gender</th>\n",
       "      <th>age</th>\n",
       "      <th>admission_type_id</th>\n",
       "      <th>discharge_disposition_id</th>\n",
       "      <th>admission_source_id</th>\n",
       "      <th>time_in_hospital</th>\n",
       "      <th>payer_code</th>\n",
       "      <th>...</th>\n",
       "      <th>citoglipton</th>\n",
       "      <th>insulin</th>\n",
       "      <th>glyburide-metformin</th>\n",
       "      <th>glipizide-metformin</th>\n",
       "      <th>glimepiride-pioglitazone</th>\n",
       "      <th>metformin-rosiglitazone</th>\n",
       "      <th>metformin-pioglitazone</th>\n",
       "      <th>change</th>\n",
       "      <th>diabetesMed</th>\n",
       "      <th>readmitted</th>\n",
       "    </tr>\n",
       "  </thead>\n",
       "  <tbody>\n",
       "    <tr>\n",
       "      <th>0</th>\n",
       "      <td>149190</td>\n",
       "      <td>55629189</td>\n",
       "      <td>Caucasian</td>\n",
       "      <td>Female</td>\n",
       "      <td>[10-20]</td>\n",
       "      <td>1</td>\n",
       "      <td>1</td>\n",
       "      <td>7</td>\n",
       "      <td>3</td>\n",
       "      <td>?</td>\n",
       "      <td>...</td>\n",
       "      <td>No</td>\n",
       "      <td>Up</td>\n",
       "      <td>No</td>\n",
       "      <td>No</td>\n",
       "      <td>No</td>\n",
       "      <td>No</td>\n",
       "      <td>No</td>\n",
       "      <td>Yes</td>\n",
       "      <td>Yes</td>\n",
       "      <td>&gt;30</td>\n",
       "    </tr>\n",
       "    <tr>\n",
       "      <th>1</th>\n",
       "      <td>64410</td>\n",
       "      <td>86047875</td>\n",
       "      <td>AfricanAmerican</td>\n",
       "      <td>Female</td>\n",
       "      <td>[20-30]</td>\n",
       "      <td>1</td>\n",
       "      <td>1</td>\n",
       "      <td>7</td>\n",
       "      <td>2</td>\n",
       "      <td>?</td>\n",
       "      <td>...</td>\n",
       "      <td>No</td>\n",
       "      <td>No</td>\n",
       "      <td>No</td>\n",
       "      <td>No</td>\n",
       "      <td>No</td>\n",
       "      <td>No</td>\n",
       "      <td>No</td>\n",
       "      <td>No</td>\n",
       "      <td>Yes</td>\n",
       "      <td>NO</td>\n",
       "    </tr>\n",
       "    <tr>\n",
       "      <th>2</th>\n",
       "      <td>500364</td>\n",
       "      <td>82442376</td>\n",
       "      <td>Caucasian</td>\n",
       "      <td>Male</td>\n",
       "      <td>[30-40]</td>\n",
       "      <td>1</td>\n",
       "      <td>1</td>\n",
       "      <td>7</td>\n",
       "      <td>2</td>\n",
       "      <td>?</td>\n",
       "      <td>...</td>\n",
       "      <td>No</td>\n",
       "      <td>Up</td>\n",
       "      <td>No</td>\n",
       "      <td>No</td>\n",
       "      <td>No</td>\n",
       "      <td>No</td>\n",
       "      <td>No</td>\n",
       "      <td>Yes</td>\n",
       "      <td>Yes</td>\n",
       "      <td>NO</td>\n",
       "    </tr>\n",
       "    <tr>\n",
       "      <th>3</th>\n",
       "      <td>16680</td>\n",
       "      <td>42519267</td>\n",
       "      <td>Caucasian</td>\n",
       "      <td>Male</td>\n",
       "      <td>[40-50]</td>\n",
       "      <td>1</td>\n",
       "      <td>1</td>\n",
       "      <td>7</td>\n",
       "      <td>1</td>\n",
       "      <td>?</td>\n",
       "      <td>...</td>\n",
       "      <td>No</td>\n",
       "      <td>Steady</td>\n",
       "      <td>No</td>\n",
       "      <td>No</td>\n",
       "      <td>No</td>\n",
       "      <td>No</td>\n",
       "      <td>No</td>\n",
       "      <td>Yes</td>\n",
       "      <td>Yes</td>\n",
       "      <td>NO</td>\n",
       "    </tr>\n",
       "    <tr>\n",
       "      <th>4</th>\n",
       "      <td>35754</td>\n",
       "      <td>82637451</td>\n",
       "      <td>Caucasian</td>\n",
       "      <td>Male</td>\n",
       "      <td>[50-60]</td>\n",
       "      <td>2</td>\n",
       "      <td>1</td>\n",
       "      <td>2</td>\n",
       "      <td>3</td>\n",
       "      <td>?</td>\n",
       "      <td>...</td>\n",
       "      <td>No</td>\n",
       "      <td>Steady</td>\n",
       "      <td>No</td>\n",
       "      <td>No</td>\n",
       "      <td>No</td>\n",
       "      <td>No</td>\n",
       "      <td>No</td>\n",
       "      <td>No</td>\n",
       "      <td>Yes</td>\n",
       "      <td>&gt;30</td>\n",
       "    </tr>\n",
       "  </tbody>\n",
       "</table>\n",
       "<p>5 rows × 49 columns</p>\n",
       "</div>"
      ],
      "text/plain": [
       "   encounter_id  patient_nbr             race  gender      age  \\\n",
       "0        149190     55629189        Caucasian  Female  [10-20]   \n",
       "1         64410     86047875  AfricanAmerican  Female  [20-30]   \n",
       "2        500364     82442376        Caucasian    Male  [30-40]   \n",
       "3         16680     42519267        Caucasian    Male  [40-50]   \n",
       "4         35754     82637451        Caucasian    Male  [50-60]   \n",
       "\n",
       "   admission_type_id  discharge_disposition_id  admission_source_id  \\\n",
       "0                  1                         1                    7   \n",
       "1                  1                         1                    7   \n",
       "2                  1                         1                    7   \n",
       "3                  1                         1                    7   \n",
       "4                  2                         1                    2   \n",
       "\n",
       "   time_in_hospital payer_code  ... citoglipton  insulin  glyburide-metformin  \\\n",
       "0                 3          ?  ...          No       Up                   No   \n",
       "1                 2          ?  ...          No       No                   No   \n",
       "2                 2          ?  ...          No       Up                   No   \n",
       "3                 1          ?  ...          No   Steady                   No   \n",
       "4                 3          ?  ...          No   Steady                   No   \n",
       "\n",
       "   glipizide-metformin  glimepiride-pioglitazone  metformin-rosiglitazone  \\\n",
       "0                   No                        No                       No   \n",
       "1                   No                        No                       No   \n",
       "2                   No                        No                       No   \n",
       "3                   No                        No                       No   \n",
       "4                   No                        No                       No   \n",
       "\n",
       "   metformin-pioglitazone change diabetesMed readmitted  \n",
       "0                      No    Yes         Yes        >30  \n",
       "1                      No     No         Yes         NO  \n",
       "2                      No    Yes         Yes         NO  \n",
       "3                      No    Yes         Yes         NO  \n",
       "4                      No     No         Yes        >30  \n",
       "\n",
       "[5 rows x 49 columns]"
      ]
     },
     "execution_count": 48,
     "metadata": {},
     "output_type": "execute_result"
    }
   ],
   "source": [
    "Diabetes = pd.read_csv('data/Diabetes_EDA.csv')\n",
    "Diabetes.head()"
   ]
  },
  {
   "cell_type": "code",
   "execution_count": 49,
   "id": "19fcfae9",
   "metadata": {},
   "outputs": [
    {
     "name": "stdout",
     "output_type": "stream",
     "text": [
      "<class 'pandas.core.frame.DataFrame'>\n",
      "RangeIndex: 78361 entries, 0 to 78360\n",
      "Data columns (total 49 columns):\n",
      " #   Column                    Non-Null Count  Dtype \n",
      "---  ------                    --------------  ----- \n",
      " 0   encounter_id              78361 non-null  int64 \n",
      " 1   patient_nbr               78361 non-null  int64 \n",
      " 2   race                      78361 non-null  object\n",
      " 3   gender                    78361 non-null  object\n",
      " 4   age                       78361 non-null  object\n",
      " 5   admission_type_id         78361 non-null  int64 \n",
      " 6   discharge_disposition_id  78361 non-null  int64 \n",
      " 7   admission_source_id       78361 non-null  int64 \n",
      " 8   time_in_hospital          78361 non-null  int64 \n",
      " 9   payer_code                78361 non-null  object\n",
      " 10  medical_specialty         78361 non-null  object\n",
      " 11  num_lab_procedures        78361 non-null  int64 \n",
      " 12  num_procedures            78361 non-null  int64 \n",
      " 13  num_medications           78361 non-null  int64 \n",
      " 14  number_outpatient         78361 non-null  int64 \n",
      " 15  number_emergency          78361 non-null  int64 \n",
      " 16  number_inpatient          78361 non-null  int64 \n",
      " 17  diag_1                    78361 non-null  object\n",
      " 18  diag_2                    78361 non-null  object\n",
      " 19  diag_3                    78361 non-null  object\n",
      " 20  number_diagnoses          78361 non-null  int64 \n",
      " 21  max_glu_serum             78361 non-null  object\n",
      " 22  A1Cresult                 78361 non-null  object\n",
      " 23  metformin                 78361 non-null  object\n",
      " 24  repaglinide               78361 non-null  object\n",
      " 25  nateglinide               78361 non-null  object\n",
      " 26  chlorpropamide            78361 non-null  object\n",
      " 27  glimepiride               78361 non-null  object\n",
      " 28  acetohexamide             78361 non-null  object\n",
      " 29  glipizide                 78361 non-null  object\n",
      " 30  glyburide                 78361 non-null  object\n",
      " 31  tolbutamide               78361 non-null  object\n",
      " 32  pioglitazone              78361 non-null  object\n",
      " 33  rosiglitazone             78361 non-null  object\n",
      " 34  acarbose                  78361 non-null  object\n",
      " 35  miglitol                  78361 non-null  object\n",
      " 36  troglitazone              78361 non-null  object\n",
      " 37  tolazamide                78361 non-null  object\n",
      " 38  examide                   78361 non-null  object\n",
      " 39  citoglipton               78361 non-null  object\n",
      " 40  insulin                   78361 non-null  object\n",
      " 41  glyburide-metformin       78361 non-null  object\n",
      " 42  glipizide-metformin       78361 non-null  object\n",
      " 43  glimepiride-pioglitazone  78361 non-null  object\n",
      " 44  metformin-rosiglitazone   78361 non-null  object\n",
      " 45  metformin-pioglitazone    78361 non-null  object\n",
      " 46  change                    78361 non-null  object\n",
      " 47  diabetesMed               78361 non-null  object\n",
      " 48  readmitted                78361 non-null  object\n",
      "dtypes: int64(13), object(36)\n",
      "memory usage: 29.3+ MB\n"
     ]
    }
   ],
   "source": [
    "Diabetes.info()"
   ]
  },
  {
   "cell_type": "markdown",
   "id": "77c1edf9",
   "metadata": {},
   "source": [
    "## Feature engineering\n",
    "\n",
    "This is to generate new features from the existing ones to get more insights on the data. Below columns can be modified and feature engineered to get additional relationship between each column."
   ]
  },
  {
   "cell_type": "markdown",
   "id": "150e17fa",
   "metadata": {},
   "source": [
    "#### Age"
   ]
  },
  {
   "cell_type": "code",
   "execution_count": 50,
   "id": "c37d7daa",
   "metadata": {},
   "outputs": [
    {
     "data": {
      "text/plain": [
       "array(['[10-20]', '[20-30]', '[30-40]', '[40-50]', '[50-60]', '[60-70]',\n",
       "       '[70-80]', '[80-90]', '[90-100]', '[0-10]'], dtype=object)"
      ]
     },
     "execution_count": 50,
     "metadata": {},
     "output_type": "execute_result"
    }
   ],
   "source": [
    "Diabetes['age'].unique()"
   ]
  },
  {
   "cell_type": "markdown",
   "id": "574a9612",
   "metadata": {},
   "source": [
    "**Object to Numeric conversion:**\n",
    "* Age column is grouped into different age categories and it is object dtype. \n",
    "* We can feature engineer their 'mean' age for each group that can be converted into numeric dtype."
   ]
  },
  {
   "cell_type": "code",
   "execution_count": 51,
   "id": "a7c6d3bc",
   "metadata": {},
   "outputs": [
    {
     "data": {
      "text/html": [
       "<div>\n",
       "<style scoped>\n",
       "    .dataframe tbody tr th:only-of-type {\n",
       "        vertical-align: middle;\n",
       "    }\n",
       "\n",
       "    .dataframe tbody tr th {\n",
       "        vertical-align: top;\n",
       "    }\n",
       "\n",
       "    .dataframe thead th {\n",
       "        text-align: right;\n",
       "    }\n",
       "</style>\n",
       "<table border=\"1\" class=\"dataframe\">\n",
       "  <thead>\n",
       "    <tr style=\"text-align: right;\">\n",
       "      <th></th>\n",
       "      <th>age</th>\n",
       "    </tr>\n",
       "  </thead>\n",
       "  <tbody>\n",
       "    <tr>\n",
       "      <th>0</th>\n",
       "      <td>[10-20]</td>\n",
       "    </tr>\n",
       "    <tr>\n",
       "      <th>1</th>\n",
       "      <td>[20-30]</td>\n",
       "    </tr>\n",
       "    <tr>\n",
       "      <th>2</th>\n",
       "      <td>[30-40]</td>\n",
       "    </tr>\n",
       "    <tr>\n",
       "      <th>3</th>\n",
       "      <td>[40-50]</td>\n",
       "    </tr>\n",
       "    <tr>\n",
       "      <th>4</th>\n",
       "      <td>[50-60]</td>\n",
       "    </tr>\n",
       "  </tbody>\n",
       "</table>\n",
       "</div>"
      ],
      "text/plain": [
       "       age\n",
       "0  [10-20]\n",
       "1  [20-30]\n",
       "2  [30-40]\n",
       "3  [40-50]\n",
       "4  [50-60]"
      ]
     },
     "execution_count": 51,
     "metadata": {},
     "output_type": "execute_result"
    }
   ],
   "source": [
    "# Creating a dataframe for age\n",
    "df_age = Diabetes[['age']]\n",
    "\n",
    "df_age.head()"
   ]
  },
  {
   "cell_type": "code",
   "execution_count": 52,
   "id": "3ef5ed09",
   "metadata": {},
   "outputs": [
    {
     "data": {
      "text/html": [
       "<div>\n",
       "<style scoped>\n",
       "    .dataframe tbody tr th:only-of-type {\n",
       "        vertical-align: middle;\n",
       "    }\n",
       "\n",
       "    .dataframe tbody tr th {\n",
       "        vertical-align: top;\n",
       "    }\n",
       "\n",
       "    .dataframe thead th {\n",
       "        text-align: right;\n",
       "    }\n",
       "</style>\n",
       "<table border=\"1\" class=\"dataframe\">\n",
       "  <thead>\n",
       "    <tr style=\"text-align: right;\">\n",
       "      <th></th>\n",
       "      <th>age</th>\n",
       "    </tr>\n",
       "  </thead>\n",
       "  <tbody>\n",
       "    <tr>\n",
       "      <th>0</th>\n",
       "      <td>10-20</td>\n",
       "    </tr>\n",
       "    <tr>\n",
       "      <th>1</th>\n",
       "      <td>20-30</td>\n",
       "    </tr>\n",
       "    <tr>\n",
       "      <th>2</th>\n",
       "      <td>30-40</td>\n",
       "    </tr>\n",
       "    <tr>\n",
       "      <th>3</th>\n",
       "      <td>40-50</td>\n",
       "    </tr>\n",
       "    <tr>\n",
       "      <th>4</th>\n",
       "      <td>50-60</td>\n",
       "    </tr>\n",
       "  </tbody>\n",
       "</table>\n",
       "</div>"
      ],
      "text/plain": [
       "     age\n",
       "0  10-20\n",
       "1  20-30\n",
       "2  30-40\n",
       "3  40-50\n",
       "4  50-60"
      ]
     },
     "execution_count": 52,
     "metadata": {},
     "output_type": "execute_result"
    }
   ],
   "source": [
    "# Replacing the brackets '[]' with empty space\n",
    "df_age['age'] = df_age['age'].str.replace('[', '')\n",
    "df_age['age'] = df_age['age'].str.replace(']', '')\n",
    "\n",
    "df_age.head()"
   ]
  },
  {
   "cell_type": "code",
   "execution_count": 53,
   "id": "45b1a610",
   "metadata": {},
   "outputs": [
    {
     "data": {
      "text/html": [
       "<div>\n",
       "<style scoped>\n",
       "    .dataframe tbody tr th:only-of-type {\n",
       "        vertical-align: middle;\n",
       "    }\n",
       "\n",
       "    .dataframe tbody tr th {\n",
       "        vertical-align: top;\n",
       "    }\n",
       "\n",
       "    .dataframe thead th {\n",
       "        text-align: right;\n",
       "    }\n",
       "</style>\n",
       "<table border=\"1\" class=\"dataframe\">\n",
       "  <thead>\n",
       "    <tr style=\"text-align: right;\">\n",
       "      <th></th>\n",
       "      <th>age</th>\n",
       "      <th>age_mean</th>\n",
       "    </tr>\n",
       "  </thead>\n",
       "  <tbody>\n",
       "    <tr>\n",
       "      <th>0</th>\n",
       "      <td>10-20</td>\n",
       "      <td>15.0</td>\n",
       "    </tr>\n",
       "    <tr>\n",
       "      <th>1</th>\n",
       "      <td>20-30</td>\n",
       "      <td>25.0</td>\n",
       "    </tr>\n",
       "    <tr>\n",
       "      <th>2</th>\n",
       "      <td>30-40</td>\n",
       "      <td>35.0</td>\n",
       "    </tr>\n",
       "    <tr>\n",
       "      <th>3</th>\n",
       "      <td>40-50</td>\n",
       "      <td>45.0</td>\n",
       "    </tr>\n",
       "    <tr>\n",
       "      <th>4</th>\n",
       "      <td>50-60</td>\n",
       "      <td>55.0</td>\n",
       "    </tr>\n",
       "  </tbody>\n",
       "</table>\n",
       "</div>"
      ],
      "text/plain": [
       "     age  age_mean\n",
       "0  10-20      15.0\n",
       "1  20-30      25.0\n",
       "2  30-40      35.0\n",
       "3  40-50      45.0\n",
       "4  50-60      55.0"
      ]
     },
     "execution_count": 53,
     "metadata": {},
     "output_type": "execute_result"
    }
   ],
   "source": [
    "# Writing a function to split the age & calculate mean\n",
    "def split_mean(x):\n",
    "    split_list = x.split('-')\n",
    "    mean = (float(split_list[0]) + float(split_list[1])) / 2\n",
    "    return mean\n",
    "\n",
    "# Applying the function to get the mean age column\n",
    "df_age['age_mean'] = df_age['age'].apply(lambda x: split_mean(x))\n",
    "\n",
    "# Checking the new df\n",
    "df_age.head()"
   ]
  },
  {
   "cell_type": "code",
   "execution_count": 54,
   "id": "7b8fbad6",
   "metadata": {},
   "outputs": [
    {
     "data": {
      "text/html": [
       "<div>\n",
       "<style scoped>\n",
       "    .dataframe tbody tr th:only-of-type {\n",
       "        vertical-align: middle;\n",
       "    }\n",
       "\n",
       "    .dataframe tbody tr th {\n",
       "        vertical-align: top;\n",
       "    }\n",
       "\n",
       "    .dataframe thead th {\n",
       "        text-align: right;\n",
       "    }\n",
       "</style>\n",
       "<table border=\"1\" class=\"dataframe\">\n",
       "  <thead>\n",
       "    <tr style=\"text-align: right;\">\n",
       "      <th></th>\n",
       "      <th>encounter_id</th>\n",
       "      <th>patient_nbr</th>\n",
       "      <th>race</th>\n",
       "      <th>gender</th>\n",
       "      <th>age</th>\n",
       "      <th>admission_type_id</th>\n",
       "      <th>discharge_disposition_id</th>\n",
       "      <th>admission_source_id</th>\n",
       "      <th>time_in_hospital</th>\n",
       "      <th>payer_code</th>\n",
       "      <th>...</th>\n",
       "      <th>insulin</th>\n",
       "      <th>glyburide-metformin</th>\n",
       "      <th>glipizide-metformin</th>\n",
       "      <th>glimepiride-pioglitazone</th>\n",
       "      <th>metformin-rosiglitazone</th>\n",
       "      <th>metformin-pioglitazone</th>\n",
       "      <th>change</th>\n",
       "      <th>diabetesMed</th>\n",
       "      <th>readmitted</th>\n",
       "      <th>age_mean</th>\n",
       "    </tr>\n",
       "  </thead>\n",
       "  <tbody>\n",
       "    <tr>\n",
       "      <th>0</th>\n",
       "      <td>149190</td>\n",
       "      <td>55629189</td>\n",
       "      <td>Caucasian</td>\n",
       "      <td>Female</td>\n",
       "      <td>[10-20]</td>\n",
       "      <td>1</td>\n",
       "      <td>1</td>\n",
       "      <td>7</td>\n",
       "      <td>3</td>\n",
       "      <td>?</td>\n",
       "      <td>...</td>\n",
       "      <td>Up</td>\n",
       "      <td>No</td>\n",
       "      <td>No</td>\n",
       "      <td>No</td>\n",
       "      <td>No</td>\n",
       "      <td>No</td>\n",
       "      <td>Yes</td>\n",
       "      <td>Yes</td>\n",
       "      <td>&gt;30</td>\n",
       "      <td>15.0</td>\n",
       "    </tr>\n",
       "    <tr>\n",
       "      <th>1</th>\n",
       "      <td>64410</td>\n",
       "      <td>86047875</td>\n",
       "      <td>AfricanAmerican</td>\n",
       "      <td>Female</td>\n",
       "      <td>[20-30]</td>\n",
       "      <td>1</td>\n",
       "      <td>1</td>\n",
       "      <td>7</td>\n",
       "      <td>2</td>\n",
       "      <td>?</td>\n",
       "      <td>...</td>\n",
       "      <td>No</td>\n",
       "      <td>No</td>\n",
       "      <td>No</td>\n",
       "      <td>No</td>\n",
       "      <td>No</td>\n",
       "      <td>No</td>\n",
       "      <td>No</td>\n",
       "      <td>Yes</td>\n",
       "      <td>NO</td>\n",
       "      <td>25.0</td>\n",
       "    </tr>\n",
       "    <tr>\n",
       "      <th>2</th>\n",
       "      <td>500364</td>\n",
       "      <td>82442376</td>\n",
       "      <td>Caucasian</td>\n",
       "      <td>Male</td>\n",
       "      <td>[30-40]</td>\n",
       "      <td>1</td>\n",
       "      <td>1</td>\n",
       "      <td>7</td>\n",
       "      <td>2</td>\n",
       "      <td>?</td>\n",
       "      <td>...</td>\n",
       "      <td>Up</td>\n",
       "      <td>No</td>\n",
       "      <td>No</td>\n",
       "      <td>No</td>\n",
       "      <td>No</td>\n",
       "      <td>No</td>\n",
       "      <td>Yes</td>\n",
       "      <td>Yes</td>\n",
       "      <td>NO</td>\n",
       "      <td>35.0</td>\n",
       "    </tr>\n",
       "    <tr>\n",
       "      <th>3</th>\n",
       "      <td>16680</td>\n",
       "      <td>42519267</td>\n",
       "      <td>Caucasian</td>\n",
       "      <td>Male</td>\n",
       "      <td>[40-50]</td>\n",
       "      <td>1</td>\n",
       "      <td>1</td>\n",
       "      <td>7</td>\n",
       "      <td>1</td>\n",
       "      <td>?</td>\n",
       "      <td>...</td>\n",
       "      <td>Steady</td>\n",
       "      <td>No</td>\n",
       "      <td>No</td>\n",
       "      <td>No</td>\n",
       "      <td>No</td>\n",
       "      <td>No</td>\n",
       "      <td>Yes</td>\n",
       "      <td>Yes</td>\n",
       "      <td>NO</td>\n",
       "      <td>45.0</td>\n",
       "    </tr>\n",
       "    <tr>\n",
       "      <th>4</th>\n",
       "      <td>35754</td>\n",
       "      <td>82637451</td>\n",
       "      <td>Caucasian</td>\n",
       "      <td>Male</td>\n",
       "      <td>[50-60]</td>\n",
       "      <td>2</td>\n",
       "      <td>1</td>\n",
       "      <td>2</td>\n",
       "      <td>3</td>\n",
       "      <td>?</td>\n",
       "      <td>...</td>\n",
       "      <td>Steady</td>\n",
       "      <td>No</td>\n",
       "      <td>No</td>\n",
       "      <td>No</td>\n",
       "      <td>No</td>\n",
       "      <td>No</td>\n",
       "      <td>No</td>\n",
       "      <td>Yes</td>\n",
       "      <td>&gt;30</td>\n",
       "      <td>55.0</td>\n",
       "    </tr>\n",
       "  </tbody>\n",
       "</table>\n",
       "<p>5 rows × 50 columns</p>\n",
       "</div>"
      ],
      "text/plain": [
       "   encounter_id  patient_nbr             race  gender      age  \\\n",
       "0        149190     55629189        Caucasian  Female  [10-20]   \n",
       "1         64410     86047875  AfricanAmerican  Female  [20-30]   \n",
       "2        500364     82442376        Caucasian    Male  [30-40]   \n",
       "3         16680     42519267        Caucasian    Male  [40-50]   \n",
       "4         35754     82637451        Caucasian    Male  [50-60]   \n",
       "\n",
       "   admission_type_id  discharge_disposition_id  admission_source_id  \\\n",
       "0                  1                         1                    7   \n",
       "1                  1                         1                    7   \n",
       "2                  1                         1                    7   \n",
       "3                  1                         1                    7   \n",
       "4                  2                         1                    2   \n",
       "\n",
       "   time_in_hospital payer_code  ... insulin  glyburide-metformin  \\\n",
       "0                 3          ?  ...      Up                   No   \n",
       "1                 2          ?  ...      No                   No   \n",
       "2                 2          ?  ...      Up                   No   \n",
       "3                 1          ?  ...  Steady                   No   \n",
       "4                 3          ?  ...  Steady                   No   \n",
       "\n",
       "   glipizide-metformin  glimepiride-pioglitazone  metformin-rosiglitazone  \\\n",
       "0                   No                        No                       No   \n",
       "1                   No                        No                       No   \n",
       "2                   No                        No                       No   \n",
       "3                   No                        No                       No   \n",
       "4                   No                        No                       No   \n",
       "\n",
       "   metformin-pioglitazone  change diabetesMed readmitted age_mean  \n",
       "0                      No     Yes         Yes        >30     15.0  \n",
       "1                      No      No         Yes         NO     25.0  \n",
       "2                      No     Yes         Yes         NO     35.0  \n",
       "3                      No     Yes         Yes         NO     45.0  \n",
       "4                      No      No         Yes        >30     55.0  \n",
       "\n",
       "[5 rows x 50 columns]"
      ]
     },
     "execution_count": 54,
     "metadata": {},
     "output_type": "execute_result"
    }
   ],
   "source": [
    "# Append the new age column to the original dataframe\n",
    "Diabetes['age_mean'] = df_age['age_mean']\n",
    "\n",
    "# Checking the head in original df\n",
    "Diabetes.head()"
   ]
  },
  {
   "cell_type": "markdown",
   "id": "55606660",
   "metadata": {},
   "source": [
    "**Age_mean vs readmitted (target variable)**\n",
    "\n",
    "Now we can check the newly created **age_mean** against target variable."
   ]
  },
  {
   "cell_type": "code",
   "execution_count": 55,
   "id": "23166887",
   "metadata": {},
   "outputs": [
    {
     "data": {
      "image/png": "[encoded data removed]",
      "text/plain": [
       "<Figure size 423.25x360 with 1 Axes>"
      ]
     },
     "metadata": {
      "needs_background": "light"
     },
     "output_type": "display_data"
    }
   ],
   "source": [
    "# Category plot to show the distribution of readmitted count\n",
    "sns.catplot(x='age_mean', data=Diabetes, kind='count', hue='readmitted')\n",
    "plt.show()"
   ]
  },
  {
   "cell_type": "markdown",
   "id": "8449b0f7",
   "metadata": {},
   "source": [
    "**Observation from Age_Mean vs Readmitted:**\n",
    "\n",
    "* Age plays critical role in hospital readmission\n",
    "* As diabetes people age, they high chance of getting readmitted"
   ]
  },
  {
   "cell_type": "markdown",
   "id": "346b84eb",
   "metadata": {},
   "source": [
    "#### Time in hospital"
   ]
  },
  {
   "cell_type": "code",
   "execution_count": 56,
   "id": "f07ea165",
   "metadata": {},
   "outputs": [
    {
     "data": {
      "text/plain": [
       "array([ 3,  2,  1,  4,  5, 13, 12,  9,  7, 10,  6, 11,  8, 14],\n",
       "      dtype=int64)"
      ]
     },
     "execution_count": 56,
     "metadata": {},
     "output_type": "execute_result"
    }
   ],
   "source": [
    "# Checking the time_in_hospital column\n",
    "Diabetes['time_in_hospital'].unique()"
   ]
  },
  {
   "cell_type": "markdown",
   "id": "145fb82d",
   "metadata": {},
   "source": [
    "#### Glucose levels (max_glu_serum)"
   ]
  },
  {
   "cell_type": "code",
   "execution_count": 57,
   "id": "3574969d",
   "metadata": {},
   "outputs": [
    {
     "data": {
      "text/plain": [
       "array(['None', '>300', 'Norm', '>200'], dtype=object)"
      ]
     },
     "execution_count": 57,
     "metadata": {},
     "output_type": "execute_result"
    }
   ],
   "source": [
    "# Checking glucose level indicators\n",
    "Diabetes['max_glu_serum'].unique()"
   ]
  },
  {
   "cell_type": "markdown",
   "id": "3cc16c8e",
   "metadata": {},
   "source": [
    "**Glycated hemoglobin levels (A1Cresult)**"
   ]
  },
  {
   "cell_type": "code",
   "execution_count": 59,
   "id": "652f4136",
   "metadata": {},
   "outputs": [
    {
     "data": {
      "text/plain": [
       "array(['None', '>7', '>8', 'Norm'], dtype=object)"
      ]
     },
     "execution_count": 59,
     "metadata": {},
     "output_type": "execute_result"
    }
   ],
   "source": [
    "# Checking A1C result levels\n",
    "Diabetes['A1Cresult'].unique()"
   ]
  },
  {
   "cell_type": "markdown",
   "id": "8d80b1a8",
   "metadata": {},
   "source": [
    "### Checking missing values once"
   ]
  },
  {
   "cell_type": "code",
   "execution_count": 60,
   "id": "788472a4",
   "metadata": {},
   "outputs": [
    {
     "data": {
      "text/plain": [
       "encounter_id                0\n",
       "patient_nbr                 0\n",
       "race                        0\n",
       "gender                      0\n",
       "age                         0\n",
       "admission_type_id           0\n",
       "discharge_disposition_id    0\n",
       "admission_source_id         0\n",
       "time_in_hospital            0\n",
       "payer_code                  0\n",
       "medical_specialty           0\n",
       "num_lab_procedures          0\n",
       "num_procedures              0\n",
       "num_medications             0\n",
       "number_outpatient           0\n",
       "number_emergency            0\n",
       "number_inpatient            0\n",
       "diag_1                      0\n",
       "diag_2                      0\n",
       "diag_3                      0\n",
       "number_diagnoses            0\n",
       "max_glu_serum               0\n",
       "A1Cresult                   0\n",
       "metformin                   0\n",
       "repaglinide                 0\n",
       "nateglinide                 0\n",
       "chlorpropamide              0\n",
       "glimepiride                 0\n",
       "acetohexamide               0\n",
       "glipizide                   0\n",
       "glyburide                   0\n",
       "tolbutamide                 0\n",
       "pioglitazone                0\n",
       "rosiglitazone               0\n",
       "acarbose                    0\n",
       "miglitol                    0\n",
       "troglitazone                0\n",
       "tolazamide                  0\n",
       "examide                     0\n",
       "citoglipton                 0\n",
       "insulin                     0\n",
       "glyburide-metformin         0\n",
       "glipizide-metformin         0\n",
       "glimepiride-pioglitazone    0\n",
       "metformin-rosiglitazone     0\n",
       "metformin-pioglitazone      0\n",
       "change                      0\n",
       "diabetesMed                 0\n",
       "readmitted                  0\n",
       "age_mean                    0\n",
       "dtype: int64"
      ]
     },
     "execution_count": 60,
     "metadata": {},
     "output_type": "execute_result"
    }
   ],
   "source": [
    "Diabetes.isna().sum()"
   ]
  },
  {
   "cell_type": "markdown",
   "id": "ae34da73",
   "metadata": {},
   "source": [
    "### Checking for duplicated rows"
   ]
  },
  {
   "cell_type": "code",
   "execution_count": 61,
   "id": "2a49d84f",
   "metadata": {},
   "outputs": [
    {
     "data": {
      "text/html": [
       "<div>\n",
       "<style scoped>\n",
       "    .dataframe tbody tr th:only-of-type {\n",
       "        vertical-align: middle;\n",
       "    }\n",
       "\n",
       "    .dataframe tbody tr th {\n",
       "        vertical-align: top;\n",
       "    }\n",
       "\n",
       "    .dataframe thead th {\n",
       "        text-align: right;\n",
       "    }\n",
       "</style>\n",
       "<table border=\"1\" class=\"dataframe\">\n",
       "  <thead>\n",
       "    <tr style=\"text-align: right;\">\n",
       "      <th></th>\n",
       "      <th>encounter_id</th>\n",
       "      <th>patient_nbr</th>\n",
       "      <th>race</th>\n",
       "      <th>gender</th>\n",
       "      <th>age</th>\n",
       "      <th>admission_type_id</th>\n",
       "      <th>discharge_disposition_id</th>\n",
       "      <th>admission_source_id</th>\n",
       "      <th>time_in_hospital</th>\n",
       "      <th>payer_code</th>\n",
       "      <th>...</th>\n",
       "      <th>insulin</th>\n",
       "      <th>glyburide-metformin</th>\n",
       "      <th>glipizide-metformin</th>\n",
       "      <th>glimepiride-pioglitazone</th>\n",
       "      <th>metformin-rosiglitazone</th>\n",
       "      <th>metformin-pioglitazone</th>\n",
       "      <th>change</th>\n",
       "      <th>diabetesMed</th>\n",
       "      <th>readmitted</th>\n",
       "      <th>age_mean</th>\n",
       "    </tr>\n",
       "  </thead>\n",
       "  <tbody>\n",
       "  </tbody>\n",
       "</table>\n",
       "<p>0 rows × 50 columns</p>\n",
       "</div>"
      ],
      "text/plain": [
       "Empty DataFrame\n",
       "Columns: [encounter_id, patient_nbr, race, gender, age, admission_type_id, discharge_disposition_id, admission_source_id, time_in_hospital, payer_code, medical_specialty, num_lab_procedures, num_procedures, num_medications, number_outpatient, number_emergency, number_inpatient, diag_1, diag_2, diag_3, number_diagnoses, max_glu_serum, A1Cresult, metformin, repaglinide, nateglinide, chlorpropamide, glimepiride, acetohexamide, glipizide, glyburide, tolbutamide, pioglitazone, rosiglitazone, acarbose, miglitol, troglitazone, tolazamide, examide, citoglipton, insulin, glyburide-metformin, glipizide-metformin, glimepiride-pioglitazone, metformin-rosiglitazone, metformin-pioglitazone, change, diabetesMed, readmitted, age_mean]\n",
       "Index: []\n",
       "\n",
       "[0 rows x 50 columns]"
      ]
     },
     "execution_count": 61,
     "metadata": {},
     "output_type": "execute_result"
    }
   ],
   "source": [
    "duplicate_df = Diabetes[Diabetes.duplicated()]\n",
    "duplicate_df"
   ]
  },
  {
   "cell_type": "markdown",
   "id": "f58eb076",
   "metadata": {},
   "source": [
    "### Categorical features dataframe\n",
    "\n",
    "Creating dataframe containing only categorical variables."
   ]
  },
  {
   "cell_type": "code",
   "execution_count": 62,
   "id": "032a7e6b",
   "metadata": {},
   "outputs": [
    {
     "data": {
      "text/plain": [
       "race                          5\n",
       "gender                        2\n",
       "age                          10\n",
       "payer_code                   18\n",
       "medical_specialty            73\n",
       "diag_1                      682\n",
       "diag_2                      716\n",
       "diag_3                      751\n",
       "max_glu_serum                 4\n",
       "A1Cresult                     4\n",
       "metformin                     4\n",
       "repaglinide                   4\n",
       "nateglinide                   4\n",
       "chlorpropamide                4\n",
       "glimepiride                   4\n",
       "acetohexamide                 2\n",
       "glipizide                     4\n",
       "glyburide                     4\n",
       "tolbutamide                   2\n",
       "pioglitazone                  4\n",
       "rosiglitazone                 4\n",
       "acarbose                      4\n",
       "miglitol                      4\n",
       "troglitazone                  2\n",
       "tolazamide                    3\n",
       "examide                       1\n",
       "citoglipton                   1\n",
       "insulin                       4\n",
       "glyburide-metformin           4\n",
       "glipizide-metformin           2\n",
       "glimepiride-pioglitazone      2\n",
       "metformin-rosiglitazone       2\n",
       "metformin-pioglitazone        2\n",
       "change                        2\n",
       "diabetesMed                   1\n",
       "readmitted                    3\n",
       "dtype: int64"
      ]
     },
     "execution_count": 62,
     "metadata": {},
     "output_type": "execute_result"
    }
   ],
   "source": [
    "df_object = Diabetes.select_dtypes(include='object')\n",
    "df_object.nunique()"
   ]
  },
  {
   "cell_type": "markdown",
   "id": "7ea097d6",
   "metadata": {},
   "source": [
    "### Correlation heatmap for numeric features"
   ]
  },
  {
   "cell_type": "code",
   "execution_count": 63,
   "id": "8e34b612",
   "metadata": {},
   "outputs": [
    {
     "data": {
      "image/png": "[encoded data removed]",
      "text/plain": [
       "<Figure size 432x288 with 2 Axes>"
      ]
     },
     "metadata": {
      "needs_background": "light"
     },
     "output_type": "display_data"
    }
   ],
   "source": [
    "sns.heatmap(Diabetes.corr(), cmap='Blues')\n",
    "plt.show()"
   ]
  },
  {
   "cell_type": "markdown",
   "id": "b90bb72d",
   "metadata": {},
   "source": [
    "**Observations from heatmap:**\n",
    "\n",
    "* time_in_hospital & num_medications - positively correlated\n",
    "* num_procedures & num_medications - positively correlated\n",
    "* age_mean & num_emergency - negatively correlated"
   ]
  },
  {
   "cell_type": "markdown",
   "id": "c9177f18",
   "metadata": {},
   "source": [
    "### Checking for outliers\n"
   ]
  },
  {
   "cell_type": "code",
   "execution_count": 64,
   "id": "4536d2cf",
   "metadata": {
    "scrolled": false
   },
   "outputs": [
    {
     "data": {
      "image/png": "[encoded data removed]",
      "text/plain": [
       "<Figure size 288x288 with 1 Axes>"
      ]
     },
     "metadata": {
      "needs_background": "light"
     },
     "output_type": "display_data"
    },
    {
     "data": {
      "image/png": "[encoded data removed]",
      "text/plain": [
       "<Figure size 288x288 with 1 Axes>"
      ]
     },
     "metadata": {
      "needs_background": "light"
     },
     "output_type": "display_data"
    },
    {
     "data": {
      "image/png": "[encoded data removed]",
      "text/plain": [
       "<Figure size 288x288 with 1 Axes>"
      ]
     },
     "metadata": {
      "needs_background": "light"
     },
     "output_type": "display_data"
    },
    {
     "data": {
      "image/png": "[encoded data removed]",
      "text/plain": [
       "<Figure size 288x288 with 1 Axes>"
      ]
     },
     "metadata": {
      "needs_background": "light"
     },
     "output_type": "display_data"
    },
    {
     "data": {
      "image/png": "[encoded data removed]",
      "text/plain": [
       "<Figure size 288x288 with 1 Axes>"
      ]
     },
     "metadata": {
      "needs_background": "light"
     },
     "output_type": "display_data"
    },
    {
     "data": {
      "image/png": "[encoded data removed]",
      "text/plain": [
       "<Figure size 288x288 with 1 Axes>"
      ]
     },
     "metadata": {
      "needs_background": "light"
     },
     "output_type": "display_data"
    },
    {
     "data": {
      "image/png": "[encoded data removed]",
      "text/plain": [
       "<Figure size 288x288 with 1 Axes>"
      ]
     },
     "metadata": {
      "needs_background": "light"
     },
     "output_type": "display_data"
    },
    {
     "data": {
      "image/png": "[encoded data removed]",
      "text/plain": [
       "<Figure size 288x288 with 1 Axes>"
      ]
     },
     "metadata": {
      "needs_background": "light"
     },
     "output_type": "display_data"
    },
    {
     "data": {
      "image/png": "[encoded data removed]",
      "text/plain": [
       "<Figure size 288x288 with 1 Axes>"
      ]
     },
     "metadata": {
      "needs_background": "light"
     },
     "output_type": "display_data"
    },
    {
     "data": {
      "image/png": "[encoded data removed]",
      "text/plain": [
       "<Figure size 288x288 with 1 Axes>"
      ]
     },
     "metadata": {
      "needs_background": "light"
     },
     "output_type": "display_data"
    },
    {
     "data": {
      "image/png": "[encoded data removed]",
      "text/plain": [
       "<Figure size 288x288 with 1 Axes>"
      ]
     },
     "metadata": {
      "needs_background": "light"
     },
     "output_type": "display_data"
    },
    {
     "data": {
      "image/png": "[encoded data removed]",
      "text/plain": [
       "<Figure size 288x288 with 1 Axes>"
      ]
     },
     "metadata": {
      "needs_background": "light"
     },
     "output_type": "display_data"
    },
    {
     "data": {
      "image/png": "[encoded data removed]",
      "text/plain": [
       "<Figure size 288x288 with 1 Axes>"
      ]
     },
     "metadata": {
      "needs_background": "light"
     },
     "output_type": "display_data"
    },
    {
     "data": {
      "image/png": "[encoded data removed]",
      "text/plain": [
       "<Figure size 288x288 with 1 Axes>"
      ]
     },
     "metadata": {
      "needs_background": "light"
     },
     "output_type": "display_data"
    }
   ],
   "source": [
    "# Boxplot to check the outliers\n",
    "df_num = Diabetes.select_dtypes(exclude='object')\n",
    "\n",
    "for col in df_num.columns:\n",
    "    plt.figure(figsize=(4,4))\n",
    "    sns.boxplot(x=df_num[col])\n",
    "plt.show()"
   ]
  },
  {
   "cell_type": "markdown",
   "id": "f7031583",
   "metadata": {},
   "source": [
    "### Removing the uncessary columns"
   ]
  },
  {
   "cell_type": "code",
   "execution_count": 65,
   "id": "671e0b02",
   "metadata": {},
   "outputs": [],
   "source": [
    "# Columns to drop\n",
    "columns_to_drop =['encounter_id', 'patient_nbr', 'race', 'age', 'admission_type_id', 'discharge_disposition_id', 'admission_source_id', 'payer_code', 'medical_specialty', \n",
    "                 'diag_1', 'diag_2', 'diag_3', 'diabetesMed']\n",
    "\n",
    "# Dropping unneccessary columns\n",
    "Diabetes = Diabetes.drop(columns_to_drop, axis=1)"
   ]
  },
  {
   "cell_type": "code",
   "execution_count": 66,
   "id": "3d727580",
   "metadata": {},
   "outputs": [
    {
     "data": {
      "text/plain": [
       "Index(['gender', 'time_in_hospital', 'num_lab_procedures', 'num_procedures',\n",
       "       'num_medications', 'number_outpatient', 'number_emergency',\n",
       "       'number_inpatient', 'number_diagnoses', 'max_glu_serum', 'A1Cresult',\n",
       "       'metformin', 'repaglinide', 'nateglinide', 'chlorpropamide',\n",
       "       'glimepiride', 'acetohexamide', 'glipizide', 'glyburide', 'tolbutamide',\n",
       "       'pioglitazone', 'rosiglitazone', 'acarbose', 'miglitol', 'troglitazone',\n",
       "       'tolazamide', 'examide', 'citoglipton', 'insulin',\n",
       "       'glyburide-metformin', 'glipizide-metformin',\n",
       "       'glimepiride-pioglitazone', 'metformin-rosiglitazone',\n",
       "       'metformin-pioglitazone', 'change', 'readmitted', 'age_mean'],\n",
       "      dtype='object')"
      ]
     },
     "execution_count": 66,
     "metadata": {},
     "output_type": "execute_result"
    }
   ],
   "source": [
    "Diabetes.columns"
   ]
  },
  {
   "cell_type": "markdown",
   "id": "fab9a0ec",
   "metadata": {},
   "source": [
    "## Creating dummy features for categorical variables"
   ]
  },
  {
   "cell_type": "code",
   "execution_count": 67,
   "id": "5cc49592",
   "metadata": {},
   "outputs": [],
   "source": [
    "# Dropping 'y' variable - redmitted & assigning the 'X'\n",
    "X = Diabetes.drop('readmitted', axis=1)"
   ]
  },
  {
   "cell_type": "code",
   "execution_count": 68,
   "id": "c0330346",
   "metadata": {},
   "outputs": [],
   "source": [
    "# Getting dummies & assigning to X variable\n",
    "X = pd.get_dummies(X)\n",
    "\n",
    "# y variable\n",
    "y = Diabetes['readmitted']"
   ]
  },
  {
   "cell_type": "code",
   "execution_count": 69,
   "id": "0ec286f9",
   "metadata": {},
   "outputs": [
    {
     "data": {
      "text/html": [
       "<div>\n",
       "<style scoped>\n",
       "    .dataframe tbody tr th:only-of-type {\n",
       "        vertical-align: middle;\n",
       "    }\n",
       "\n",
       "    .dataframe tbody tr th {\n",
       "        vertical-align: top;\n",
       "    }\n",
       "\n",
       "    .dataframe thead th {\n",
       "        text-align: right;\n",
       "    }\n",
       "</style>\n",
       "<table border=\"1\" class=\"dataframe\">\n",
       "  <thead>\n",
       "    <tr style=\"text-align: right;\">\n",
       "      <th></th>\n",
       "      <th>time_in_hospital</th>\n",
       "      <th>num_lab_procedures</th>\n",
       "      <th>num_procedures</th>\n",
       "      <th>num_medications</th>\n",
       "      <th>number_outpatient</th>\n",
       "      <th>number_emergency</th>\n",
       "      <th>number_inpatient</th>\n",
       "      <th>number_diagnoses</th>\n",
       "      <th>age_mean</th>\n",
       "      <th>gender_Female</th>\n",
       "      <th>...</th>\n",
       "      <th>glipizide-metformin_No</th>\n",
       "      <th>glipizide-metformin_Steady</th>\n",
       "      <th>glimepiride-pioglitazone_No</th>\n",
       "      <th>glimepiride-pioglitazone_Steady</th>\n",
       "      <th>metformin-rosiglitazone_No</th>\n",
       "      <th>metformin-rosiglitazone_Steady</th>\n",
       "      <th>metformin-pioglitazone_No</th>\n",
       "      <th>metformin-pioglitazone_Steady</th>\n",
       "      <th>change_No</th>\n",
       "      <th>change_Yes</th>\n",
       "    </tr>\n",
       "  </thead>\n",
       "  <tbody>\n",
       "    <tr>\n",
       "      <th>0</th>\n",
       "      <td>3</td>\n",
       "      <td>59</td>\n",
       "      <td>0</td>\n",
       "      <td>18</td>\n",
       "      <td>0</td>\n",
       "      <td>0</td>\n",
       "      <td>0</td>\n",
       "      <td>9</td>\n",
       "      <td>15.0</td>\n",
       "      <td>1</td>\n",
       "      <td>...</td>\n",
       "      <td>1</td>\n",
       "      <td>0</td>\n",
       "      <td>1</td>\n",
       "      <td>0</td>\n",
       "      <td>1</td>\n",
       "      <td>0</td>\n",
       "      <td>1</td>\n",
       "      <td>0</td>\n",
       "      <td>0</td>\n",
       "      <td>1</td>\n",
       "    </tr>\n",
       "    <tr>\n",
       "      <th>1</th>\n",
       "      <td>2</td>\n",
       "      <td>11</td>\n",
       "      <td>5</td>\n",
       "      <td>13</td>\n",
       "      <td>2</td>\n",
       "      <td>0</td>\n",
       "      <td>1</td>\n",
       "      <td>6</td>\n",
       "      <td>25.0</td>\n",
       "      <td>1</td>\n",
       "      <td>...</td>\n",
       "      <td>1</td>\n",
       "      <td>0</td>\n",
       "      <td>1</td>\n",
       "      <td>0</td>\n",
       "      <td>1</td>\n",
       "      <td>0</td>\n",
       "      <td>1</td>\n",
       "      <td>0</td>\n",
       "      <td>1</td>\n",
       "      <td>0</td>\n",
       "    </tr>\n",
       "    <tr>\n",
       "      <th>2</th>\n",
       "      <td>2</td>\n",
       "      <td>44</td>\n",
       "      <td>1</td>\n",
       "      <td>16</td>\n",
       "      <td>0</td>\n",
       "      <td>0</td>\n",
       "      <td>0</td>\n",
       "      <td>7</td>\n",
       "      <td>35.0</td>\n",
       "      <td>0</td>\n",
       "      <td>...</td>\n",
       "      <td>1</td>\n",
       "      <td>0</td>\n",
       "      <td>1</td>\n",
       "      <td>0</td>\n",
       "      <td>1</td>\n",
       "      <td>0</td>\n",
       "      <td>1</td>\n",
       "      <td>0</td>\n",
       "      <td>0</td>\n",
       "      <td>1</td>\n",
       "    </tr>\n",
       "    <tr>\n",
       "      <th>3</th>\n",
       "      <td>1</td>\n",
       "      <td>51</td>\n",
       "      <td>0</td>\n",
       "      <td>8</td>\n",
       "      <td>0</td>\n",
       "      <td>0</td>\n",
       "      <td>0</td>\n",
       "      <td>5</td>\n",
       "      <td>45.0</td>\n",
       "      <td>0</td>\n",
       "      <td>...</td>\n",
       "      <td>1</td>\n",
       "      <td>0</td>\n",
       "      <td>1</td>\n",
       "      <td>0</td>\n",
       "      <td>1</td>\n",
       "      <td>0</td>\n",
       "      <td>1</td>\n",
       "      <td>0</td>\n",
       "      <td>0</td>\n",
       "      <td>1</td>\n",
       "    </tr>\n",
       "    <tr>\n",
       "      <th>4</th>\n",
       "      <td>3</td>\n",
       "      <td>31</td>\n",
       "      <td>6</td>\n",
       "      <td>16</td>\n",
       "      <td>0</td>\n",
       "      <td>0</td>\n",
       "      <td>0</td>\n",
       "      <td>9</td>\n",
       "      <td>55.0</td>\n",
       "      <td>0</td>\n",
       "      <td>...</td>\n",
       "      <td>1</td>\n",
       "      <td>0</td>\n",
       "      <td>1</td>\n",
       "      <td>0</td>\n",
       "      <td>1</td>\n",
       "      <td>0</td>\n",
       "      <td>1</td>\n",
       "      <td>0</td>\n",
       "      <td>1</td>\n",
       "      <td>0</td>\n",
       "    </tr>\n",
       "  </tbody>\n",
       "</table>\n",
       "<p>5 rows × 92 columns</p>\n",
       "</div>"
      ],
      "text/plain": [
       "   time_in_hospital  num_lab_procedures  num_procedures  num_medications  \\\n",
       "0                 3                  59               0               18   \n",
       "1                 2                  11               5               13   \n",
       "2                 2                  44               1               16   \n",
       "3                 1                  51               0                8   \n",
       "4                 3                  31               6               16   \n",
       "\n",
       "   number_outpatient  number_emergency  number_inpatient  number_diagnoses  \\\n",
       "0                  0                 0                 0                 9   \n",
       "1                  2                 0                 1                 6   \n",
       "2                  0                 0                 0                 7   \n",
       "3                  0                 0                 0                 5   \n",
       "4                  0                 0                 0                 9   \n",
       "\n",
       "   age_mean  gender_Female  ...  glipizide-metformin_No  \\\n",
       "0      15.0              1  ...                       1   \n",
       "1      25.0              1  ...                       1   \n",
       "2      35.0              0  ...                       1   \n",
       "3      45.0              0  ...                       1   \n",
       "4      55.0              0  ...                       1   \n",
       "\n",
       "   glipizide-metformin_Steady  glimepiride-pioglitazone_No  \\\n",
       "0                           0                            1   \n",
       "1                           0                            1   \n",
       "2                           0                            1   \n",
       "3                           0                            1   \n",
       "4                           0                            1   \n",
       "\n",
       "   glimepiride-pioglitazone_Steady  metformin-rosiglitazone_No  \\\n",
       "0                                0                           1   \n",
       "1                                0                           1   \n",
       "2                                0                           1   \n",
       "3                                0                           1   \n",
       "4                                0                           1   \n",
       "\n",
       "   metformin-rosiglitazone_Steady  metformin-pioglitazone_No  \\\n",
       "0                               0                          1   \n",
       "1                               0                          1   \n",
       "2                               0                          1   \n",
       "3                               0                          1   \n",
       "4                               0                          1   \n",
       "\n",
       "   metformin-pioglitazone_Steady  change_No  change_Yes  \n",
       "0                              0          0           1  \n",
       "1                              0          1           0  \n",
       "2                              0          0           1  \n",
       "3                              0          0           1  \n",
       "4                              0          1           0  \n",
       "\n",
       "[5 rows x 92 columns]"
      ]
     },
     "execution_count": 69,
     "metadata": {},
     "output_type": "execute_result"
    }
   ],
   "source": [
    "X.head()"
   ]
  },
  {
   "cell_type": "code",
   "execution_count": 70,
   "id": "11909448",
   "metadata": {},
   "outputs": [
    {
     "data": {
      "text/plain": [
       "0    >30\n",
       "1     NO\n",
       "2     NO\n",
       "3     NO\n",
       "4    >30\n",
       "Name: readmitted, dtype: object"
      ]
     },
     "execution_count": 70,
     "metadata": {},
     "output_type": "execute_result"
    }
   ],
   "source": [
    "y.head()"
   ]
  },
  {
   "cell_type": "markdown",
   "id": "44cbf59f",
   "metadata": {},
   "source": [
    "## Splitting the training and test data"
   ]
  },
  {
   "cell_type": "code",
   "execution_count": 71,
   "id": "1569f300",
   "metadata": {},
   "outputs": [],
   "source": [
    "# Train & test set split\n",
    "X_train, X_test, y_train, y_test = train_test_split(X, y, test_size=0.25, random_state=111)"
   ]
  },
  {
   "cell_type": "code",
   "execution_count": 72,
   "id": "30044adf",
   "metadata": {},
   "outputs": [
    {
     "data": {
      "text/plain": [
       "((58770, 92), (19591, 92))"
      ]
     },
     "execution_count": 72,
     "metadata": {},
     "output_type": "execute_result"
    }
   ],
   "source": [
    "# Verifying X shape\n",
    "X_train.shape, X_test.shape"
   ]
  },
  {
   "cell_type": "code",
   "execution_count": 73,
   "id": "0cc1c946",
   "metadata": {},
   "outputs": [
    {
     "data": {
      "text/plain": [
       "((58770,), (19591,))"
      ]
     },
     "execution_count": 73,
     "metadata": {},
     "output_type": "execute_result"
    }
   ],
   "source": [
    "# Verifying y shape\n",
    "y_train.shape, y_test.shape"
   ]
  },
  {
   "cell_type": "markdown",
   "id": "f10f7ea8",
   "metadata": {},
   "source": [
    "## Scaling the data"
   ]
  },
  {
   "cell_type": "code",
   "execution_count": 74,
   "id": "8a0fb916",
   "metadata": {},
   "outputs": [],
   "source": [
    "# Making a scaler object\n",
    "scaler = StandardScaler().fit(X_train)\n",
    "X_train_scaled = scaler.transform(X_train)\n",
    "X_test_scaled = scaler.transform(X_test)"
   ]
  },
  {
   "cell_type": "markdown",
   "id": "010746e1",
   "metadata": {},
   "source": [
    "## Verifying the scaling"
   ]
  },
  {
   "cell_type": "code",
   "execution_count": 75,
   "id": "0309da2f",
   "metadata": {},
   "outputs": [
    {
     "data": {
      "text/plain": [
       "-3.49650725728912e-16"
      ]
     },
     "execution_count": 75,
     "metadata": {},
     "output_type": "execute_result"
    }
   ],
   "source": [
    "# Verifying the mean of scaled_df (mean =0)\n",
    "X_train_scaled.mean()"
   ]
  },
  {
   "cell_type": "code",
   "execution_count": 80,
   "id": "5ec07a24",
   "metadata": {},
   "outputs": [
    {
     "data": {
      "text/plain": [
       "1.012230708915198"
      ]
     },
     "execution_count": 80,
     "metadata": {},
     "output_type": "execute_result"
    }
   ],
   "source": [
    "# Verifying the standard deviation (std = 1)\n",
    "X_test_scaled.std(ddof=0)"
   ]
  },
  {
   "cell_type": "code",
   "execution_count": 85,
   "id": "3debad1c",
   "metadata": {},
   "outputs": [
    {
     "data": {
      "text/plain": [
       "73631    >30\n",
       "21860     NO\n",
       "77855     NO\n",
       "16393    >30\n",
       "33577    >30\n",
       "        ... \n",
       "28277     NO\n",
       "49666    >30\n",
       "21415     NO\n",
       "31021     NO\n",
       "29562    >30\n",
       "Name: readmitted, Length: 19591, dtype: object"
      ]
     },
     "execution_count": 85,
     "metadata": {},
     "output_type": "execute_result"
    }
   ],
   "source": [
    "y_test"
   ]
  },
  {
   "cell_type": "markdown",
   "id": "9c074524",
   "metadata": {},
   "source": [
    "## Summary & next steps"
   ]
  },
  {
   "cell_type": "markdown",
   "id": "5259e7dd",
   "metadata": {},
   "source": [
    "* We feature engineered 'age' column from category to numeric by converting into age_mean.\n",
    "* We observed aged people have high chance of getting readmitted\n",
    "* We inspected the missing values, duplicated rows and outliers in the data\n",
    "* Plotted the correlation heatmap for the numeric features - num_medications positively correlated with time_in_hospital, age_mean negatively correlated with num_emergency\n",
    "* Followed by we scaled and verified the data\n",
    "* Created the training and test sets from the original dataframe\n",
    "\n",
    "**Next steps:**\n",
    "* Choosing 2 to 3 type of different models to train the dataset.\n",
    "* Analysing their performance metrics\n",
    "* Selecting the best model and deploying it."
   ]
  },
  {
   "cell_type": "markdown",
   "id": "5487c8ce",
   "metadata": {},
   "source": [
    "**Saving the data**"
   ]
  },
  {
   "cell_type": "code",
   "execution_count": 86,
   "id": "d74173f4",
   "metadata": {},
   "outputs": [
    {
     "name": "stdout",
     "output_type": "stream",
     "text": [
      "Writing file.  \"data/Diabetes_processed_NEW.csv\"\n"
     ]
    }
   ],
   "source": [
    "datapath = 'data/'\n",
    "\n",
    "# Saving the processed dataframe\n",
    "save_file(Diabetes, 'Diabetes_processed_NEW.csv', datapath)"
   ]
  }
 ],
 "metadata": {
  "kernelspec": {
   "display_name": "Python 3",
   "language": "python",
   "name": "python3"
  },
  "language_info": {
   "codemirror_mode": {
    "name": "ipython",
    "version": 3
   },
   "file_extension": ".py",
   "mimetype": "text/x-python",
   "name": "python",
   "nbconvert_exporter": "python",
   "pygments_lexer": "ipython3",
   "version": "3.9.4"
  }
 },
 "nbformat": 4,
 "nbformat_minor": 5
}
