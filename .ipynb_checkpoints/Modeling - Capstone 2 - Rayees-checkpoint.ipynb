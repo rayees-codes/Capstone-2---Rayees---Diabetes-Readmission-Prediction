{
 "cells": [
  {
   "cell_type": "markdown",
   "id": "44ea27ba",
   "metadata": {},
   "source": [
    "# Capstone 2 - Diabetes Patients’ Readmission Prediction\n",
    "\n",
    "## Modeling \n",
    "\n",
    "#### Code written by: Rayees Ahamed "
   ]
  },
  {
   "cell_type": "markdown",
   "id": "70a08321",
   "metadata": {},
   "source": [
    "**Steps:**\n",
    "1. Importing necessary packages\n",
    "2. Loading and verifying the scaled data\n",
    "3. Training & test split\n",
    "4. Model 1: Logistic Regression\n",
    "5. Model 2: k-Nearest Neighbors (kNN)\n",
    "6. Model 3: Random Forest Model\n",
    "7. Hyperparameter tuning\n",
    "8. Final model selection\n",
    "9. Making pipelines\n",
    "10. Summary & deployment"
   ]
  },
  {
   "cell_type": "markdown",
   "id": "a8a4968f",
   "metadata": {},
   "source": [
    "## Imports"
   ]
  },
  {
   "cell_type": "code",
   "execution_count": 148,
   "id": "009fa701",
   "metadata": {},
   "outputs": [],
   "source": [
    "import numpy as np\n",
    "import pandas as pd\n",
    "import matplotlib.pyplot as plt\n",
    "import seaborn as sns\n",
    "%matplotlib inline\n",
    "\n",
    "from sklearn.preprocessing import StandardScaler\n",
    "from sklearn.model_selection import train_test_split, cross_validate, GridSearchCV\n",
    "from sklearn.linear_model import LogisticRegression\n",
    "from sklearn.neighbors import KNeighborsClassifier\n",
    "from sklearn.ensemble import RandomForestClassifier\n",
    "from sklearn.ensemble import GradientBoostingClassifier\n",
    "from sklearn.metrics import accuracy_score, classification_report, confusion_matrix, roc_curve, auc\n",
    "\n",
    "from sklearn.pipeline import make_pipeline\n",
    "\n",
    "import warnings\n",
    "warnings.filterwarnings('ignore')"
   ]
  },
  {
   "cell_type": "markdown",
   "id": "d759a29d",
   "metadata": {},
   "source": [
    "## Loading the data"
   ]
  },
  {
   "cell_type": "code",
   "execution_count": 149,
   "id": "c08283ec",
   "metadata": {},
   "outputs": [
    {
     "data": {
      "text/html": [
       "<div>\n",
       "<style scoped>\n",
       "    .dataframe tbody tr th:only-of-type {\n",
       "        vertical-align: middle;\n",
       "    }\n",
       "\n",
       "    .dataframe tbody tr th {\n",
       "        vertical-align: top;\n",
       "    }\n",
       "\n",
       "    .dataframe thead th {\n",
       "        text-align: right;\n",
       "    }\n",
       "</style>\n",
       "<table border=\"1\" class=\"dataframe\">\n",
       "  <thead>\n",
       "    <tr style=\"text-align: right;\">\n",
       "      <th></th>\n",
       "      <th>gender</th>\n",
       "      <th>time_in_hospital</th>\n",
       "      <th>num_lab_procedures</th>\n",
       "      <th>num_procedures</th>\n",
       "      <th>num_medications</th>\n",
       "      <th>number_outpatient</th>\n",
       "      <th>number_emergency</th>\n",
       "      <th>number_inpatient</th>\n",
       "      <th>number_diagnoses</th>\n",
       "      <th>max_glu_serum</th>\n",
       "      <th>...</th>\n",
       "      <th>citoglipton</th>\n",
       "      <th>insulin</th>\n",
       "      <th>glyburide-metformin</th>\n",
       "      <th>glipizide-metformin</th>\n",
       "      <th>glimepiride-pioglitazone</th>\n",
       "      <th>metformin-rosiglitazone</th>\n",
       "      <th>metformin-pioglitazone</th>\n",
       "      <th>change</th>\n",
       "      <th>readmitted</th>\n",
       "      <th>age_mean</th>\n",
       "    </tr>\n",
       "  </thead>\n",
       "  <tbody>\n",
       "    <tr>\n",
       "      <th>0</th>\n",
       "      <td>Female</td>\n",
       "      <td>3</td>\n",
       "      <td>59</td>\n",
       "      <td>0</td>\n",
       "      <td>18</td>\n",
       "      <td>0</td>\n",
       "      <td>0</td>\n",
       "      <td>0</td>\n",
       "      <td>9</td>\n",
       "      <td>None</td>\n",
       "      <td>...</td>\n",
       "      <td>No</td>\n",
       "      <td>Up</td>\n",
       "      <td>No</td>\n",
       "      <td>No</td>\n",
       "      <td>No</td>\n",
       "      <td>No</td>\n",
       "      <td>No</td>\n",
       "      <td>Yes</td>\n",
       "      <td>&gt;30</td>\n",
       "      <td>15.0</td>\n",
       "    </tr>\n",
       "    <tr>\n",
       "      <th>1</th>\n",
       "      <td>Female</td>\n",
       "      <td>2</td>\n",
       "      <td>11</td>\n",
       "      <td>5</td>\n",
       "      <td>13</td>\n",
       "      <td>2</td>\n",
       "      <td>0</td>\n",
       "      <td>1</td>\n",
       "      <td>6</td>\n",
       "      <td>None</td>\n",
       "      <td>...</td>\n",
       "      <td>No</td>\n",
       "      <td>No</td>\n",
       "      <td>No</td>\n",
       "      <td>No</td>\n",
       "      <td>No</td>\n",
       "      <td>No</td>\n",
       "      <td>No</td>\n",
       "      <td>No</td>\n",
       "      <td>NO</td>\n",
       "      <td>25.0</td>\n",
       "    </tr>\n",
       "    <tr>\n",
       "      <th>2</th>\n",
       "      <td>Male</td>\n",
       "      <td>2</td>\n",
       "      <td>44</td>\n",
       "      <td>1</td>\n",
       "      <td>16</td>\n",
       "      <td>0</td>\n",
       "      <td>0</td>\n",
       "      <td>0</td>\n",
       "      <td>7</td>\n",
       "      <td>None</td>\n",
       "      <td>...</td>\n",
       "      <td>No</td>\n",
       "      <td>Up</td>\n",
       "      <td>No</td>\n",
       "      <td>No</td>\n",
       "      <td>No</td>\n",
       "      <td>No</td>\n",
       "      <td>No</td>\n",
       "      <td>Yes</td>\n",
       "      <td>NO</td>\n",
       "      <td>35.0</td>\n",
       "    </tr>\n",
       "    <tr>\n",
       "      <th>3</th>\n",
       "      <td>Male</td>\n",
       "      <td>1</td>\n",
       "      <td>51</td>\n",
       "      <td>0</td>\n",
       "      <td>8</td>\n",
       "      <td>0</td>\n",
       "      <td>0</td>\n",
       "      <td>0</td>\n",
       "      <td>5</td>\n",
       "      <td>None</td>\n",
       "      <td>...</td>\n",
       "      <td>No</td>\n",
       "      <td>Steady</td>\n",
       "      <td>No</td>\n",
       "      <td>No</td>\n",
       "      <td>No</td>\n",
       "      <td>No</td>\n",
       "      <td>No</td>\n",
       "      <td>Yes</td>\n",
       "      <td>NO</td>\n",
       "      <td>45.0</td>\n",
       "    </tr>\n",
       "    <tr>\n",
       "      <th>4</th>\n",
       "      <td>Male</td>\n",
       "      <td>3</td>\n",
       "      <td>31</td>\n",
       "      <td>6</td>\n",
       "      <td>16</td>\n",
       "      <td>0</td>\n",
       "      <td>0</td>\n",
       "      <td>0</td>\n",
       "      <td>9</td>\n",
       "      <td>None</td>\n",
       "      <td>...</td>\n",
       "      <td>No</td>\n",
       "      <td>Steady</td>\n",
       "      <td>No</td>\n",
       "      <td>No</td>\n",
       "      <td>No</td>\n",
       "      <td>No</td>\n",
       "      <td>No</td>\n",
       "      <td>No</td>\n",
       "      <td>&gt;30</td>\n",
       "      <td>55.0</td>\n",
       "    </tr>\n",
       "  </tbody>\n",
       "</table>\n",
       "<p>5 rows × 37 columns</p>\n",
       "</div>"
      ],
      "text/plain": [
       "   gender  time_in_hospital  num_lab_procedures  num_procedures  \\\n",
       "0  Female                 3                  59               0   \n",
       "1  Female                 2                  11               5   \n",
       "2    Male                 2                  44               1   \n",
       "3    Male                 1                  51               0   \n",
       "4    Male                 3                  31               6   \n",
       "\n",
       "   num_medications  number_outpatient  number_emergency  number_inpatient  \\\n",
       "0               18                  0                 0                 0   \n",
       "1               13                  2                 0                 1   \n",
       "2               16                  0                 0                 0   \n",
       "3                8                  0                 0                 0   \n",
       "4               16                  0                 0                 0   \n",
       "\n",
       "   number_diagnoses max_glu_serum  ... citoglipton insulin  \\\n",
       "0                 9          None  ...          No      Up   \n",
       "1                 6          None  ...          No      No   \n",
       "2                 7          None  ...          No      Up   \n",
       "3                 5          None  ...          No  Steady   \n",
       "4                 9          None  ...          No  Steady   \n",
       "\n",
       "  glyburide-metformin glipizide-metformin glimepiride-pioglitazone  \\\n",
       "0                  No                  No                       No   \n",
       "1                  No                  No                       No   \n",
       "2                  No                  No                       No   \n",
       "3                  No                  No                       No   \n",
       "4                  No                  No                       No   \n",
       "\n",
       "  metformin-rosiglitazone metformin-pioglitazone change readmitted age_mean  \n",
       "0                      No                     No    Yes        >30     15.0  \n",
       "1                      No                     No     No         NO     25.0  \n",
       "2                      No                     No    Yes         NO     35.0  \n",
       "3                      No                     No    Yes         NO     45.0  \n",
       "4                      No                     No     No        >30     55.0  \n",
       "\n",
       "[5 rows x 37 columns]"
      ]
     },
     "execution_count": 149,
     "metadata": {},
     "output_type": "execute_result"
    }
   ],
   "source": [
    "Diabetes = pd.read_csv('data/Diabetes_processed_NEW.csv')\n",
    "Diabetes.head()"
   ]
  },
  {
   "cell_type": "code",
   "execution_count": 150,
   "id": "c3b3318d",
   "metadata": {},
   "outputs": [
    {
     "data": {
      "text/plain": [
       "Index(['gender', 'time_in_hospital', 'num_lab_procedures', 'num_procedures',\n",
       "       'num_medications', 'number_outpatient', 'number_emergency',\n",
       "       'number_inpatient', 'number_diagnoses', 'max_glu_serum', 'A1Cresult',\n",
       "       'metformin', 'repaglinide', 'nateglinide', 'chlorpropamide',\n",
       "       'glimepiride', 'acetohexamide', 'glipizide', 'glyburide', 'tolbutamide',\n",
       "       'pioglitazone', 'rosiglitazone', 'acarbose', 'miglitol', 'troglitazone',\n",
       "       'tolazamide', 'examide', 'citoglipton', 'insulin',\n",
       "       'glyburide-metformin', 'glipizide-metformin',\n",
       "       'glimepiride-pioglitazone', 'metformin-rosiglitazone',\n",
       "       'metformin-pioglitazone', 'change', 'readmitted', 'age_mean'],\n",
       "      dtype='object')"
      ]
     },
     "execution_count": 150,
     "metadata": {},
     "output_type": "execute_result"
    }
   ],
   "source": [
    "Diabetes.columns"
   ]
  },
  {
   "cell_type": "markdown",
   "id": "d359c8df",
   "metadata": {},
   "source": [
    "## Preprocessing steps"
   ]
  },
  {
   "cell_type": "code",
   "execution_count": 151,
   "id": "d6dbc580",
   "metadata": {},
   "outputs": [],
   "source": [
    "# X variable assignment \n",
    "X = Diabetes.drop('readmitted', axis=1)"
   ]
  },
  {
   "cell_type": "code",
   "execution_count": 152,
   "id": "f43aa338",
   "metadata": {},
   "outputs": [],
   "source": [
    "# Getting dummies\n",
    "X = pd.get_dummies(X)"
   ]
  },
  {
   "cell_type": "code",
   "execution_count": 153,
   "id": "1d6a575e",
   "metadata": {},
   "outputs": [
    {
     "data": {
      "text/plain": [
       "array(['>30', 'NO', '<30'], dtype=object)"
      ]
     },
     "execution_count": 153,
     "metadata": {},
     "output_type": "execute_result"
    }
   ],
   "source": [
    "# Multiclass to binary class\n",
    "Diabetes['readmitted'].unique()"
   ]
  },
  {
   "cell_type": "code",
   "execution_count": 158,
   "id": "cdedb569",
   "metadata": {},
   "outputs": [],
   "source": [
    "df_copy = Diabetes"
   ]
  },
  {
   "cell_type": "code",
   "execution_count": 160,
   "id": "d51562f9",
   "metadata": {},
   "outputs": [
    {
     "data": {
      "text/plain": [
       "NO     52.235168\n",
       "YES    47.764832\n",
       "Name: readmitted, dtype: float64"
      ]
     },
     "execution_count": 160,
     "metadata": {},
     "output_type": "execute_result"
    }
   ],
   "source": [
    "df_copy['readmitted'].replace(to_replace='>30', value='YES', inplace=True)\n",
    "df_copy['readmitted'].replace(to_replace='<30', value='YES', inplace=True)\n",
    "df_copy.readmitted.value_counts() / len(df_copy.readmitted) * 100"
   ]
  },
  {
   "cell_type": "code",
   "execution_count": 161,
   "id": "b4dcc674",
   "metadata": {},
   "outputs": [],
   "source": [
    "y_copy = df_copy['readmitted']"
   ]
  },
  {
   "cell_type": "code",
   "execution_count": null,
   "id": "6c958de1",
   "metadata": {},
   "outputs": [],
   "source": []
  },
  {
   "cell_type": "code",
   "execution_count": null,
   "id": "d0f1319a",
   "metadata": {},
   "outputs": [],
   "source": []
  },
  {
   "cell_type": "code",
   "execution_count": 162,
   "id": "0244c06e",
   "metadata": {},
   "outputs": [],
   "source": [
    "# y variable assignment \n",
    "y = Diabetes['readmitted']"
   ]
  },
  {
   "cell_type": "markdown",
   "id": "36160ffc",
   "metadata": {},
   "source": [
    "## Train/Test split"
   ]
  },
  {
   "cell_type": "code",
   "execution_count": 163,
   "id": "f2f8fa98",
   "metadata": {},
   "outputs": [],
   "source": [
    "# Train & test set split\n",
    "X_train, X_test, y_train, y_test = train_test_split(X, y_copy, test_size=0.25, random_state=111)"
   ]
  },
  {
   "cell_type": "code",
   "execution_count": 164,
   "id": "d3c0f802",
   "metadata": {},
   "outputs": [
    {
     "data": {
      "text/plain": [
       "((58770, 92), (19591, 92))"
      ]
     },
     "execution_count": 164,
     "metadata": {},
     "output_type": "execute_result"
    }
   ],
   "source": [
    "# Verifying X shape\n",
    "X_train.shape, X_test.shape"
   ]
  },
  {
   "cell_type": "code",
   "execution_count": 165,
   "id": "cab314ed",
   "metadata": {},
   "outputs": [
    {
     "data": {
      "text/plain": [
       "((58770,), (19591,))"
      ]
     },
     "execution_count": 165,
     "metadata": {},
     "output_type": "execute_result"
    }
   ],
   "source": [
    "# Verifying y shape\n",
    "y_train.shape, y_test.shape"
   ]
  },
  {
   "cell_type": "code",
   "execution_count": 166,
   "id": "a47879dd",
   "metadata": {},
   "outputs": [
    {
     "data": {
      "text/plain": [
       "time_in_hospital                  True\n",
       "num_lab_procedures                True\n",
       "num_procedures                    True\n",
       "num_medications                   True\n",
       "number_outpatient                 True\n",
       "                                  ... \n",
       "metformin-rosiglitazone_Steady    True\n",
       "metformin-pioglitazone_No         True\n",
       "metformin-pioglitazone_Steady     True\n",
       "change_No                         True\n",
       "change_Yes                        True\n",
       "Length: 92, dtype: bool"
      ]
     },
     "execution_count": 166,
     "metadata": {},
     "output_type": "execute_result"
    }
   ],
   "source": [
    "# Checking datatype once\n",
    "X_train.dtypes != 'object'"
   ]
  },
  {
   "cell_type": "markdown",
   "id": "ce01035a",
   "metadata": {},
   "source": [
    "## Scaling the data"
   ]
  },
  {
   "cell_type": "code",
   "execution_count": 167,
   "id": "4d3c1108",
   "metadata": {},
   "outputs": [],
   "source": [
    "# Making a scaler object\n",
    "scaler = StandardScaler().fit(X_train)\n",
    "X_train_scaled = scaler.transform(X_train)\n",
    "X_test_scaled = scaler.transform(X_test)"
   ]
  },
  {
   "cell_type": "markdown",
   "id": "9009cdc1",
   "metadata": {},
   "source": [
    "## Verifying the scaling"
   ]
  },
  {
   "cell_type": "code",
   "execution_count": 168,
   "id": "e7ba1651",
   "metadata": {},
   "outputs": [
    {
     "data": {
      "text/plain": [
       "-3.49650725728912e-16"
      ]
     },
     "execution_count": 168,
     "metadata": {},
     "output_type": "execute_result"
    }
   ],
   "source": [
    "# Verifying the mean of scaled_df (mean =0)\n",
    "X_train_scaled.mean()"
   ]
  },
  {
   "cell_type": "code",
   "execution_count": 169,
   "id": "a2806609",
   "metadata": {},
   "outputs": [
    {
     "data": {
      "text/plain": [
       "1.012230708915198"
      ]
     },
     "execution_count": 169,
     "metadata": {},
     "output_type": "execute_result"
    }
   ],
   "source": [
    "# Verifying the standard deviation (std = 1)\n",
    "X_test_scaled.std(ddof=0)"
   ]
  },
  {
   "cell_type": "markdown",
   "id": "f9eb7c6d",
   "metadata": {},
   "source": [
    "## Model 1: Logistic regression"
   ]
  },
  {
   "cell_type": "code",
   "execution_count": 170,
   "id": "3494b131",
   "metadata": {},
   "outputs": [
    {
     "data": {
      "text/plain": [
       "LogisticRegression()"
      ]
     },
     "execution_count": 170,
     "metadata": {},
     "output_type": "execute_result"
    }
   ],
   "source": [
    "lg_model = LogisticRegression()\n",
    "lg_model.fit(X_train_scaled, y_train)"
   ]
  },
  {
   "cell_type": "code",
   "execution_count": 171,
   "id": "337222fd",
   "metadata": {},
   "outputs": [],
   "source": [
    "y_pred1 = lg_model.predict(X_test_scaled)"
   ]
  },
  {
   "cell_type": "code",
   "execution_count": 172,
   "id": "408f090d",
   "metadata": {},
   "outputs": [
    {
     "name": "stdout",
     "output_type": "stream",
     "text": [
      "0.605992547598387\n"
     ]
    }
   ],
   "source": [
    "print(accuracy_score(y_pred1, y_test))"
   ]
  },
  {
   "cell_type": "markdown",
   "id": "19160ba3",
   "metadata": {},
   "source": [
    "### Tuning the regularization strength (C-value)"
   ]
  },
  {
   "cell_type": "code",
   "execution_count": 174,
   "id": "7539a67a",
   "metadata": {},
   "outputs": [
    {
     "name": "stdout",
     "output_type": "stream",
     "text": [
      "C value: 0.001  - average CV score:  0.605277933745087\n",
      "C value: 0.1  - average CV score:  0.605992547598387\n",
      "C value: 1  - average CV score:  0.605992547598387\n",
      "C value: 10  - average CV score:  0.605992547598387\n",
      "C value: 100  - average CV score:  0.605992547598387\n"
     ]
    }
   ],
   "source": [
    "Cs = [0.001, 0.1, 1, 10, 100]\n",
    "\n",
    "# Looping c values\n",
    "for c in Cs:\n",
    "    lr_Cs = LogisticRegression(C=c, n_jobs=-1)\n",
    "    lr_Cs.fit(X_train_scaled, y_train)\n",
    "    y_pred_Cs = lr_Cs.predict(X_test_scaled)\n",
    "    print('C value:', c, ' - average CV score: ', accuracy_score(y_pred_Cs, y_test))"
   ]
  },
  {
   "cell_type": "markdown",
   "id": "17d3750b",
   "metadata": {},
   "source": [
    "### Assessing the performance using cross validation"
   ]
  },
  {
   "cell_type": "code",
   "execution_count": 175,
   "id": "ed41a5db",
   "metadata": {},
   "outputs": [],
   "source": [
    "# CV=10\n",
    "cv_lg_model = cross_validate(lg_model, X_train_scaled, y_train, cv=10)"
   ]
  },
  {
   "cell_type": "code",
   "execution_count": 176,
   "id": "d4c40c26",
   "metadata": {},
   "outputs": [
    {
     "data": {
      "text/plain": [
       "array([0.61068572, 0.59622256, 0.60762294, 0.60660201, 0.6062617 ,\n",
       "       0.61374851, 0.60966479, 0.60864387, 0.60643185, 0.61783223])"
      ]
     },
     "execution_count": 176,
     "metadata": {},
     "output_type": "execute_result"
    }
   ],
   "source": [
    "cv_lg_model['test_score']"
   ]
  },
  {
   "cell_type": "markdown",
   "id": "48ebbbbe",
   "metadata": {},
   "source": [
    "## Model 2: KNearest Neighbors Classifier"
   ]
  },
  {
   "cell_type": "code",
   "execution_count": 177,
   "id": "d3d4d7ae",
   "metadata": {},
   "outputs": [
    {
     "name": "stdout",
     "output_type": "stream",
     "text": [
      "Train score: 0.7706653054279394\n",
      "Test score: 0.553621560920831\n"
     ]
    }
   ],
   "source": [
    "# Initial model (k=3)\n",
    "knn = KNeighborsClassifier(n_neighbors=3, n_jobs=-1)\n",
    "knn.fit(X_train_scaled, y_train)\n",
    "print('Train score:', knn.score(X_train_scaled, y_train))\n",
    "print('Test score:', knn.score(X_test_scaled, y_test))"
   ]
  },
  {
   "cell_type": "markdown",
   "id": "f74b873f",
   "metadata": {},
   "source": [
    "### Finding the right 'k' neighbors values"
   ]
  },
  {
   "cell_type": "code",
   "execution_count": 179,
   "id": "e58230ec",
   "metadata": {},
   "outputs": [],
   "source": [
    "test_scores = []\n",
    "train_scores = []\n",
    "\n",
    "for k in range(1,10):\n",
    "    knn = KNeighborsClassifier(n_neighbors=k, n_jobs=-1)\n",
    "    knn.fit(X_train_scaled, y_train)\n",
    "    \n",
    "    train_scores.append(knn.score(X_train_scaled, y_train))\n",
    "    test_scores.append(knn.score(X_test_scaled, y_test))"
   ]
  },
  {
   "cell_type": "code",
   "execution_count": 180,
   "id": "1495c872",
   "metadata": {},
   "outputs": [
    {
     "name": "stdout",
     "output_type": "stream",
     "text": [
      "   train_scores  test_scores\n",
      "k                           \n",
      "1      0.999813     0.543004\n",
      "2      0.764233     0.551784\n",
      "3      0.770665     0.553622\n",
      "4      0.709920     0.559441\n",
      "5      0.716369     0.556633\n",
      "6      0.685979     0.563167\n",
      "7      0.690522     0.566689\n",
      "8      0.671941     0.566638\n",
      "9      0.675957     0.565566\n"
     ]
    }
   ],
   "source": [
    "# Printing the scores according to k\n",
    "knn_scores = pd.DataFrame({'train_scores':train_scores, 'test_scores':test_scores})\n",
    "knn_scores['k'] = list(range(1,10))\n",
    "knn_scores.set_index('k', inplace=True)\n",
    "print(knn_scores)"
   ]
  },
  {
   "cell_type": "markdown",
   "id": "3f02644f",
   "metadata": {},
   "source": [
    "### Cross validation kNN"
   ]
  },
  {
   "cell_type": "code",
   "execution_count": 181,
   "id": "71e86726",
   "metadata": {},
   "outputs": [],
   "source": [
    "cv_knn = cross_validate(knn, X_train_scaled, y_train, cv=10)"
   ]
  },
  {
   "cell_type": "code",
   "execution_count": 183,
   "id": "b0f362d1",
   "metadata": {},
   "outputs": [
    {
     "name": "stdout",
     "output_type": "stream",
     "text": [
      "CV-kNN, Test scores: [0.56168113 0.56185128 0.56236175 0.57699507 0.54415518 0.58124894\n",
      " 0.5746129  0.56678578 0.55946912 0.57291135]\n"
     ]
    }
   ],
   "source": [
    "print('CV-kNN, Test scores:', cv_knn['test_score'])"
   ]
  },
  {
   "cell_type": "code",
   "execution_count": 184,
   "id": "250d9c6f",
   "metadata": {},
   "outputs": [],
   "source": [
    "y_pred = knn.predict(X_test_scaled)"
   ]
  },
  {
   "cell_type": "code",
   "execution_count": 185,
   "id": "74a204c5",
   "metadata": {},
   "outputs": [
    {
     "name": "stdout",
     "output_type": "stream",
     "text": [
      "              precision    recall  f1-score   support\n",
      "\n",
      "          NO       0.57      0.64      0.61     10207\n",
      "         YES       0.55      0.48      0.52      9384\n",
      "\n",
      "    accuracy                           0.57     19591\n",
      "   macro avg       0.56      0.56      0.56     19591\n",
      "weighted avg       0.56      0.57      0.56     19591\n",
      "\n"
     ]
    }
   ],
   "source": [
    "cr_knn = classification_report(y_test, y_pred)\n",
    "print(cr_knn)"
   ]
  },
  {
   "cell_type": "markdown",
   "id": "63b46697",
   "metadata": {},
   "source": [
    "### Grid Search CV - kNN"
   ]
  },
  {
   "cell_type": "code",
   "execution_count": 186,
   "id": "80479d99",
   "metadata": {},
   "outputs": [
    {
     "data": {
      "text/plain": [
       "GridSearchCV(cv=5, estimator=KNeighborsClassifier(),\n",
       "             param_grid={'n_neighbors': array([ 1,  2,  3,  4,  5,  6,  7,  8,  9, 10, 11, 12, 13, 14, 15, 16, 17,\n",
       "       18, 19, 20, 21, 22, 23, 24, 25, 26, 27, 28, 29, 30, 31, 32, 33, 34,\n",
       "       35, 36, 37, 38, 39, 40, 41, 42, 43, 44, 45, 46, 47, 48, 49])})"
      ]
     },
     "execution_count": 186,
     "metadata": {},
     "output_type": "execute_result"
    }
   ],
   "source": [
    "param_grid = {'n_neighbors':np.arange(1,50)}\n",
    "knn = KNeighborsClassifier()\n",
    "knn_gridCV = GridSearchCV(knn, param_grid, cv=5)\n",
    "knn_gridCV.fit(X_train_scaled, y_train)"
   ]
  },
  {
   "cell_type": "code",
   "execution_count": 187,
   "id": "f6e02dbc",
   "metadata": {},
   "outputs": [
    {
     "name": "stdout",
     "output_type": "stream",
     "text": [
      "Best score:0.5780500255232262\n",
      "Best param:{'n_neighbors': 49}\n"
     ]
    }
   ],
   "source": [
    "print('Best score:' + str(knn_gridCV.best_score_))\n",
    "print('Best param:' + str(knn_gridCV.best_params_))"
   ]
  },
  {
   "cell_type": "code",
   "execution_count": null,
   "id": "fd13f3b2",
   "metadata": {},
   "outputs": [],
   "source": []
  }
 ],
 "metadata": {
  "kernelspec": {
   "display_name": "Python 3",
   "language": "python",
   "name": "python3"
  },
  "language_info": {
   "codemirror_mode": {
    "name": "ipython",
    "version": 3
   },
   "file_extension": ".py",
   "mimetype": "text/x-python",
   "name": "python",
   "nbconvert_exporter": "python",
   "pygments_lexer": "ipython3",
   "version": "3.9.4"
  }
 },
 "nbformat": 4,
 "nbformat_minor": 5
}
