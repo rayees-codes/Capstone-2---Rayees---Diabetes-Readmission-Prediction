{
 "cells": [
  {
   "cell_type": "markdown",
   "id": "3e3cb84e",
   "metadata": {},
   "source": [
    "# Capstone 2 - Diabetes Patients’ Readmission Prediction\n",
    "\n",
    "## Processing and training\n",
    "\n",
    "Code written by: Rayees Ahamed"
   ]
  },
  {
   "cell_type": "markdown",
   "id": "12ebb99e",
   "metadata": {},
   "source": [
    "**Steps:**\n",
    "\n",
    "1. Scaling the data to higher dimension > scaled_df (Onehot encode, get_dummies)\n",
    "2. Verifying the scaling (mean/sd/others)\n",
    "3. Calculate the PCA transformation (see why it is required then apply)\n",
    "4. Feature engineering - new features from existing featcolumns (e.g. column1 / column2)\n",
    "5. Feature correlation (heatmaps, boxplots)\n",
    "6. Check the new features and find if any relation with other variables (scatterplots, pairplot, regplot etc.)\n",
    "7. Split train, test and validation sets\n",
    "8. \n",
    "7. Save data & summary"
   ]
  },
  {
   "cell_type": "code",
   "execution_count": null,
   "id": "0ea44baa",
   "metadata": {},
   "outputs": [],
   "source": []
  }
 ],
 "metadata": {
  "kernelspec": {
   "display_name": "Python 3",
   "language": "python",
   "name": "python3"
  },
  "language_info": {
   "codemirror_mode": {
    "name": "ipython",
    "version": 3
   },
   "file_extension": ".py",
   "mimetype": "text/x-python",
   "name": "python",
   "nbconvert_exporter": "python",
   "pygments_lexer": "ipython3",
   "version": "3.9.4"
  }
 },
 "nbformat": 4,
 "nbformat_minor": 5
}
