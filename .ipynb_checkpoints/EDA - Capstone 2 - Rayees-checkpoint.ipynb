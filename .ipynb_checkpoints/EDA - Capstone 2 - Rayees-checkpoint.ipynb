{
 "cells": [
  {
   "cell_type": "markdown",
   "id": "19d0a763",
   "metadata": {},
   "source": [
    "# Capstone 2 - Diabetes Patients’ Readmission Prediction\n",
    "\n",
    "## Exploratory Data Analysis\n",
    "\n",
    "Code written by: Rayees Ahamed"
   ]
  },
  {
   "cell_type": "markdown",
   "id": "b1c43d82",
   "metadata": {},
   "source": [
    "**Problem statement:** \n",
    "What are the factors leading to high readmission of diabetes patients’ to hospital within 30 days of discharge?\n",
    "\n",
    "**EDA Steps**:\n",
    "\n",
    "1. Explore remaining variables and clean them\n",
    "2. Plot different variables and visualize them\n",
    "3. Find relationship between each variables and identify the key features\n",
    "4. Extract neccessary info and store them in separate dataframes\n",
    "5. Save data & summarize the findings"
   ]
  },
  {
   "cell_type": "markdown",
   "id": "81b80ba3",
   "metadata": {},
   "source": [
    "## Importing packages"
   ]
  },
  {
   "cell_type": "code",
   "execution_count": 1,
   "id": "a88185a7",
   "metadata": {},
   "outputs": [],
   "source": [
    "# Importing packages\n",
    "import pandas as pd\n",
    "import numpy as np\n",
    "import matplotlib.pyplot as plt\n",
    "import seaborn as sns\n",
    "import os\n",
    "\n",
    "from library.sb_utils import save_file\n",
    "\n",
    "%matplotlib inline\n",
    "\n",
    "import warnings\n",
    "warnings.filterwarnings('ignore')"
   ]
  },
  {
   "cell_type": "markdown",
   "id": "583e5406",
   "metadata": {},
   "source": [
    "## Loading data"
   ]
  },
  {
   "cell_type": "code",
   "execution_count": 2,
   "id": "a1513fa3",
   "metadata": {},
   "outputs": [],
   "source": [
    "# Reading the cleaned csv data from data wrangling\n",
    "d_data = pd.read_csv('data/d_data_cleaned.csv')"
   ]
  },
  {
   "cell_type": "markdown",
   "id": "1b9c1dd4",
   "metadata": {},
   "source": [
    "## Exploring the data"
   ]
  },
  {
   "cell_type": "code",
   "execution_count": 3,
   "id": "2b4e3c0c",
   "metadata": {},
   "outputs": [
    {
     "data": {
      "text/html": [
       "<div>\n",
       "<style scoped>\n",
       "    .dataframe tbody tr th:only-of-type {\n",
       "        vertical-align: middle;\n",
       "    }\n",
       "\n",
       "    .dataframe tbody tr th {\n",
       "        vertical-align: top;\n",
       "    }\n",
       "\n",
       "    .dataframe thead th {\n",
       "        text-align: right;\n",
       "    }\n",
       "</style>\n",
       "<table border=\"1\" class=\"dataframe\">\n",
       "  <thead>\n",
       "    <tr style=\"text-align: right;\">\n",
       "      <th></th>\n",
       "      <th>encounter_id</th>\n",
       "      <th>patient_nbr</th>\n",
       "      <th>race</th>\n",
       "      <th>gender</th>\n",
       "      <th>age</th>\n",
       "      <th>admission_type_id</th>\n",
       "      <th>discharge_disposition_id</th>\n",
       "      <th>admission_source_id</th>\n",
       "      <th>time_in_hospital</th>\n",
       "      <th>payer_code</th>\n",
       "      <th>...</th>\n",
       "      <th>citoglipton</th>\n",
       "      <th>insulin</th>\n",
       "      <th>glyburide-metformin</th>\n",
       "      <th>glipizide-metformin</th>\n",
       "      <th>glimepiride-pioglitazone</th>\n",
       "      <th>metformin-rosiglitazone</th>\n",
       "      <th>metformin-pioglitazone</th>\n",
       "      <th>change</th>\n",
       "      <th>diabetesMed</th>\n",
       "      <th>readmitted</th>\n",
       "    </tr>\n",
       "  </thead>\n",
       "  <tbody>\n",
       "    <tr>\n",
       "      <th>0</th>\n",
       "      <td>2278392</td>\n",
       "      <td>8222157</td>\n",
       "      <td>Caucasian</td>\n",
       "      <td>Female</td>\n",
       "      <td>[0-10]</td>\n",
       "      <td>6</td>\n",
       "      <td>25</td>\n",
       "      <td>1</td>\n",
       "      <td>1</td>\n",
       "      <td>?</td>\n",
       "      <td>...</td>\n",
       "      <td>No</td>\n",
       "      <td>No</td>\n",
       "      <td>No</td>\n",
       "      <td>No</td>\n",
       "      <td>No</td>\n",
       "      <td>No</td>\n",
       "      <td>No</td>\n",
       "      <td>No</td>\n",
       "      <td>No</td>\n",
       "      <td>NO</td>\n",
       "    </tr>\n",
       "    <tr>\n",
       "      <th>1</th>\n",
       "      <td>149190</td>\n",
       "      <td>55629189</td>\n",
       "      <td>Caucasian</td>\n",
       "      <td>Female</td>\n",
       "      <td>[10-20]</td>\n",
       "      <td>1</td>\n",
       "      <td>1</td>\n",
       "      <td>7</td>\n",
       "      <td>3</td>\n",
       "      <td>?</td>\n",
       "      <td>...</td>\n",
       "      <td>No</td>\n",
       "      <td>Up</td>\n",
       "      <td>No</td>\n",
       "      <td>No</td>\n",
       "      <td>No</td>\n",
       "      <td>No</td>\n",
       "      <td>No</td>\n",
       "      <td>Ch</td>\n",
       "      <td>Yes</td>\n",
       "      <td>&gt;30</td>\n",
       "    </tr>\n",
       "    <tr>\n",
       "      <th>2</th>\n",
       "      <td>64410</td>\n",
       "      <td>86047875</td>\n",
       "      <td>AfricanAmerican</td>\n",
       "      <td>Female</td>\n",
       "      <td>[20-30]</td>\n",
       "      <td>1</td>\n",
       "      <td>1</td>\n",
       "      <td>7</td>\n",
       "      <td>2</td>\n",
       "      <td>?</td>\n",
       "      <td>...</td>\n",
       "      <td>No</td>\n",
       "      <td>No</td>\n",
       "      <td>No</td>\n",
       "      <td>No</td>\n",
       "      <td>No</td>\n",
       "      <td>No</td>\n",
       "      <td>No</td>\n",
       "      <td>No</td>\n",
       "      <td>Yes</td>\n",
       "      <td>NO</td>\n",
       "    </tr>\n",
       "    <tr>\n",
       "      <th>3</th>\n",
       "      <td>500364</td>\n",
       "      <td>82442376</td>\n",
       "      <td>Caucasian</td>\n",
       "      <td>Male</td>\n",
       "      <td>[30-40]</td>\n",
       "      <td>1</td>\n",
       "      <td>1</td>\n",
       "      <td>7</td>\n",
       "      <td>2</td>\n",
       "      <td>?</td>\n",
       "      <td>...</td>\n",
       "      <td>No</td>\n",
       "      <td>Up</td>\n",
       "      <td>No</td>\n",
       "      <td>No</td>\n",
       "      <td>No</td>\n",
       "      <td>No</td>\n",
       "      <td>No</td>\n",
       "      <td>Ch</td>\n",
       "      <td>Yes</td>\n",
       "      <td>NO</td>\n",
       "    </tr>\n",
       "    <tr>\n",
       "      <th>4</th>\n",
       "      <td>16680</td>\n",
       "      <td>42519267</td>\n",
       "      <td>Caucasian</td>\n",
       "      <td>Male</td>\n",
       "      <td>[40-50]</td>\n",
       "      <td>1</td>\n",
       "      <td>1</td>\n",
       "      <td>7</td>\n",
       "      <td>1</td>\n",
       "      <td>?</td>\n",
       "      <td>...</td>\n",
       "      <td>No</td>\n",
       "      <td>Steady</td>\n",
       "      <td>No</td>\n",
       "      <td>No</td>\n",
       "      <td>No</td>\n",
       "      <td>No</td>\n",
       "      <td>No</td>\n",
       "      <td>Ch</td>\n",
       "      <td>Yes</td>\n",
       "      <td>NO</td>\n",
       "    </tr>\n",
       "  </tbody>\n",
       "</table>\n",
       "<p>5 rows × 49 columns</p>\n",
       "</div>"
      ],
      "text/plain": [
       "   encounter_id  patient_nbr             race  gender      age  \\\n",
       "0       2278392      8222157        Caucasian  Female   [0-10]   \n",
       "1        149190     55629189        Caucasian  Female  [10-20]   \n",
       "2         64410     86047875  AfricanAmerican  Female  [20-30]   \n",
       "3        500364     82442376        Caucasian    Male  [30-40]   \n",
       "4         16680     42519267        Caucasian    Male  [40-50]   \n",
       "\n",
       "   admission_type_id  discharge_disposition_id  admission_source_id  \\\n",
       "0                  6                        25                    1   \n",
       "1                  1                         1                    7   \n",
       "2                  1                         1                    7   \n",
       "3                  1                         1                    7   \n",
       "4                  1                         1                    7   \n",
       "\n",
       "   time_in_hospital payer_code  ... citoglipton  insulin  glyburide-metformin  \\\n",
       "0                 1          ?  ...          No       No                   No   \n",
       "1                 3          ?  ...          No       Up                   No   \n",
       "2                 2          ?  ...          No       No                   No   \n",
       "3                 2          ?  ...          No       Up                   No   \n",
       "4                 1          ?  ...          No   Steady                   No   \n",
       "\n",
       "   glipizide-metformin  glimepiride-pioglitazone  metformin-rosiglitazone  \\\n",
       "0                   No                        No                       No   \n",
       "1                   No                        No                       No   \n",
       "2                   No                        No                       No   \n",
       "3                   No                        No                       No   \n",
       "4                   No                        No                       No   \n",
       "\n",
       "   metformin-pioglitazone change diabetesMed readmitted  \n",
       "0                      No     No          No         NO  \n",
       "1                      No     Ch         Yes        >30  \n",
       "2                      No     No         Yes         NO  \n",
       "3                      No     Ch         Yes         NO  \n",
       "4                      No     Ch         Yes         NO  \n",
       "\n",
       "[5 rows x 49 columns]"
      ]
     },
     "execution_count": 3,
     "metadata": {},
     "output_type": "execute_result"
    }
   ],
   "source": [
    "d_data.head()"
   ]
  },
  {
   "cell_type": "markdown",
   "id": "b80b86a5",
   "metadata": {},
   "source": [
    "## Revisiting all the features once again"
   ]
  },
  {
   "cell_type": "code",
   "execution_count": 4,
   "id": "703e2d31",
   "metadata": {},
   "outputs": [
    {
     "name": "stdout",
     "output_type": "stream",
     "text": [
      "<class 'pandas.core.frame.DataFrame'>\n",
      "RangeIndex: 101763 entries, 0 to 101762\n",
      "Data columns (total 49 columns):\n",
      " #   Column                    Non-Null Count   Dtype \n",
      "---  ------                    --------------   ----- \n",
      " 0   encounter_id              101763 non-null  int64 \n",
      " 1   patient_nbr               101763 non-null  int64 \n",
      " 2   race                      101763 non-null  object\n",
      " 3   gender                    101763 non-null  object\n",
      " 4   age                       101763 non-null  object\n",
      " 5   admission_type_id         101763 non-null  int64 \n",
      " 6   discharge_disposition_id  101763 non-null  int64 \n",
      " 7   admission_source_id       101763 non-null  int64 \n",
      " 8   time_in_hospital          101763 non-null  int64 \n",
      " 9   payer_code                101763 non-null  object\n",
      " 10  medical_specialty         101763 non-null  object\n",
      " 11  num_lab_procedures        101763 non-null  int64 \n",
      " 12  num_procedures            101763 non-null  int64 \n",
      " 13  num_medications           101763 non-null  int64 \n",
      " 14  number_outpatient         101763 non-null  int64 \n",
      " 15  number_emergency          101763 non-null  int64 \n",
      " 16  number_inpatient          101763 non-null  int64 \n",
      " 17  diag_1                    101763 non-null  object\n",
      " 18  diag_2                    101763 non-null  object\n",
      " 19  diag_3                    101763 non-null  object\n",
      " 20  number_diagnoses          101763 non-null  int64 \n",
      " 21  max_glu_serum             101763 non-null  object\n",
      " 22  A1Cresult                 101763 non-null  object\n",
      " 23  metformin                 101763 non-null  object\n",
      " 24  repaglinide               101763 non-null  object\n",
      " 25  nateglinide               101763 non-null  object\n",
      " 26  chlorpropamide            101763 non-null  object\n",
      " 27  glimepiride               101763 non-null  object\n",
      " 28  acetohexamide             101763 non-null  object\n",
      " 29  glipizide                 101763 non-null  object\n",
      " 30  glyburide                 101763 non-null  object\n",
      " 31  tolbutamide               101763 non-null  object\n",
      " 32  pioglitazone              101763 non-null  object\n",
      " 33  rosiglitazone             101763 non-null  object\n",
      " 34  acarbose                  101763 non-null  object\n",
      " 35  miglitol                  101763 non-null  object\n",
      " 36  troglitazone              101763 non-null  object\n",
      " 37  tolazamide                101763 non-null  object\n",
      " 38  examide                   101763 non-null  object\n",
      " 39  citoglipton               101763 non-null  object\n",
      " 40  insulin                   101763 non-null  object\n",
      " 41  glyburide-metformin       101763 non-null  object\n",
      " 42  glipizide-metformin       101763 non-null  object\n",
      " 43  glimepiride-pioglitazone  101763 non-null  object\n",
      " 44  metformin-rosiglitazone   101763 non-null  object\n",
      " 45  metformin-pioglitazone    101763 non-null  object\n",
      " 46  change                    101763 non-null  object\n",
      " 47  diabetesMed               101763 non-null  object\n",
      " 48  readmitted                101763 non-null  object\n",
      "dtypes: int64(13), object(36)\n",
      "memory usage: 38.0+ MB\n"
     ]
    }
   ],
   "source": [
    "d_data.info()"
   ]
  },
  {
   "cell_type": "markdown",
   "id": "e42284c3",
   "metadata": {},
   "source": [
    "## Categorical vs Numberical variables\n",
    "\n",
    "Our data contains more of categorical features than numeric features. We can count the total variables of each type."
   ]
  },
  {
   "cell_type": "code",
   "execution_count": 5,
   "id": "31f3d57b",
   "metadata": {},
   "outputs": [
    {
     "name": "stdout",
     "output_type": "stream",
     "text": [
      "Categorical variable count: 36\n",
      "Numeric variable count: 13\n"
     ]
    }
   ],
   "source": [
    "# Counting number of categorical & numerical variables\n",
    "object_count = d_data.select_dtypes(include='object').columns.value_counts()\n",
    "num_count = d_data.select_dtypes(exclude='object').columns.value_counts()\n",
    "print('Categorical variable count:', object_count.sum())\n",
    "print('Numeric variable count:', num_count.sum())"
   ]
  },
  {
   "cell_type": "markdown",
   "id": "fa9795a5",
   "metadata": {},
   "source": [
    "Since our data has more of categorical variables, we can start assume we may use classification as our model. \n",
    "\n",
    "But for now we can identify what are the features may be important for our analysis\n",
    "\n",
    "**Features of importance:**\n",
    "\n",
    "* Race, Gender - to see the distribution of different race and gender surveyed\n",
    "* Admission type - key to look on emergency or regular visit\n",
    "* **Time in hospital** - defines how many days in hospital is bad for patient, or whether short time stayed patient left early?\n",
    "* Number of lab tests - more tests may say patient have more complications?\n",
    "* Number of procedures - not clear whether it is some treatment or surgery or others - but give a glimpse\n",
    "* **Number of medications** - important to analyse: \n",
    "    a) No. of medicines given, \n",
    "    b) Medicines given to readmitted & not-redmitted patients, \n",
    "    c) Any effect of medicines that reduced the admission frequency in any group of patients?\n",
    "* **Glucose serum test** - indicates the normal & high glucose levels\n",
    "* Change of medications - any changes in medication resulted in no readmission\n",
    "* Diabtes medications prescribed - confirms the person is normal or diabetic\n",
    "* **Readmitted** - dependent or target variable for our study"
   ]
  },
  {
   "cell_type": "markdown",
   "id": "7a2bb232",
   "metadata": {},
   "source": [
    "## Target variable - 'readmitted'\n",
    "\n",
    "The **'readmitted'** column is our target variable which will help to predict the patient's readmission within 30 days.\n",
    "\n",
    "Checking the target variable once again."
   ]
  },
  {
   "cell_type": "code",
   "execution_count": 6,
   "id": "dfb954d1",
   "metadata": {},
   "outputs": [
    {
     "data": {
      "image/png": "[encoded data removed]",
      "text/plain": [
       "<Figure size 432x288 with 1 Axes>"
      ]
     },
     "metadata": {
      "needs_background": "light"
     },
     "output_type": "display_data"
    }
   ],
   "source": [
    "# Plotting target variable - 'readmitted'\n",
    "d_data['readmitted'].value_counts().plot(kind='barh')\n",
    "plt.title('Target variable - readmitted')\n",
    "plt.xlabel('No. of patients')\n",
    "plt.ylabel('readmitted')\n",
    "plt.show()"
   ]
  },
  {
   "cell_type": "markdown",
   "id": "5b638a8f",
   "metadata": {},
   "source": [
    "Recalling the aim of the project,\n",
    "\n",
    "**\"We need to find attributes that will help in predicting the patient readmission in the hospital\"**\n",
    "\n",
    "Looking at the target variable: **'readmitted'**\n",
    "\n",
    "Three different entries we can see,\n",
    "* 'NO' - not readmitted\n",
    "* '>30' - readmitted after 30 days\n",
    "* '<30' - readmitted within 30 days\n",
    "\n",
    "Our key questions are:\n",
    "* Why large group of people did not get readmitted? \n",
    "* What attributes helped them not to get readmitted? What medications they taken?\n",
    "* Why some group of people got readmitted within 30 days?\n",
    "\n",
    "We can explore the remaining variables left from the data wrangling and can find which is useful..."
   ]
  },
  {
   "cell_type": "markdown",
   "id": "662b9cd0",
   "metadata": {},
   "source": [
    "### Exploring variables - race, gender\n",
    "\n",
    "We can check the distribution of people from different races surveyed here."
   ]
  },
  {
   "cell_type": "markdown",
   "id": "1a7f3a0a",
   "metadata": {},
   "source": [
    "**Race**"
   ]
  },
  {
   "cell_type": "code",
   "execution_count": 7,
   "id": "4fc5e58b",
   "metadata": {},
   "outputs": [
    {
     "data": {
      "text/plain": [
       "Caucasian          76099\n",
       "AfricanAmerican    19210\n",
       "?                   2271\n",
       "Hispanic            2037\n",
       "Other               1505\n",
       "Asian                641\n",
       "Name: race, dtype: int64"
      ]
     },
     "execution_count": 7,
     "metadata": {},
     "output_type": "execute_result"
    }
   ],
   "source": [
    "# Checking race column\n",
    "d_data.race.value_counts()"
   ]
  },
  {
   "cell_type": "markdown",
   "id": "18328b5d",
   "metadata": {},
   "source": [
    "'?' mentioned as a race, that can be combined into 'Other', since we do not know what race it is."
   ]
  },
  {
   "cell_type": "code",
   "execution_count": 8,
   "id": "de8c0bea",
   "metadata": {},
   "outputs": [],
   "source": [
    "# Converting '?' into 'Other'\n",
    "d_data['race'] = d_data['race'].str.replace('?', 'Other')"
   ]
  },
  {
   "cell_type": "code",
   "execution_count": 9,
   "id": "8050b49b",
   "metadata": {},
   "outputs": [
    {
     "data": {
      "text/plain": [
       "Caucasian          76099\n",
       "AfricanAmerican    19210\n",
       "Other               3776\n",
       "Hispanic            2037\n",
       "Asian                641\n",
       "Name: race, dtype: int64"
      ]
     },
     "execution_count": 9,
     "metadata": {},
     "output_type": "execute_result"
    }
   ],
   "source": [
    "# Checking race column again\n",
    "d_data.race.value_counts()"
   ]
  },
  {
   "cell_type": "markdown",
   "id": "6d1a37ca",
   "metadata": {},
   "source": [
    "Now '?' marked entries merged with 'Other' column. Lookign at the result, most of the patients were 'Caucasian', we can check this in terms of percentage."
   ]
  },
  {
   "cell_type": "code",
   "execution_count": 10,
   "id": "8076d36e",
   "metadata": {},
   "outputs": [
    {
     "data": {
      "text/plain": [
       "Caucasian          74.780618\n",
       "AfricanAmerican    18.877195\n",
       "Other               3.710582\n",
       "Hispanic            2.001710\n",
       "Asian               0.629895\n",
       "Name: race, dtype: float64"
      ]
     },
     "execution_count": 10,
     "metadata": {},
     "output_type": "execute_result"
    }
   ],
   "source": [
    "# Calculating percentage of each race\n",
    "d_data.race.value_counts() / len(d_data.race) * 100"
   ]
  },
  {
   "cell_type": "markdown",
   "id": "2706439d",
   "metadata": {},
   "source": [
    "* Around 74% of the surveyed patients were 'Caucasian', \n",
    "* Secondly 18% patients are 'AfricanAmerican'. \n",
    "* 'Asian' are the lowest in the list. "
   ]
  },
  {
   "cell_type": "markdown",
   "id": "1057e7bc",
   "metadata": {},
   "source": [
    "**Gender**\n",
    "\n",
    "Checking the gender column to see the male and female distribution"
   ]
  },
  {
   "cell_type": "code",
   "execution_count": 11,
   "id": "4c397566",
   "metadata": {},
   "outputs": [
    {
     "data": {
      "text/plain": [
       "Female    53.760208\n",
       "Male      46.239792\n",
       "Name: gender, dtype: float64"
      ]
     },
     "execution_count": 11,
     "metadata": {},
     "output_type": "execute_result"
    }
   ],
   "source": [
    "# Checking gender column in terms of percentage\n",
    "d_data['gender'].value_counts() / len(d_data.gender) * 100"
   ]
  },
  {
   "cell_type": "markdown",
   "id": "94eeceac",
   "metadata": {},
   "source": [
    "This is roughly a good distribution. Because both men and women entries share around 50% each. So, there is no much imbalance of one gender. We can also see which gender is more prone to get redmitted later."
   ]
  },
  {
   "cell_type": "markdown",
   "id": "a7b7730c",
   "metadata": {},
   "source": [
    "## Do all of them are diabetic? - we need only diabetic people"
   ]
  },
  {
   "cell_type": "markdown",
   "id": "338db718",
   "metadata": {},
   "source": [
    "Before we investigate further, do all the people in the data really have diabetes? Because, there is a chance our data may contain other people who also visited hospital, but they may not have diabetes. So including normal people in analysis may create bias in our study. \n",
    "\n",
    "To confirm each patient have diabetes or not, we can use the 'Diabetes Medications' column to check, whether doctor prescribed diabetes medicines to the patient or not.\n",
    "* If - 'Yes' - they are Diabetic\n",
    "* If - 'No' - They are Normal "
   ]
  },
  {
   "cell_type": "markdown",
   "id": "d19363dd",
   "metadata": {},
   "source": [
    "## Freezing below steps as it is loosing huge rows with 'No'\n",
    "\n",
    "**---------------------------------------------------------------------------------**"
   ]
  },
  {
   "cell_type": "code",
   "execution_count": 12,
   "id": "98286b96",
   "metadata": {},
   "outputs": [],
   "source": [
    "# Checking 'diabetesMed' column\n",
    "# d_data['diabetesMed'].value_counts()"
   ]
  },
  {
   "cell_type": "markdown",
   "id": "d7728dd5",
   "metadata": {},
   "source": [
    "* 23402 people did not prescribed with diabetes medication. \n",
    "\n",
    "So, if we are predicting the diabetes readmission, including people who do not have diabetes, that will not make any sense. So, we can create a separate dataframe with only diabetes people."
   ]
  },
  {
   "cell_type": "markdown",
   "id": "c448d352",
   "metadata": {},
   "source": [
    "**Dataframe with only diabetes patients**"
   ]
  },
  {
   "cell_type": "code",
   "execution_count": 13,
   "id": "43b3bf8c",
   "metadata": {},
   "outputs": [],
   "source": [
    "# Creating new dataframe with only diabetes people\n",
    "#Diabetes = d_data[d_data['diabetesMed']=='Yes']\n",
    "#Diabetes.shape"
   ]
  },
  {
   "cell_type": "markdown",
   "id": "3304872f",
   "metadata": {},
   "source": [
    "**---------------------------------------------------------------------------------------------**"
   ]
  },
  {
   "cell_type": "code",
   "execution_count": 14,
   "id": "9de63519",
   "metadata": {},
   "outputs": [],
   "source": [
    "Diabetes = d_data"
   ]
  },
  {
   "cell_type": "markdown",
   "id": "5a628c99",
   "metadata": {},
   "source": [
    "### Distribution of number of lab tests, procedures & medications"
   ]
  },
  {
   "cell_type": "markdown",
   "id": "43d54fe6",
   "metadata": {},
   "source": [
    "Now we have only diabetes people data, we can focus on below columns to check the distribution of 'readmitted' people in each variable.\n",
    "\n",
    "**Columns to check:**\n",
    "* Number of lab procedures\n",
    "* Number of procedures (other than lab procedures)\n",
    "* Number of medications\n",
    "* Change of medications"
   ]
  },
  {
   "cell_type": "markdown",
   "id": "032fe9b9",
   "metadata": {},
   "source": [
    "**Number of lab procedures**\n",
    "\n",
    "Does more lab tests performed on the readmitted people? Let's check"
   ]
  },
  {
   "cell_type": "code",
   "execution_count": 15,
   "id": "7626c20b",
   "metadata": {},
   "outputs": [
    {
     "data": {
      "image/png": "[encoded data removed]",
      "text/plain": [
       "<Figure size 432x288 with 1 Axes>"
      ]
     },
     "metadata": {
      "needs_background": "light"
     },
     "output_type": "display_data"
    }
   ],
   "source": [
    "# Frequency distribution - number of lab procedures\n",
    "plt.hist(Diabetes['num_lab_procedures'], bins=20)\n",
    "plt.xlabel('Number of lab tests')\n",
    "plt.ylabel('No. of patients')\n",
    "plt.show()"
   ]
  },
  {
   "cell_type": "code",
   "execution_count": 16,
   "id": "845d4689",
   "metadata": {},
   "outputs": [
    {
     "data": {
      "text/html": [
       "<div>\n",
       "<style scoped>\n",
       "    .dataframe tbody tr th:only-of-type {\n",
       "        vertical-align: middle;\n",
       "    }\n",
       "\n",
       "    .dataframe tbody tr th {\n",
       "        vertical-align: top;\n",
       "    }\n",
       "\n",
       "    .dataframe thead th {\n",
       "        text-align: right;\n",
       "    }\n",
       "</style>\n",
       "<table border=\"1\" class=\"dataframe\">\n",
       "  <thead>\n",
       "    <tr style=\"text-align: right;\">\n",
       "      <th></th>\n",
       "      <th>count</th>\n",
       "      <th>mean</th>\n",
       "      <th>std</th>\n",
       "      <th>min</th>\n",
       "      <th>25%</th>\n",
       "      <th>50%</th>\n",
       "      <th>75%</th>\n",
       "      <th>max</th>\n",
       "    </tr>\n",
       "    <tr>\n",
       "      <th>readmitted</th>\n",
       "      <th></th>\n",
       "      <th></th>\n",
       "      <th></th>\n",
       "      <th></th>\n",
       "      <th></th>\n",
       "      <th></th>\n",
       "      <th></th>\n",
       "      <th></th>\n",
       "    </tr>\n",
       "  </thead>\n",
       "  <tbody>\n",
       "    <tr>\n",
       "      <th>&lt;30</th>\n",
       "      <td>11357.0</td>\n",
       "      <td>44.226028</td>\n",
       "      <td>19.276087</td>\n",
       "      <td>1.0</td>\n",
       "      <td>33.0</td>\n",
       "      <td>45.0</td>\n",
       "      <td>58.0</td>\n",
       "      <td>132.0</td>\n",
       "    </tr>\n",
       "    <tr>\n",
       "      <th>&gt;30</th>\n",
       "      <td>35545.0</td>\n",
       "      <td>43.836601</td>\n",
       "      <td>19.567515</td>\n",
       "      <td>1.0</td>\n",
       "      <td>32.0</td>\n",
       "      <td>45.0</td>\n",
       "      <td>58.0</td>\n",
       "      <td>129.0</td>\n",
       "    </tr>\n",
       "    <tr>\n",
       "      <th>NO</th>\n",
       "      <td>54861.0</td>\n",
       "      <td>42.382056</td>\n",
       "      <td>19.796024</td>\n",
       "      <td>1.0</td>\n",
       "      <td>30.0</td>\n",
       "      <td>44.0</td>\n",
       "      <td>56.0</td>\n",
       "      <td>126.0</td>\n",
       "    </tr>\n",
       "  </tbody>\n",
       "</table>\n",
       "</div>"
      ],
      "text/plain": [
       "              count       mean        std  min   25%   50%   75%    max\n",
       "readmitted                                                             \n",
       "<30         11357.0  44.226028  19.276087  1.0  33.0  45.0  58.0  132.0\n",
       ">30         35545.0  43.836601  19.567515  1.0  32.0  45.0  58.0  129.0\n",
       "NO          54861.0  42.382056  19.796024  1.0  30.0  44.0  56.0  126.0"
      ]
     },
     "execution_count": 16,
     "metadata": {},
     "output_type": "execute_result"
    },
    {
     "data": {
      "image/png": "[encoded data removed]",
      "text/plain": [
       "<Figure size 432x288 with 1 Axes>"
      ]
     },
     "metadata": {
      "needs_background": "light"
     },
     "output_type": "display_data"
    }
   ],
   "source": [
    "# Grouping the lab procedures by readmitted column\n",
    "num_lab = Diabetes.groupby('readmitted')['num_lab_procedures'].describe()\n",
    "num_lab['mean'].plot(kind='barh', ylabel='Avg. No. of tests per patient', color='crimson')\n",
    "num_lab"
   ]
  },
  {
   "cell_type": "markdown",
   "id": "5512519d",
   "metadata": {},
   "source": [
    "* Mean value of all shows between 42 to 44 tests per patient. \n",
    "\n",
    "That says both **readmitted** and **not readmitted** patients undergone same number of tests. This column may not be useful."
   ]
  },
  {
   "cell_type": "markdown",
   "id": "30014769",
   "metadata": {},
   "source": [
    "**Number of procedures (other than lab tests)**\n",
    "\n",
    "Do readmitted people undergone more procedures?"
   ]
  },
  {
   "cell_type": "code",
   "execution_count": 17,
   "id": "ce396aa3",
   "metadata": {},
   "outputs": [
    {
     "data": {
      "image/png": "[encoded data removed]",
      "text/plain": [
       "<Figure size 432x288 with 1 Axes>"
      ]
     },
     "metadata": {
      "needs_background": "light"
     },
     "output_type": "display_data"
    }
   ],
   "source": [
    "# Frequency distribution - number of procedures\n",
    "plt.hist(Diabetes['num_procedures'], bins=10)\n",
    "plt.xlabel('Number of procedures')\n",
    "plt.ylabel('No. of patients')\n",
    "plt.show()"
   ]
  },
  {
   "cell_type": "code",
   "execution_count": 18,
   "id": "b33da6b8",
   "metadata": {},
   "outputs": [
    {
     "data": {
      "text/html": [
       "<div>\n",
       "<style scoped>\n",
       "    .dataframe tbody tr th:only-of-type {\n",
       "        vertical-align: middle;\n",
       "    }\n",
       "\n",
       "    .dataframe tbody tr th {\n",
       "        vertical-align: top;\n",
       "    }\n",
       "\n",
       "    .dataframe thead th {\n",
       "        text-align: right;\n",
       "    }\n",
       "</style>\n",
       "<table border=\"1\" class=\"dataframe\">\n",
       "  <thead>\n",
       "    <tr style=\"text-align: right;\">\n",
       "      <th></th>\n",
       "      <th>count</th>\n",
       "      <th>mean</th>\n",
       "      <th>std</th>\n",
       "      <th>min</th>\n",
       "      <th>25%</th>\n",
       "      <th>50%</th>\n",
       "      <th>75%</th>\n",
       "      <th>max</th>\n",
       "    </tr>\n",
       "    <tr>\n",
       "      <th>readmitted</th>\n",
       "      <th></th>\n",
       "      <th></th>\n",
       "      <th></th>\n",
       "      <th></th>\n",
       "      <th></th>\n",
       "      <th></th>\n",
       "      <th></th>\n",
       "      <th></th>\n",
       "    </tr>\n",
       "  </thead>\n",
       "  <tbody>\n",
       "    <tr>\n",
       "      <th>&lt;30</th>\n",
       "      <td>11357.0</td>\n",
       "      <td>1.280884</td>\n",
       "      <td>1.635992</td>\n",
       "      <td>0.0</td>\n",
       "      <td>0.0</td>\n",
       "      <td>1.0</td>\n",
       "      <td>2.0</td>\n",
       "      <td>6.0</td>\n",
       "    </tr>\n",
       "    <tr>\n",
       "      <th>&gt;30</th>\n",
       "      <td>35545.0</td>\n",
       "      <td>1.249599</td>\n",
       "      <td>1.669536</td>\n",
       "      <td>0.0</td>\n",
       "      <td>0.0</td>\n",
       "      <td>1.0</td>\n",
       "      <td>2.0</td>\n",
       "      <td>6.0</td>\n",
       "    </tr>\n",
       "    <tr>\n",
       "      <th>NO</th>\n",
       "      <td>54861.0</td>\n",
       "      <td>1.410237</td>\n",
       "      <td>1.739670</td>\n",
       "      <td>0.0</td>\n",
       "      <td>0.0</td>\n",
       "      <td>1.0</td>\n",
       "      <td>2.0</td>\n",
       "      <td>6.0</td>\n",
       "    </tr>\n",
       "  </tbody>\n",
       "</table>\n",
       "</div>"
      ],
      "text/plain": [
       "              count      mean       std  min  25%  50%  75%  max\n",
       "readmitted                                                      \n",
       "<30         11357.0  1.280884  1.635992  0.0  0.0  1.0  2.0  6.0\n",
       ">30         35545.0  1.249599  1.669536  0.0  0.0  1.0  2.0  6.0\n",
       "NO          54861.0  1.410237  1.739670  0.0  0.0  1.0  2.0  6.0"
      ]
     },
     "execution_count": 18,
     "metadata": {},
     "output_type": "execute_result"
    },
    {
     "data": {
      "image/png": "[encoded data removed]",
      "text/plain": [
       "<Figure size 432x288 with 1 Axes>"
      ]
     },
     "metadata": {
      "needs_background": "light"
     },
     "output_type": "display_data"
    }
   ],
   "source": [
    "# Grouping the other procedures by readmitted column\n",
    "num_pro = Diabetes.groupby('readmitted')['num_procedures'].describe()\n",
    "num_pro['mean'].plot(kind='barh', ylabel='Avg. No. of procedures per patient', color='crimson')\n",
    "num_pro"
   ]
  },
  {
   "cell_type": "markdown",
   "id": "a32d1e09",
   "metadata": {},
   "source": [
    "* Mean value shows approx. 1 procedure per patient performed in both readmitted and not readmitted group. \n",
    "\n",
    "So this column also not useful."
   ]
  },
  {
   "cell_type": "markdown",
   "id": "176d09c1",
   "metadata": {},
   "source": [
    "**Number of medications**\n",
    "\n",
    "Checking the number of medications column. Do particular group taken more medications?"
   ]
  },
  {
   "cell_type": "code",
   "execution_count": 19,
   "id": "dd4aecea",
   "metadata": {},
   "outputs": [
    {
     "data": {
      "image/png": "[encoded data removed]",
      "text/plain": [
       "<Figure size 432x288 with 1 Axes>"
      ]
     },
     "metadata": {
      "needs_background": "light"
     },
     "output_type": "display_data"
    }
   ],
   "source": [
    "# Frequency distribution - num of medications\n",
    "plt.hist(Diabetes['num_medications'], bins=20)\n",
    "plt.xlabel('Number of medications')\n",
    "plt.ylabel('No. of patients')\n",
    "plt.show()"
   ]
  },
  {
   "cell_type": "code",
   "execution_count": 20,
   "id": "739113e9",
   "metadata": {},
   "outputs": [
    {
     "data": {
      "text/html": [
       "<div>\n",
       "<style scoped>\n",
       "    .dataframe tbody tr th:only-of-type {\n",
       "        vertical-align: middle;\n",
       "    }\n",
       "\n",
       "    .dataframe tbody tr th {\n",
       "        vertical-align: top;\n",
       "    }\n",
       "\n",
       "    .dataframe thead th {\n",
       "        text-align: right;\n",
       "    }\n",
       "</style>\n",
       "<table border=\"1\" class=\"dataframe\">\n",
       "  <thead>\n",
       "    <tr style=\"text-align: right;\">\n",
       "      <th></th>\n",
       "      <th>count</th>\n",
       "      <th>mean</th>\n",
       "      <th>std</th>\n",
       "      <th>min</th>\n",
       "      <th>25%</th>\n",
       "      <th>50%</th>\n",
       "      <th>75%</th>\n",
       "      <th>max</th>\n",
       "    </tr>\n",
       "    <tr>\n",
       "      <th>readmitted</th>\n",
       "      <th></th>\n",
       "      <th></th>\n",
       "      <th></th>\n",
       "      <th></th>\n",
       "      <th></th>\n",
       "      <th></th>\n",
       "      <th></th>\n",
       "      <th></th>\n",
       "    </tr>\n",
       "  </thead>\n",
       "  <tbody>\n",
       "    <tr>\n",
       "      <th>&lt;30</th>\n",
       "      <td>11357.0</td>\n",
       "      <td>16.903143</td>\n",
       "      <td>8.096696</td>\n",
       "      <td>1.0</td>\n",
       "      <td>11.0</td>\n",
       "      <td>16.0</td>\n",
       "      <td>21.0</td>\n",
       "      <td>81.0</td>\n",
       "    </tr>\n",
       "    <tr>\n",
       "      <th>&gt;30</th>\n",
       "      <td>35545.0</td>\n",
       "      <td>16.282768</td>\n",
       "      <td>7.618829</td>\n",
       "      <td>1.0</td>\n",
       "      <td>11.0</td>\n",
       "      <td>15.0</td>\n",
       "      <td>20.0</td>\n",
       "      <td>70.0</td>\n",
       "    </tr>\n",
       "    <tr>\n",
       "      <th>NO</th>\n",
       "      <td>54861.0</td>\n",
       "      <td>15.670330</td>\n",
       "      <td>8.427683</td>\n",
       "      <td>1.0</td>\n",
       "      <td>10.0</td>\n",
       "      <td>14.0</td>\n",
       "      <td>20.0</td>\n",
       "      <td>79.0</td>\n",
       "    </tr>\n",
       "  </tbody>\n",
       "</table>\n",
       "</div>"
      ],
      "text/plain": [
       "              count       mean       std  min   25%   50%   75%   max\n",
       "readmitted                                                           \n",
       "<30         11357.0  16.903143  8.096696  1.0  11.0  16.0  21.0  81.0\n",
       ">30         35545.0  16.282768  7.618829  1.0  11.0  15.0  20.0  70.0\n",
       "NO          54861.0  15.670330  8.427683  1.0  10.0  14.0  20.0  79.0"
      ]
     },
     "execution_count": 20,
     "metadata": {},
     "output_type": "execute_result"
    },
    {
     "data": {
      "image/png": "[encoded data removed]",
      "text/plain": [
       "<Figure size 432x288 with 1 Axes>"
      ]
     },
     "metadata": {
      "needs_background": "light"
     },
     "output_type": "display_data"
    }
   ],
   "source": [
    "# Grouping the num of medications by readmitted column\n",
    "num_med = Diabetes.groupby('readmitted')['num_medications'].describe()\n",
    "num_med['mean'].plot(kind='barh', ylabel='Avg. No. of medicines per patient', color='crimson')\n",
    "num_med"
   ]
  },
  {
   "cell_type": "markdown",
   "id": "72c4f03e",
   "metadata": {},
   "source": [
    "* Average number of medications taken by both group lies very close around 16-17 medicines per patient. \n",
    "\n",
    "So this column may not help. But it will be important to see what medicines each patient taken or not taken. That may be helpful."
   ]
  },
  {
   "cell_type": "markdown",
   "id": "64c8b4fa",
   "metadata": {},
   "source": [
    "**Change of medications**\n",
    "\n",
    "Before investigating each medicine, let's see whether doctor suggested to change medication that helped particular group."
   ]
  },
  {
   "cell_type": "code",
   "execution_count": 21,
   "id": "370891d2",
   "metadata": {},
   "outputs": [
    {
     "data": {
      "text/plain": [
       "No    54754\n",
       "Ch    47009\n",
       "Name: change, dtype: int64"
      ]
     },
     "execution_count": 21,
     "metadata": {},
     "output_type": "execute_result"
    }
   ],
   "source": [
    "# Checking 'change' column\n",
    "Diabetes['change'].value_counts()"
   ]
  },
  {
   "cell_type": "markdown",
   "id": "ffc0df72",
   "metadata": {},
   "source": [
    "'Ch' refers the change of medication here. Let's change it as 'Yes' for easy understanding."
   ]
  },
  {
   "cell_type": "code",
   "execution_count": 22,
   "id": "474e2def",
   "metadata": {},
   "outputs": [],
   "source": [
    "# Replacing 'Ch' into 'Yes' in change column\n",
    "Diabetes['change'] = Diabetes['change'].str.replace('Ch', 'Yes')"
   ]
  },
  {
   "cell_type": "code",
   "execution_count": 23,
   "id": "30b66bdd",
   "metadata": {},
   "outputs": [
    {
     "data": {
      "text/plain": [
       "No     53.805411\n",
       "Yes    46.194589\n",
       "Name: change, dtype: float64"
      ]
     },
     "execution_count": 23,
     "metadata": {},
     "output_type": "execute_result"
    }
   ],
   "source": [
    "# Now checking the change column in terms of percentage\n",
    "Diabetes['change'].value_counts() / len(Diabetes.change) * 100"
   ]
  },
  {
   "cell_type": "markdown",
   "id": "7e348b58",
   "metadata": {},
   "source": [
    "* Over 60% of the diabetes people asked to change medication. Did it helped them to not get readmitted?\n",
    "\n",
    "This change of medication outputs for entire patients. But,\n",
    "\n",
    "* If one group of people asked to change medication - did it help them prevent readmission?\n",
    "* If one group asked not to change medication - is it the reason they got readmitted?\n",
    "\n",
    "We can check how many from readmitted and non-readmitted group got change of medication."
   ]
  },
  {
   "cell_type": "code",
   "execution_count": 24,
   "id": "39f4c07f",
   "metadata": {},
   "outputs": [],
   "source": [
    "# Splitting readmitted and not readmitted patients into two datframes to understand better\n",
    "no_admission = Diabetes[Diabetes['readmitted']=='NO']\n",
    "readmitted = Diabetes[Diabetes['readmitted']!='NO']"
   ]
  },
  {
   "cell_type": "code",
   "execution_count": 25,
   "id": "dce07093",
   "metadata": {},
   "outputs": [
    {
     "data": {
      "text/plain": [
       "No     55.926797\n",
       "Yes    44.073203\n",
       "Name: change, dtype: float64"
      ]
     },
     "execution_count": 25,
     "metadata": {},
     "output_type": "execute_result"
    }
   ],
   "source": [
    "# Change of medication - in not admitted people\n",
    "no_admission['change'].value_counts() / len(no_admission.change) * 100"
   ]
  },
  {
   "cell_type": "code",
   "execution_count": 26,
   "id": "27ff809d",
   "metadata": {},
   "outputs": [
    {
     "data": {
      "text/plain": [
       "No     51.324037\n",
       "Yes    48.675963\n",
       "Name: change, dtype: float64"
      ]
     },
     "execution_count": 26,
     "metadata": {},
     "output_type": "execute_result"
    }
   ],
   "source": [
    "# Change of medication - in readmitted people\n",
    "readmitted['change'].value_counts() / len(readmitted.change) * 100"
   ]
  },
  {
   "cell_type": "markdown",
   "id": "6183bfbe",
   "metadata": {},
   "source": [
    "* 59% - not readmitted patients given change in medication\n",
    "* 61%  - readmitted patients also given change in medication.\n",
    "\n",
    "So, there is no great difference, but we can explore what medicines given to each group. That may tell some story."
   ]
  },
  {
   "cell_type": "markdown",
   "id": "33618bb9",
   "metadata": {},
   "source": [
    "### Diabetes medications - which medicines helped patients not to get readmitted?\n",
    "\n",
    "Our data contains 24 different medicines as features - each categorized into four answers.\n",
    "* Up - medicine prescribed, but to **increase in dose**\n",
    "* Down - medicine prescribed, but to **decrease in dose**\n",
    "* Steady - medicine prescribed, but **no change in dose**\n",
    "* No - medicine **not prescribed**\n",
    "\n",
    "We can check each medicine and their prescription level between readmitted and not-readmitted patients.\n",
    "\n",
    "With that, we can address the questions,\n",
    "\n",
    "* what medicines not-readmitted people taken?\n",
    "* what medicines readmitted people did not take?\n",
    "\n",
    "This will help to identify the right medicines which can help them to avoid getting readmitted."
   ]
  },
  {
   "cell_type": "code",
   "execution_count": 27,
   "id": "06753af5",
   "metadata": {},
   "outputs": [
    {
     "name": "stdout",
     "output_type": "stream",
     "text": [
      "<class 'pandas.core.frame.DataFrame'>\n",
      "RangeIndex: 101763 entries, 0 to 101762\n",
      "Data columns (total 49 columns):\n",
      " #   Column                    Non-Null Count   Dtype \n",
      "---  ------                    --------------   ----- \n",
      " 0   encounter_id              101763 non-null  int64 \n",
      " 1   patient_nbr               101763 non-null  int64 \n",
      " 2   race                      101763 non-null  object\n",
      " 3   gender                    101763 non-null  object\n",
      " 4   age                       101763 non-null  object\n",
      " 5   admission_type_id         101763 non-null  int64 \n",
      " 6   discharge_disposition_id  101763 non-null  int64 \n",
      " 7   admission_source_id       101763 non-null  int64 \n",
      " 8   time_in_hospital          101763 non-null  int64 \n",
      " 9   payer_code                101763 non-null  object\n",
      " 10  medical_specialty         101763 non-null  object\n",
      " 11  num_lab_procedures        101763 non-null  int64 \n",
      " 12  num_procedures            101763 non-null  int64 \n",
      " 13  num_medications           101763 non-null  int64 \n",
      " 14  number_outpatient         101763 non-null  int64 \n",
      " 15  number_emergency          101763 non-null  int64 \n",
      " 16  number_inpatient          101763 non-null  int64 \n",
      " 17  diag_1                    101763 non-null  object\n",
      " 18  diag_2                    101763 non-null  object\n",
      " 19  diag_3                    101763 non-null  object\n",
      " 20  number_diagnoses          101763 non-null  int64 \n",
      " 21  max_glu_serum             101763 non-null  object\n",
      " 22  A1Cresult                 101763 non-null  object\n",
      " 23  metformin                 101763 non-null  object\n",
      " 24  repaglinide               101763 non-null  object\n",
      " 25  nateglinide               101763 non-null  object\n",
      " 26  chlorpropamide            101763 non-null  object\n",
      " 27  glimepiride               101763 non-null  object\n",
      " 28  acetohexamide             101763 non-null  object\n",
      " 29  glipizide                 101763 non-null  object\n",
      " 30  glyburide                 101763 non-null  object\n",
      " 31  tolbutamide               101763 non-null  object\n",
      " 32  pioglitazone              101763 non-null  object\n",
      " 33  rosiglitazone             101763 non-null  object\n",
      " 34  acarbose                  101763 non-null  object\n",
      " 35  miglitol                  101763 non-null  object\n",
      " 36  troglitazone              101763 non-null  object\n",
      " 37  tolazamide                101763 non-null  object\n",
      " 38  examide                   101763 non-null  object\n",
      " 39  citoglipton               101763 non-null  object\n",
      " 40  insulin                   101763 non-null  object\n",
      " 41  glyburide-metformin       101763 non-null  object\n",
      " 42  glipizide-metformin       101763 non-null  object\n",
      " 43  glimepiride-pioglitazone  101763 non-null  object\n",
      " 44  metformin-rosiglitazone   101763 non-null  object\n",
      " 45  metformin-pioglitazone    101763 non-null  object\n",
      " 46  change                    101763 non-null  object\n",
      " 47  diabetesMed               101763 non-null  object\n",
      " 48  readmitted                101763 non-null  object\n",
      "dtypes: int64(13), object(36)\n",
      "memory usage: 38.0+ MB\n"
     ]
    }
   ],
   "source": [
    "# Calling info to check all the medicines column\n",
    "Diabetes.info()"
   ]
  },
  {
   "cell_type": "markdown",
   "id": "d150c998",
   "metadata": {},
   "source": [
    "Column 23 to 45 are the medicines prescribed to the patients. "
   ]
  },
  {
   "cell_type": "markdown",
   "id": "c36b5b8c",
   "metadata": {},
   "source": [
    "## Distribution of medicines in 'readmitted' column\n",
    "\n",
    "**med_columns**\n",
    "\n",
    "Listing all the medicines in a variable: med_columns\n"
   ]
  },
  {
   "cell_type": "code",
   "execution_count": 28,
   "id": "2d983e76",
   "metadata": {},
   "outputs": [],
   "source": [
    "med_columns = ['metformin', 'repaglinide', 'nateglinide', 'chlorpropamide',\n",
    "       'glimepiride', 'acetohexamide', 'glipizide', 'glyburide', 'tolbutamide',\n",
    "       'pioglitazone', 'rosiglitazone', 'acarbose', 'miglitol', 'troglitazone',\n",
    "       'tolazamide', 'examide', 'citoglipton', 'insulin',\n",
    "       'glyburide-metformin', 'glipizide-metformin',\n",
    "       'glimepiride-pioglitazone', 'metformin-rosiglitazone',\n",
    "       'metformin-pioglitazone']"
   ]
  },
  {
   "cell_type": "markdown",
   "id": "5d1451c6",
   "metadata": {},
   "source": [
    "**First medicine - Metformin**"
   ]
  },
  {
   "cell_type": "code",
   "execution_count": 29,
   "id": "6a275b91",
   "metadata": {},
   "outputs": [
    {
     "data": {
      "image/png": "[encoded data removed]",
      "text/plain": [
       "<Figure size 288x144 with 1 Axes>"
      ]
     },
     "metadata": {
      "needs_background": "light"
     },
     "output_type": "display_data"
    }
   ],
   "source": [
    "# Let's check the first medicine precribed to the see the distribution\n",
    "plt.figure(figsize=(4,2))\n",
    "Diabetes['metformin'].value_counts().plot(kind='bar')\n",
    "plt.ylabel('No. of patients')\n",
    "plt.title('Metformin')\n",
    "plt.show()"
   ]
  },
  {
   "cell_type": "markdown",
   "id": "ad53184b",
   "metadata": {},
   "source": [
    "**Second medicine - Repaglinide**"
   ]
  },
  {
   "cell_type": "code",
   "execution_count": 30,
   "id": "64efd4e3",
   "metadata": {},
   "outputs": [
    {
     "data": {
      "image/png": "[encoded data removed]",
      "text/plain": [
       "<Figure size 288x144 with 1 Axes>"
      ]
     },
     "metadata": {
      "needs_background": "light"
     },
     "output_type": "display_data"
    }
   ],
   "source": [
    "# Let's check the second medicine \n",
    "plt.figure(figsize=(4,2))\n",
    "Diabetes['repaglinide'].value_counts().plot(kind='bar')\n",
    "plt.ylabel('No. of patients')\n",
    "plt.title('Repaglinide')\n",
    "plt.show()"
   ]
  },
  {
   "cell_type": "markdown",
   "id": "0ffa5afc",
   "metadata": {},
   "source": [
    "**Visualizing all the medicines at once**\n",
    "\n",
    "Plotting all the medicines and checking the count of each prescription."
   ]
  },
  {
   "cell_type": "code",
   "execution_count": 31,
   "id": "af631280",
   "metadata": {
    "scrolled": false
   },
   "outputs": [
    {
     "data": {
      "image/png": "[encoded data removed]",
      "text/plain": [
       "<Figure size 1296x1008 with 23 Axes>"
      ]
     },
     "metadata": {
      "needs_background": "light"
     },
     "output_type": "display_data"
    }
   ],
   "source": [
    "# Creating count plot to visualize all the medicines and their prescription\n",
    "\n",
    "# Listing all the medicines in variable 'med_columns'\n",
    "med_columns = med_columns\n",
    "\n",
    "# Parameters \n",
    "a = 6  # nrows\n",
    "b = 4  # ncolumns\n",
    "c = 1  # initialize plot counter\n",
    "\n",
    "fig = plt.figure(figsize=(18,14))\n",
    "\n",
    "# Color palette\n",
    "palette = {'No':'steelblue', 'Steady':'darkorange', 'Up':'forestgreen', 'Down':'crimson'}\n",
    "\n",
    "for i in med_columns:\n",
    "    plt.subplot(a,b,c)   \n",
    "    plt.title('{} - subplot: {}{}{}'.format(i,a,b,c))\n",
    "    plt.xlabel(i)\n",
    "    sns.countplot(x=i, data=Diabetes, palette=palette)\n",
    "    plt.subplots_adjust(hspace=1.0, wspace=0.5)\n",
    "    c = c+1\n",
    "plt.show()"
   ]
  },
  {
   "cell_type": "markdown",
   "id": "3e2de759",
   "metadata": {},
   "source": [
    "From the plots we can see, \n",
    "* All the medicines has large group of 'No' people - who were not prescribed with the medicine. \n",
    "* But some medicines has significant change in their prescription. We can select that for analysis.\n",
    "\n",
    "**Selected medicines with significant change in their prescription:**\n",
    "\n",
    "Below medicines have visible change in their prescription level, so these may be helpful for further investigation.\n",
    "\n",
    "* Insulin\n",
    "* Metformin\n",
    "* Glimepiride\n",
    "* Glipizide\n",
    "* Glyburide\n",
    "* Pioglitazone\n",
    "* Rosiglitazone\n",
    "\n",
    "But we can gain some more information from these plots:\n",
    "* By visualizing through a grouped bar chart to see how data is split between readmitted vs not readmitted patients\n"
   ]
  },
  {
   "cell_type": "markdown",
   "id": "c0eb38e5",
   "metadata": {},
   "source": [
    "**Insulin - category plot (\"readmitted\" vs \"not-readmitted\"**)"
   ]
  },
  {
   "cell_type": "code",
   "execution_count": 32,
   "id": "10c16b7b",
   "metadata": {},
   "outputs": [
    {
     "data": {
      "image/png": "[encoded data removed]",
      "text/plain": [
       "<Figure size 430.625x360 with 1 Axes>"
      ]
     },
     "metadata": {
      "needs_background": "light"
     },
     "output_type": "display_data"
    }
   ],
   "source": [
    "# Insulin - category plot with readmitted column\n",
    "sns.catplot(x='readmitted', data=Diabetes, kind='count', hue='insulin', order=['NO', '>30', '<30'], palette=palette)\n",
    "plt.show()"
   ]
  },
  {
   "cell_type": "markdown",
   "id": "5c0c0405",
   "metadata": {},
   "source": [
    "**Our key questions are:**\n",
    "* what medicines readmitted people did not take? or\n",
    "* what medicines not-readmitted people taken that helped them?\n",
    "\n",
    "If we see insulin graph **(Steady & Up)** dose, clearly it says,\n",
    "* Not readmitted ('NO') group - More number of patients taken insulin\n",
    "* Readmitted after 30 days ('>30') - Moderate number of patients taken insulin\n",
    "* Readmitted within 30 days - very less number of patients taken insulin\n",
    "\n",
    "More number of patients taken insulin - hence it may helped them to avoid readmission. So, insulin is an important feature in predicting readmission of patients."
   ]
  },
  {
   "cell_type": "markdown",
   "id": "bc90ebb4",
   "metadata": {},
   "source": [
    "**Categorizing all the selected medicines and their prescription level**"
   ]
  },
  {
   "cell_type": "code",
   "execution_count": 33,
   "id": "19c7f6ad",
   "metadata": {
    "scrolled": false
   },
   "outputs": [
    {
     "data": {
      "image/png": "[encoded data removed]",
      "text/plain": [
       "<Figure size 430.625x360 with 1 Axes>"
      ]
     },
     "metadata": {
      "needs_background": "light"
     },
     "output_type": "display_data"
    },
    {
     "data": {
      "image/png": "[encoded data removed]",
      "text/plain": [
       "<Figure size 430.625x360 with 1 Axes>"
      ]
     },
     "metadata": {
      "needs_background": "light"
     },
     "output_type": "display_data"
    },
    {
     "data": {
      "image/png": "[encoded data removed]",
      "text/plain": [
       "<Figure size 430.625x360 with 1 Axes>"
      ]
     },
     "metadata": {
      "needs_background": "light"
     },
     "output_type": "display_data"
    },
    {
     "data": {
      "image/png": "[encoded data removed]",
      "text/plain": [
       "<Figure size 430.625x360 with 1 Axes>"
      ]
     },
     "metadata": {
      "needs_background": "light"
     },
     "output_type": "display_data"
    },
    {
     "data": {
      "image/png": "[encoded data removed]",
      "text/plain": [
       "<Figure size 430.625x360 with 1 Axes>"
      ]
     },
     "metadata": {
      "needs_background": "light"
     },
     "output_type": "display_data"
    },
    {
     "data": {
      "image/png": "[encoded data removed]",
      "text/plain": [
       "<Figure size 430.625x360 with 1 Axes>"
      ]
     },
     "metadata": {
      "needs_background": "light"
     },
     "output_type": "display_data"
    },
    {
     "data": {
      "image/png": "[encoded data removed]",
      "text/plain": [
       "<Figure size 431.75x360 with 1 Axes>"
      ]
     },
     "metadata": {
      "needs_background": "light"
     },
     "output_type": "display_data"
    }
   ],
   "source": [
    "# Creating a list to contain all the selected medicines\n",
    "med_select = ['insulin', 'metformin', 'glimepiride', 'glipizide', 'glyburide', 'pioglitazone', 'rosiglitazone']\n",
    "\n",
    "for j in med_select:\n",
    "    sns.catplot(x='readmitted', data=Diabetes, kind='count', hue=j, order=['NO', '>30', '<30'], palette=palette)\n",
    "    plt.title(j)\n",
    "plt.show()"
   ]
  },
  {
   "cell_type": "markdown",
   "id": "1a4ed663",
   "metadata": {},
   "source": [
    "From the plots, we can see huge difference between 'readmitted' and 'not-readmitted' group of patients.\n",
    "\n",
    "In all the medicines, we can observe the **'Steady'** dose levels.\n",
    "* more number of people taken the medicine - but they did not get readmitted ('NO')\n",
    "* less number of people taken the medicine - but they all got readmitted\n",
    "\n",
    "Possibly, more people taken the medicine positively reflected so they did not readmitted again. These medicines and prescription levels may be good features - **if a patient taken these medicines, there is a high chance he/she may not get readmitted.**"
   ]
  },
  {
   "cell_type": "markdown",
   "id": "49e82454",
   "metadata": {},
   "source": [
    "### Distribution of 'time in hospital' between readmitted & not-readmitted group\n",
    "\n",
    "Which group has more patients spent time at hospital?"
   ]
  },
  {
   "cell_type": "code",
   "execution_count": 34,
   "id": "ea7103af",
   "metadata": {},
   "outputs": [
    {
     "data": {
      "image/png": "[encoded data removed]",
      "text/plain": [
       "<Figure size 432x288 with 1 Axes>"
      ]
     },
     "metadata": {
      "needs_background": "light"
     },
     "output_type": "display_data"
    }
   ],
   "source": [
    "fig1, ax = plt.subplots()\n",
    "ax = plt.hist(Diabetes[Diabetes['readmitted']=='NO']['time_in_hospital'], bins=10, alpha=0.5, color='green', label='not-readmitted')\n",
    "ax = plt.hist(Diabetes[Diabetes['readmitted']== '>30']['time_in_hospital'], bins=10, alpha=0.5, color='crimson', label='readmitted >30 days')\n",
    "ax = plt.hist(Diabetes[Diabetes['readmitted']== '<30']['time_in_hospital'], bins=10, alpha=0.5, color='blue', label='readmitted <30 days')\n",
    "plt.xlabel('Number of days')\n",
    "plt.ylabel('No. of patients')\n",
    "plt.title('Time in hospital - readmitted vs not-readmitted')\n",
    "plt.legend()\n",
    "plt.show()"
   ]
  },
  {
   "cell_type": "markdown",
   "id": "f79c8a14",
   "metadata": {},
   "source": [
    "* Most number of patients from not-readmitted group spent less time in hospital - large distribution seen in the left\n",
    "* Moderate number of patients from readmitted after >30 days group\n",
    "* Low number of patients see at the bottom who actually readmitted within <30 days"
   ]
  },
  {
   "cell_type": "markdown",
   "id": "f183062a",
   "metadata": {},
   "source": [
    "## Who is more prone to get readmitted - Male or Female?"
   ]
  },
  {
   "cell_type": "code",
   "execution_count": 35,
   "id": "8b1e8627",
   "metadata": {},
   "outputs": [
    {
     "data": {
      "image/png": "[encoded data removed]",
      "text/plain": [
       "<Figure size 432.125x360 with 1 Axes>"
      ]
     },
     "metadata": {
      "needs_background": "light"
     },
     "output_type": "display_data"
    }
   ],
   "source": [
    "# Plotting the male & female distribution within readmitted \n",
    "sns.catplot(x='readmitted', data=Diabetes, kind='count', hue='gender')\n",
    "plt.show()"
   ]
  },
  {
   "cell_type": "markdown",
   "id": "3f54f05e",
   "metadata": {},
   "source": [
    "From the plot, **Female** count slightly high in all categories of readmitted column. But not significant to say they are prone to get readmitted."
   ]
  },
  {
   "cell_type": "markdown",
   "id": "0148e662",
   "metadata": {},
   "source": [
    "## Other variables\n",
    "### Admission type: Emergency or elective admission?\n",
    "\n",
    "This feature displays at what circumstance patient got admitted.\n",
    "* Emergency / Urgent\n",
    "* Elective - pre-arranged admission"
   ]
  },
  {
   "cell_type": "code",
   "execution_count": 36,
   "id": "fdd54ad2",
   "metadata": {},
   "outputs": [
    {
     "data": {
      "image/png": "[encoded data removed]",
      "text/plain": [
       "<Figure size 432x288 with 1 Axes>"
      ]
     },
     "metadata": {
      "needs_background": "light"
     },
     "output_type": "display_data"
    }
   ],
   "source": [
    "# Admission type\n",
    "adm_type = Diabetes['admission_type_id'].value_counts().sort_index()\n",
    "\n",
    "# Plotting barplot\n",
    "x = adm_type.values\n",
    "y = adm_type.index\n",
    "ticks = [0,1,2,3,4,5,6,7]\n",
    "labels = ['Emergency', 'Urgent', 'Elective', 'Newborn', 'Not Available', 'NULL', 'Trauma Center', 'Not Mapped']\n",
    "\n",
    "plt.figure()\n",
    "sns.barplot(x=x, y=y, orient='h')\n",
    "plt.xlabel('No. of patients')\n",
    "plt.yticks(ticks, labels)\n",
    "plt.title('Admission type')\n",
    "plt.show()"
   ]
  },
  {
   "cell_type": "markdown",
   "id": "00aa49c6",
   "metadata": {},
   "source": [
    "* Large number of patients took emergency admission. \n",
    "* Urgent & elective admission has equal number of patients"
   ]
  },
  {
   "cell_type": "markdown",
   "id": "4b76e477",
   "metadata": {},
   "source": [
    "## Checking the class imbalance in target variable"
   ]
  },
  {
   "cell_type": "code",
   "execution_count": 37,
   "id": "e9e3fb83",
   "metadata": {},
   "outputs": [
    {
     "name": "stdout",
     "output_type": "stream",
     "text": [
      "Not-readmitted class: 53.91055688216739 %\n",
      "Readmitted class: 46.089443117832616 %\n"
     ]
    }
   ],
   "source": [
    "class_ = Diabetes['readmitted'].value_counts() / len(Diabetes.readmitted)*100\n",
    "print('Not-readmitted class:', class_['NO'], '%')\n",
    "print('Readmitted class:', class_['>30'] + class_['<30'], '%')"
   ]
  },
  {
   "cell_type": "markdown",
   "id": "62b37e12",
   "metadata": {},
   "source": [
    "Both readmitted and not-readmitted class have more or less equal data. So, there is no class imbalance."
   ]
  },
  {
   "cell_type": "markdown",
   "id": "acedc62f",
   "metadata": {},
   "source": [
    "## Summary"
   ]
  },
  {
   "cell_type": "markdown",
   "id": "36bcb1dd",
   "metadata": {},
   "source": [
    "* We have inspected all the important features\n",
    "* We found a list of medicines shown significant change in prescribed dose.\n",
    "* Some medicines were taken by large people in the not-readmitted group that may be helped them to avoid readmission. So these may be useful features when developing the model.\n",
    "* Other features such as number of medications prescribed, lab tests, procedures - on average had equal number per patient.\n",
    "* Admission type - large group of people made emergency admission\n",
    "* Among different races - caucasians & african-american were the most number of patients in the data.\n"
   ]
  },
  {
   "cell_type": "markdown",
   "id": "b583ab88",
   "metadata": {},
   "source": [
    "#### Saving the data"
   ]
  },
  {
   "cell_type": "code",
   "execution_count": 38,
   "id": "ca24e7d4",
   "metadata": {},
   "outputs": [
    {
     "name": "stdout",
     "output_type": "stream",
     "text": [
      "A file already exists with this name.\n",
      "\n",
      "Do you want to overwrite? (Y/N)Y\n",
      "Writing file.  \"data/Diabetes_EDA.csv\"\n"
     ]
    }
   ],
   "source": [
    "# saving the data to - Diabetes_EDA.csv\n",
    "datapath = 'data/'\n",
    "save_file(Diabetes, 'Diabetes_EDA.csv', datapath)"
   ]
  },
  {
   "cell_type": "code",
   "execution_count": null,
   "id": "474234dd",
   "metadata": {},
   "outputs": [],
   "source": []
  }
 ],
 "metadata": {
  "kernelspec": {
   "display_name": "Python 3",
   "language": "python",
   "name": "python3"
  },
  "language_info": {
   "codemirror_mode": {
    "name": "ipython",
    "version": 3
   },
   "file_extension": ".py",
   "mimetype": "text/x-python",
   "name": "python",
   "nbconvert_exporter": "python",
   "pygments_lexer": "ipython3",
   "version": "3.9.4"
  }
 },
 "nbformat": 4,
 "nbformat_minor": 5
}
