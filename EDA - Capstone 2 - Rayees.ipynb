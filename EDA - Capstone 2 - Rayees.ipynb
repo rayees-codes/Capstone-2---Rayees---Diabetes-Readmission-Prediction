{
 "cells": [
  {
   "cell_type": "markdown",
   "id": "19d0a763",
   "metadata": {},
   "source": [
    "# Capstone 2 - Diabetes Patients’ Readmission Prediction\n",
    "\n",
    "### Exploratory Data Analysis\n",
    "\n",
    "Code written by: Rayees Ahamed"
   ]
  },
  {
   "cell_type": "markdown",
   "id": "b1c43d82",
   "metadata": {},
   "source": [
    "**Steps**:\n",
    "\n",
    "1. Explore remaining variables and clean them\n",
    "2. Extract neccessary info and store them in separate dataframes\n",
    "3. Relate each column with others and see if there any relation\n",
    "4. Start plotting the variables and visualize them (refer DS1/other model DS2)\n",
    "5. Scaling the data to higher dimension > scaled_df\n",
    "6. Verifying the scaling (mean/sd/others)\n",
    "7. Calculate the PCA transformation (see why it is required then apply)\n",
    "8. Feature engineering - new features from existing featcolumns (e.g. column1 / column2)\n",
    "9. Feature correlation (heatmaps, boxplots)\n",
    "10. Check the new features and find if any relation with other variables (scatterplots, pairplot, regplot etc.)\n",
    "11. Save data & summary"
   ]
  },
  {
   "cell_type": "markdown",
   "id": "81b80ba3",
   "metadata": {},
   "source": [
    "### Importing packages"
   ]
  },
  {
   "cell_type": "code",
   "execution_count": 26,
   "id": "a88185a7",
   "metadata": {},
   "outputs": [],
   "source": [
    "# Importing packages\n",
    "import pandas as pd\n",
    "import numpy as np\n",
    "import matplotlib.pyplot as plt\n",
    "import seaborn as sns\n",
    "import os\n",
    "\n",
    "from sklearn.decomposition import PCA\n",
    "from sklearn.preprocessing import scale\n",
    "\n",
    "from library.sb_utils import save_file\n",
    "\n",
    "%matplotlib inline"
   ]
  },
  {
   "cell_type": "markdown",
   "id": "583e5406",
   "metadata": {},
   "source": [
    "### Loading data"
   ]
  },
  {
   "cell_type": "code",
   "execution_count": 27,
   "id": "a1513fa3",
   "metadata": {},
   "outputs": [],
   "source": [
    "# Reading the cleaned csv data from data wrangling\n",
    "d_data = pd.read_csv('data/d_data_cleaned.csv')"
   ]
  },
  {
   "cell_type": "markdown",
   "id": "1b9c1dd4",
   "metadata": {},
   "source": [
    "### Exploring the data"
   ]
  },
  {
   "cell_type": "code",
   "execution_count": 28,
   "id": "2b4e3c0c",
   "metadata": {},
   "outputs": [
    {
     "data": {
      "text/html": [
       "<div>\n",
       "<style scoped>\n",
       "    .dataframe tbody tr th:only-of-type {\n",
       "        vertical-align: middle;\n",
       "    }\n",
       "\n",
       "    .dataframe tbody tr th {\n",
       "        vertical-align: top;\n",
       "    }\n",
       "\n",
       "    .dataframe thead th {\n",
       "        text-align: right;\n",
       "    }\n",
       "</style>\n",
       "<table border=\"1\" class=\"dataframe\">\n",
       "  <thead>\n",
       "    <tr style=\"text-align: right;\">\n",
       "      <th></th>\n",
       "      <th>encounter_id</th>\n",
       "      <th>patient_nbr</th>\n",
       "      <th>race</th>\n",
       "      <th>gender</th>\n",
       "      <th>age</th>\n",
       "      <th>admission_type_id</th>\n",
       "      <th>discharge_disposition_id</th>\n",
       "      <th>admission_source_id</th>\n",
       "      <th>time_in_hospital</th>\n",
       "      <th>payer_code</th>\n",
       "      <th>...</th>\n",
       "      <th>citoglipton</th>\n",
       "      <th>insulin</th>\n",
       "      <th>glyburide-metformin</th>\n",
       "      <th>glipizide-metformin</th>\n",
       "      <th>glimepiride-pioglitazone</th>\n",
       "      <th>metformin-rosiglitazone</th>\n",
       "      <th>metformin-pioglitazone</th>\n",
       "      <th>change</th>\n",
       "      <th>diabetesMed</th>\n",
       "      <th>readmitted</th>\n",
       "    </tr>\n",
       "  </thead>\n",
       "  <tbody>\n",
       "    <tr>\n",
       "      <th>0</th>\n",
       "      <td>2278392</td>\n",
       "      <td>8222157</td>\n",
       "      <td>Caucasian</td>\n",
       "      <td>Female</td>\n",
       "      <td>[0-10]</td>\n",
       "      <td>6</td>\n",
       "      <td>25</td>\n",
       "      <td>1</td>\n",
       "      <td>1</td>\n",
       "      <td>?</td>\n",
       "      <td>...</td>\n",
       "      <td>No</td>\n",
       "      <td>No</td>\n",
       "      <td>No</td>\n",
       "      <td>No</td>\n",
       "      <td>No</td>\n",
       "      <td>No</td>\n",
       "      <td>No</td>\n",
       "      <td>No</td>\n",
       "      <td>No</td>\n",
       "      <td>NO</td>\n",
       "    </tr>\n",
       "    <tr>\n",
       "      <th>1</th>\n",
       "      <td>149190</td>\n",
       "      <td>55629189</td>\n",
       "      <td>Caucasian</td>\n",
       "      <td>Female</td>\n",
       "      <td>[10-20]</td>\n",
       "      <td>1</td>\n",
       "      <td>1</td>\n",
       "      <td>7</td>\n",
       "      <td>3</td>\n",
       "      <td>?</td>\n",
       "      <td>...</td>\n",
       "      <td>No</td>\n",
       "      <td>Up</td>\n",
       "      <td>No</td>\n",
       "      <td>No</td>\n",
       "      <td>No</td>\n",
       "      <td>No</td>\n",
       "      <td>No</td>\n",
       "      <td>Ch</td>\n",
       "      <td>Yes</td>\n",
       "      <td>&gt;30</td>\n",
       "    </tr>\n",
       "    <tr>\n",
       "      <th>2</th>\n",
       "      <td>64410</td>\n",
       "      <td>86047875</td>\n",
       "      <td>AfricanAmerican</td>\n",
       "      <td>Female</td>\n",
       "      <td>[20-30]</td>\n",
       "      <td>1</td>\n",
       "      <td>1</td>\n",
       "      <td>7</td>\n",
       "      <td>2</td>\n",
       "      <td>?</td>\n",
       "      <td>...</td>\n",
       "      <td>No</td>\n",
       "      <td>No</td>\n",
       "      <td>No</td>\n",
       "      <td>No</td>\n",
       "      <td>No</td>\n",
       "      <td>No</td>\n",
       "      <td>No</td>\n",
       "      <td>No</td>\n",
       "      <td>Yes</td>\n",
       "      <td>NO</td>\n",
       "    </tr>\n",
       "    <tr>\n",
       "      <th>3</th>\n",
       "      <td>500364</td>\n",
       "      <td>82442376</td>\n",
       "      <td>Caucasian</td>\n",
       "      <td>Male</td>\n",
       "      <td>[30-40]</td>\n",
       "      <td>1</td>\n",
       "      <td>1</td>\n",
       "      <td>7</td>\n",
       "      <td>2</td>\n",
       "      <td>?</td>\n",
       "      <td>...</td>\n",
       "      <td>No</td>\n",
       "      <td>Up</td>\n",
       "      <td>No</td>\n",
       "      <td>No</td>\n",
       "      <td>No</td>\n",
       "      <td>No</td>\n",
       "      <td>No</td>\n",
       "      <td>Ch</td>\n",
       "      <td>Yes</td>\n",
       "      <td>NO</td>\n",
       "    </tr>\n",
       "    <tr>\n",
       "      <th>4</th>\n",
       "      <td>16680</td>\n",
       "      <td>42519267</td>\n",
       "      <td>Caucasian</td>\n",
       "      <td>Male</td>\n",
       "      <td>[40-50]</td>\n",
       "      <td>1</td>\n",
       "      <td>1</td>\n",
       "      <td>7</td>\n",
       "      <td>1</td>\n",
       "      <td>?</td>\n",
       "      <td>...</td>\n",
       "      <td>No</td>\n",
       "      <td>Steady</td>\n",
       "      <td>No</td>\n",
       "      <td>No</td>\n",
       "      <td>No</td>\n",
       "      <td>No</td>\n",
       "      <td>No</td>\n",
       "      <td>Ch</td>\n",
       "      <td>Yes</td>\n",
       "      <td>NO</td>\n",
       "    </tr>\n",
       "  </tbody>\n",
       "</table>\n",
       "<p>5 rows × 49 columns</p>\n",
       "</div>"
      ],
      "text/plain": [
       "   encounter_id  patient_nbr             race  gender      age  \\\n",
       "0       2278392      8222157        Caucasian  Female   [0-10]   \n",
       "1        149190     55629189        Caucasian  Female  [10-20]   \n",
       "2         64410     86047875  AfricanAmerican  Female  [20-30]   \n",
       "3        500364     82442376        Caucasian    Male  [30-40]   \n",
       "4         16680     42519267        Caucasian    Male  [40-50]   \n",
       "\n",
       "   admission_type_id  discharge_disposition_id  admission_source_id  \\\n",
       "0                  6                        25                    1   \n",
       "1                  1                         1                    7   \n",
       "2                  1                         1                    7   \n",
       "3                  1                         1                    7   \n",
       "4                  1                         1                    7   \n",
       "\n",
       "   time_in_hospital payer_code  ... citoglipton  insulin  glyburide-metformin  \\\n",
       "0                 1          ?  ...          No       No                   No   \n",
       "1                 3          ?  ...          No       Up                   No   \n",
       "2                 2          ?  ...          No       No                   No   \n",
       "3                 2          ?  ...          No       Up                   No   \n",
       "4                 1          ?  ...          No   Steady                   No   \n",
       "\n",
       "   glipizide-metformin  glimepiride-pioglitazone  metformin-rosiglitazone  \\\n",
       "0                   No                        No                       No   \n",
       "1                   No                        No                       No   \n",
       "2                   No                        No                       No   \n",
       "3                   No                        No                       No   \n",
       "4                   No                        No                       No   \n",
       "\n",
       "   metformin-pioglitazone change diabetesMed readmitted  \n",
       "0                      No     No          No         NO  \n",
       "1                      No     Ch         Yes        >30  \n",
       "2                      No     No         Yes         NO  \n",
       "3                      No     Ch         Yes         NO  \n",
       "4                      No     Ch         Yes         NO  \n",
       "\n",
       "[5 rows x 49 columns]"
      ]
     },
     "execution_count": 28,
     "metadata": {},
     "output_type": "execute_result"
    }
   ],
   "source": [
    "d_data.head()"
   ]
  },
  {
   "cell_type": "markdown",
   "id": "b80b86a5",
   "metadata": {},
   "source": [
    "**Revisiting all the features once again**"
   ]
  },
  {
   "cell_type": "code",
   "execution_count": 29,
   "id": "703e2d31",
   "metadata": {},
   "outputs": [
    {
     "name": "stdout",
     "output_type": "stream",
     "text": [
      "<class 'pandas.core.frame.DataFrame'>\n",
      "RangeIndex: 101763 entries, 0 to 101762\n",
      "Data columns (total 49 columns):\n",
      " #   Column                    Non-Null Count   Dtype \n",
      "---  ------                    --------------   ----- \n",
      " 0   encounter_id              101763 non-null  int64 \n",
      " 1   patient_nbr               101763 non-null  int64 \n",
      " 2   race                      101763 non-null  object\n",
      " 3   gender                    101763 non-null  object\n",
      " 4   age                       101763 non-null  object\n",
      " 5   admission_type_id         101763 non-null  int64 \n",
      " 6   discharge_disposition_id  101763 non-null  int64 \n",
      " 7   admission_source_id       101763 non-null  int64 \n",
      " 8   time_in_hospital          101763 non-null  int64 \n",
      " 9   payer_code                101763 non-null  object\n",
      " 10  medical_specialty         101763 non-null  object\n",
      " 11  num_lab_procedures        101763 non-null  int64 \n",
      " 12  num_procedures            101763 non-null  int64 \n",
      " 13  num_medications           101763 non-null  int64 \n",
      " 14  number_outpatient         101763 non-null  int64 \n",
      " 15  number_emergency          101763 non-null  int64 \n",
      " 16  number_inpatient          101763 non-null  int64 \n",
      " 17  diag_1                    101763 non-null  object\n",
      " 18  diag_2                    101763 non-null  object\n",
      " 19  diag_3                    101763 non-null  object\n",
      " 20  number_diagnoses          101763 non-null  int64 \n",
      " 21  max_glu_serum             101763 non-null  object\n",
      " 22  A1Cresult                 101763 non-null  object\n",
      " 23  metformin                 101763 non-null  object\n",
      " 24  repaglinide               101763 non-null  object\n",
      " 25  nateglinide               101763 non-null  object\n",
      " 26  chlorpropamide            101763 non-null  object\n",
      " 27  glimepiride               101763 non-null  object\n",
      " 28  acetohexamide             101763 non-null  object\n",
      " 29  glipizide                 101763 non-null  object\n",
      " 30  glyburide                 101763 non-null  object\n",
      " 31  tolbutamide               101763 non-null  object\n",
      " 32  pioglitazone              101763 non-null  object\n",
      " 33  rosiglitazone             101763 non-null  object\n",
      " 34  acarbose                  101763 non-null  object\n",
      " 35  miglitol                  101763 non-null  object\n",
      " 36  troglitazone              101763 non-null  object\n",
      " 37  tolazamide                101763 non-null  object\n",
      " 38  examide                   101763 non-null  object\n",
      " 39  citoglipton               101763 non-null  object\n",
      " 40  insulin                   101763 non-null  object\n",
      " 41  glyburide-metformin       101763 non-null  object\n",
      " 42  glipizide-metformin       101763 non-null  object\n",
      " 43  glimepiride-pioglitazone  101763 non-null  object\n",
      " 44  metformin-rosiglitazone   101763 non-null  object\n",
      " 45  metformin-pioglitazone    101763 non-null  object\n",
      " 46  change                    101763 non-null  object\n",
      " 47  diabetesMed               101763 non-null  object\n",
      " 48  readmitted                101763 non-null  object\n",
      "dtypes: int64(13), object(36)\n",
      "memory usage: 38.0+ MB\n"
     ]
    }
   ],
   "source": [
    "d_data.info()"
   ]
  },
  {
   "cell_type": "markdown",
   "id": "fa9795a5",
   "metadata": {},
   "source": [
    "**Features of importance:**\n",
    "\n",
    "* Encounter ID - captures each encounter\n",
    "* Race, Gender, Age - to see the imbalance of the data\n",
    "* Weight - variable to relate with OBESITY > DIABETES > RISK > RE-ADMISSION\n",
    "* Admission type - key to look on emergency or regular visit\n",
    "* **Time in hospital** - defines how many days in hospital is bad for patient, or whether short time stayed patient left early?\n",
    "* Medical speciality - not sure how it helps - but explore this variable to see any useful info\n",
    "* Number of lab tests - more tests may say patient have more complications?\n",
    "* Number of procedures - not clear whether it is some treatment or surgery or others - but give a glimpse\n",
    "* **Number of medications** - important to analyse: a) No. of medicines given, b) Medicines given to admitted & redmitted patients, 3) Any effect of medicines that reduced the admission frequency in any group of patients?\n",
    "* **Glucose serum test** - incates the normal & high glucose levels\n",
    "* Alc test result - gives glycalated hemoglobin levels, confirms the person is normal or diabetic\n",
    "* Change of medications - any changes in medication resulted in no readmission\n",
    "* Diabtes medications prescribed - find out medications prescribed helped in no admission\n",
    "* **Readmitted** - dependent or predictive variable for our study"
   ]
  },
  {
   "cell_type": "markdown",
   "id": "662b9cd0",
   "metadata": {},
   "source": [
    "### Exploring variables - race, gender\n",
    "\n",
    "We can see distribution of people from different races surveyed here. Also, the men and women distribution in the data."
   ]
  },
  {
   "cell_type": "markdown",
   "id": "1a7f3a0a",
   "metadata": {},
   "source": [
    "**Race**"
   ]
  },
  {
   "cell_type": "code",
   "execution_count": 30,
   "id": "4fc5e58b",
   "metadata": {},
   "outputs": [
    {
     "data": {
      "text/plain": [
       "Caucasian          76099\n",
       "AfricanAmerican    19210\n",
       "?                   2271\n",
       "Hispanic            2037\n",
       "Other               1505\n",
       "Asian                641\n",
       "Name: race, dtype: int64"
      ]
     },
     "execution_count": 30,
     "metadata": {},
     "output_type": "execute_result"
    }
   ],
   "source": [
    "# Checking race column\n",
    "d_data.race.value_counts()"
   ]
  },
  {
   "cell_type": "markdown",
   "id": "18328b5d",
   "metadata": {},
   "source": [
    "We can see '?' mentioned as a race, that can be combined into 'Other', since we do not know what race it is."
   ]
  },
  {
   "cell_type": "code",
   "execution_count": 31,
   "id": "de8c0bea",
   "metadata": {},
   "outputs": [
    {
     "name": "stderr",
     "output_type": "stream",
     "text": [
      "<ipython-input-31-454eb054ad8f>:2: FutureWarning: The default value of regex will change from True to False in a future version. In addition, single character regular expressions will*not* be treated as literal strings when regex=True.\n",
      "  d_data['race'] = d_data['race'].str.replace('?', 'Other')\n"
     ]
    }
   ],
   "source": [
    "# Converting '?' into 'Other'\n",
    "d_data['race'] = d_data['race'].str.replace('?', 'Other')"
   ]
  },
  {
   "cell_type": "code",
   "execution_count": 32,
   "id": "8050b49b",
   "metadata": {},
   "outputs": [
    {
     "data": {
      "text/plain": [
       "Caucasian          76099\n",
       "AfricanAmerican    19210\n",
       "Other               3776\n",
       "Hispanic            2037\n",
       "Asian                641\n",
       "Name: race, dtype: int64"
      ]
     },
     "execution_count": 32,
     "metadata": {},
     "output_type": "execute_result"
    }
   ],
   "source": [
    "# Checking race column again\n",
    "d_data.race.value_counts()"
   ]
  },
  {
   "cell_type": "markdown",
   "id": "6d1a37ca",
   "metadata": {},
   "source": [
    "Now '?' marked entries merged with 'Other' column. Lookign at the result, most of the patients were 'Caucasian', we can check this in terms of percentage."
   ]
  },
  {
   "cell_type": "code",
   "execution_count": 33,
   "id": "8076d36e",
   "metadata": {},
   "outputs": [
    {
     "data": {
      "text/plain": [
       "Caucasian          74.780618\n",
       "AfricanAmerican    18.877195\n",
       "Other               3.710582\n",
       "Hispanic            2.001710\n",
       "Asian               0.629895\n",
       "Name: race, dtype: float64"
      ]
     },
     "execution_count": 33,
     "metadata": {},
     "output_type": "execute_result"
    }
   ],
   "source": [
    "# Calculating percentage of each race\n",
    "d_data.race.value_counts() / len(d_data.race) * 100"
   ]
  },
  {
   "cell_type": "markdown",
   "id": "2706439d",
   "metadata": {},
   "source": [
    "Around 74% of the surveyed patients were 'Caucasian', secondly 18% patients are 'AfricanAmerican'. 'Asian' are the lowest in the list. "
   ]
  },
  {
   "cell_type": "markdown",
   "id": "1057e7bc",
   "metadata": {},
   "source": [
    "**Gender**\n",
    "\n",
    "Checking the gender column to see the men and women distribution"
   ]
  },
  {
   "cell_type": "code",
   "execution_count": 34,
   "id": "4c397566",
   "metadata": {},
   "outputs": [
    {
     "data": {
      "text/plain": [
       "Female    53.760208\n",
       "Male      46.239792\n",
       "Name: gender, dtype: float64"
      ]
     },
     "execution_count": 34,
     "metadata": {},
     "output_type": "execute_result"
    }
   ],
   "source": [
    "# Checking gender column in terms of percentage\n",
    "d_data['gender'].value_counts() / len(d_data.gender) * 100"
   ]
  },
  {
   "cell_type": "markdown",
   "id": "94eeceac",
   "metadata": {},
   "source": [
    "This is roughly a good split. Because both men and women entries share around 50% each. So, thee is no imbalance of one gender. We can actually see who is more prone to get redmitted: Men? or Women?"
   ]
  },
  {
   "cell_type": "markdown",
   "id": "a7b7730c",
   "metadata": {},
   "source": [
    "## Do all of them are diabetic?"
   ]
  },
  {
   "cell_type": "markdown",
   "id": "338db718",
   "metadata": {},
   "source": [
    "Before we investigate further, do all the people in the data really have diabetes? Because, there is a chance other people also visited hospital, but they may not have diabetes. So including normal people and going ahead with analysis may create bias in our study. \n",
    "\n",
    "To confirm each patient have diabetes or not, we can use the 'Diabetes Medications' column to check, whether doctor prescribed diabetes medicines to the patient or not.\n",
    "* If - 'Yes' - they are Diabetic\n",
    "* If - 'No' - They are Normal "
   ]
  },
  {
   "cell_type": "code",
   "execution_count": 35,
   "id": "98286b96",
   "metadata": {},
   "outputs": [
    {
     "data": {
      "text/plain": [
       "Yes    78361\n",
       "No     23402\n",
       "Name: diabetesMed, dtype: int64"
      ]
     },
     "execution_count": 35,
     "metadata": {},
     "output_type": "execute_result"
    }
   ],
   "source": [
    "# Checking 'diabetesMed' column\n",
    "d_data['diabetesMed'].value_counts()"
   ]
  },
  {
   "cell_type": "markdown",
   "id": "d7728dd5",
   "metadata": {},
   "source": [
    "We can see 23402 people did not prescribed with diabetes medication. So, if we are predicting the diabetes readmission, including people who do not have diabetes will not make any sense. So, we can create a separate dataframe with only diabetes people."
   ]
  },
  {
   "cell_type": "code",
   "execution_count": 36,
   "id": "43b3bf8c",
   "metadata": {},
   "outputs": [
    {
     "data": {
      "text/plain": [
       "(78361, 49)"
      ]
     },
     "execution_count": 36,
     "metadata": {},
     "output_type": "execute_result"
    }
   ],
   "source": [
    "# Creating new dataframe with only diabetes people\n",
    "Diabetes = d_data[d_data['diabetesMed']=='Yes']\n",
    "Diabetes.shape"
   ]
  },
  {
   "cell_type": "markdown",
   "id": "43d54fe6",
   "metadata": {},
   "source": [
    "Now we have only diabetes people data, we can focus on other columns and check the distribution of 'readmitted' people.\n",
    "This will help to identify any attributes caused more people to readmit within 30 days.\n",
    "\n",
    "**Columns to check:**\n",
    "* Number of lab procedures\n",
    "* Number of procedures (other than lab procedures)\n",
    "* Number of medications\n",
    "* Change of medications"
   ]
  },
  {
   "cell_type": "markdown",
   "id": "032fe9b9",
   "metadata": {},
   "source": [
    "**Number of lab procedures**\n",
    "\n",
    "Does more lab tests performed on the readmitted people? Let's check"
   ]
  },
  {
   "cell_type": "code",
   "execution_count": 37,
   "id": "845d4689",
   "metadata": {},
   "outputs": [
    {
     "data": {
      "text/html": [
       "<div>\n",
       "<style scoped>\n",
       "    .dataframe tbody tr th:only-of-type {\n",
       "        vertical-align: middle;\n",
       "    }\n",
       "\n",
       "    .dataframe tbody tr th {\n",
       "        vertical-align: top;\n",
       "    }\n",
       "\n",
       "    .dataframe thead th {\n",
       "        text-align: right;\n",
       "    }\n",
       "</style>\n",
       "<table border=\"1\" class=\"dataframe\">\n",
       "  <thead>\n",
       "    <tr style=\"text-align: right;\">\n",
       "      <th></th>\n",
       "      <th>count</th>\n",
       "      <th>mean</th>\n",
       "      <th>std</th>\n",
       "      <th>min</th>\n",
       "      <th>25%</th>\n",
       "      <th>50%</th>\n",
       "      <th>75%</th>\n",
       "      <th>max</th>\n",
       "    </tr>\n",
       "    <tr>\n",
       "      <th>readmitted</th>\n",
       "      <th></th>\n",
       "      <th></th>\n",
       "      <th></th>\n",
       "      <th></th>\n",
       "      <th></th>\n",
       "      <th></th>\n",
       "      <th></th>\n",
       "      <th></th>\n",
       "    </tr>\n",
       "  </thead>\n",
       "  <tbody>\n",
       "    <tr>\n",
       "      <th>&lt;30</th>\n",
       "      <td>9111.0</td>\n",
       "      <td>44.371309</td>\n",
       "      <td>19.404812</td>\n",
       "      <td>1.0</td>\n",
       "      <td>33.0</td>\n",
       "      <td>45.0</td>\n",
       "      <td>58.0</td>\n",
       "      <td>132.0</td>\n",
       "    </tr>\n",
       "    <tr>\n",
       "      <th>&gt;30</th>\n",
       "      <td>28318.0</td>\n",
       "      <td>44.063281</td>\n",
       "      <td>19.653414</td>\n",
       "      <td>1.0</td>\n",
       "      <td>33.0</td>\n",
       "      <td>45.0</td>\n",
       "      <td>58.0</td>\n",
       "      <td>113.0</td>\n",
       "    </tr>\n",
       "    <tr>\n",
       "      <th>NO</th>\n",
       "      <td>40932.0</td>\n",
       "      <td>42.824270</td>\n",
       "      <td>20.025009</td>\n",
       "      <td>1.0</td>\n",
       "      <td>31.0</td>\n",
       "      <td>44.0</td>\n",
       "      <td>57.0</td>\n",
       "      <td>121.0</td>\n",
       "    </tr>\n",
       "  </tbody>\n",
       "</table>\n",
       "</div>"
      ],
      "text/plain": [
       "              count       mean        std  min   25%   50%   75%    max\n",
       "readmitted                                                             \n",
       "<30          9111.0  44.371309  19.404812  1.0  33.0  45.0  58.0  132.0\n",
       ">30         28318.0  44.063281  19.653414  1.0  33.0  45.0  58.0  113.0\n",
       "NO          40932.0  42.824270  20.025009  1.0  31.0  44.0  57.0  121.0"
      ]
     },
     "execution_count": 37,
     "metadata": {},
     "output_type": "execute_result"
    }
   ],
   "source": [
    "# Grouping the lab procedure rows by readmitted column\n",
    "Diabetes.groupby('readmitted')['num_lab_procedures'].describe()"
   ]
  },
  {
   "cell_type": "markdown",
   "id": "5512519d",
   "metadata": {},
   "source": [
    "The mean value of all shows between 42 to 44 tests per patient. \n",
    "\n",
    "That says both admitted and not admitted patients undergone same number of tests. This column may not be useful."
   ]
  },
  {
   "cell_type": "markdown",
   "id": "30014769",
   "metadata": {},
   "source": [
    "**Number of procedures (other than lab tests)**\n",
    "\n",
    "Does this column help for analysis?"
   ]
  },
  {
   "cell_type": "code",
   "execution_count": 38,
   "id": "b33da6b8",
   "metadata": {},
   "outputs": [
    {
     "data": {
      "text/html": [
       "<div>\n",
       "<style scoped>\n",
       "    .dataframe tbody tr th:only-of-type {\n",
       "        vertical-align: middle;\n",
       "    }\n",
       "\n",
       "    .dataframe tbody tr th {\n",
       "        vertical-align: top;\n",
       "    }\n",
       "\n",
       "    .dataframe thead th {\n",
       "        text-align: right;\n",
       "    }\n",
       "</style>\n",
       "<table border=\"1\" class=\"dataframe\">\n",
       "  <thead>\n",
       "    <tr style=\"text-align: right;\">\n",
       "      <th></th>\n",
       "      <th>count</th>\n",
       "      <th>mean</th>\n",
       "      <th>std</th>\n",
       "      <th>min</th>\n",
       "      <th>25%</th>\n",
       "      <th>50%</th>\n",
       "      <th>75%</th>\n",
       "      <th>max</th>\n",
       "    </tr>\n",
       "    <tr>\n",
       "      <th>readmitted</th>\n",
       "      <th></th>\n",
       "      <th></th>\n",
       "      <th></th>\n",
       "      <th></th>\n",
       "      <th></th>\n",
       "      <th></th>\n",
       "      <th></th>\n",
       "      <th></th>\n",
       "    </tr>\n",
       "  </thead>\n",
       "  <tbody>\n",
       "    <tr>\n",
       "      <th>&lt;30</th>\n",
       "      <td>9111.0</td>\n",
       "      <td>1.292065</td>\n",
       "      <td>1.663643</td>\n",
       "      <td>0.0</td>\n",
       "      <td>0.0</td>\n",
       "      <td>1.0</td>\n",
       "      <td>2.0</td>\n",
       "      <td>6.0</td>\n",
       "    </tr>\n",
       "    <tr>\n",
       "      <th>&gt;30</th>\n",
       "      <td>28318.0</td>\n",
       "      <td>1.231867</td>\n",
       "      <td>1.666595</td>\n",
       "      <td>0.0</td>\n",
       "      <td>0.0</td>\n",
       "      <td>1.0</td>\n",
       "      <td>2.0</td>\n",
       "      <td>6.0</td>\n",
       "    </tr>\n",
       "    <tr>\n",
       "      <th>NO</th>\n",
       "      <td>40932.0</td>\n",
       "      <td>1.412684</td>\n",
       "      <td>1.755755</td>\n",
       "      <td>0.0</td>\n",
       "      <td>0.0</td>\n",
       "      <td>1.0</td>\n",
       "      <td>2.0</td>\n",
       "      <td>6.0</td>\n",
       "    </tr>\n",
       "  </tbody>\n",
       "</table>\n",
       "</div>"
      ],
      "text/plain": [
       "              count      mean       std  min  25%  50%  75%  max\n",
       "readmitted                                                      \n",
       "<30          9111.0  1.292065  1.663643  0.0  0.0  1.0  2.0  6.0\n",
       ">30         28318.0  1.231867  1.666595  0.0  0.0  1.0  2.0  6.0\n",
       "NO          40932.0  1.412684  1.755755  0.0  0.0  1.0  2.0  6.0"
      ]
     },
     "execution_count": 38,
     "metadata": {},
     "output_type": "execute_result"
    }
   ],
   "source": [
    "Diabetes.groupby('readmitted')['num_procedures'].describe()"
   ]
  },
  {
   "cell_type": "markdown",
   "id": "a32d1e09",
   "metadata": {},
   "source": [
    "The mean value shows approx. 1 procedure per patient performed in both readmitted and not readmitted group. So this column also not useful."
   ]
  },
  {
   "cell_type": "markdown",
   "id": "176d09c1",
   "metadata": {},
   "source": [
    "**Number of medications**\n",
    "\n",
    "Checking the number of medications column. Do particular group taken more medications?"
   ]
  },
  {
   "cell_type": "code",
   "execution_count": 39,
   "id": "739113e9",
   "metadata": {},
   "outputs": [
    {
     "data": {
      "text/html": [
       "<div>\n",
       "<style scoped>\n",
       "    .dataframe tbody tr th:only-of-type {\n",
       "        vertical-align: middle;\n",
       "    }\n",
       "\n",
       "    .dataframe tbody tr th {\n",
       "        vertical-align: top;\n",
       "    }\n",
       "\n",
       "    .dataframe thead th {\n",
       "        text-align: right;\n",
       "    }\n",
       "</style>\n",
       "<table border=\"1\" class=\"dataframe\">\n",
       "  <thead>\n",
       "    <tr style=\"text-align: right;\">\n",
       "      <th></th>\n",
       "      <th>count</th>\n",
       "      <th>mean</th>\n",
       "      <th>std</th>\n",
       "      <th>min</th>\n",
       "      <th>25%</th>\n",
       "      <th>50%</th>\n",
       "      <th>75%</th>\n",
       "      <th>max</th>\n",
       "    </tr>\n",
       "    <tr>\n",
       "      <th>readmitted</th>\n",
       "      <th></th>\n",
       "      <th></th>\n",
       "      <th></th>\n",
       "      <th></th>\n",
       "      <th></th>\n",
       "      <th></th>\n",
       "      <th></th>\n",
       "      <th></th>\n",
       "    </tr>\n",
       "  </thead>\n",
       "  <tbody>\n",
       "    <tr>\n",
       "      <th>&lt;30</th>\n",
       "      <td>9111.0</td>\n",
       "      <td>17.585117</td>\n",
       "      <td>8.201508</td>\n",
       "      <td>2.0</td>\n",
       "      <td>12.0</td>\n",
       "      <td>16.0</td>\n",
       "      <td>22.0</td>\n",
       "      <td>81.0</td>\n",
       "    </tr>\n",
       "    <tr>\n",
       "      <th>&gt;30</th>\n",
       "      <td>28318.0</td>\n",
       "      <td>16.935341</td>\n",
       "      <td>7.643038</td>\n",
       "      <td>1.0</td>\n",
       "      <td>12.0</td>\n",
       "      <td>16.0</td>\n",
       "      <td>21.0</td>\n",
       "      <td>70.0</td>\n",
       "    </tr>\n",
       "    <tr>\n",
       "      <th>NO</th>\n",
       "      <td>40932.0</td>\n",
       "      <td>16.630973</td>\n",
       "      <td>8.641586</td>\n",
       "      <td>1.0</td>\n",
       "      <td>11.0</td>\n",
       "      <td>15.0</td>\n",
       "      <td>21.0</td>\n",
       "      <td>79.0</td>\n",
       "    </tr>\n",
       "  </tbody>\n",
       "</table>\n",
       "</div>"
      ],
      "text/plain": [
       "              count       mean       std  min   25%   50%   75%   max\n",
       "readmitted                                                           \n",
       "<30          9111.0  17.585117  8.201508  2.0  12.0  16.0  22.0  81.0\n",
       ">30         28318.0  16.935341  7.643038  1.0  12.0  16.0  21.0  70.0\n",
       "NO          40932.0  16.630973  8.641586  1.0  11.0  15.0  21.0  79.0"
      ]
     },
     "execution_count": 39,
     "metadata": {},
     "output_type": "execute_result"
    }
   ],
   "source": [
    "Diabetes.groupby('readmitted')['num_medications'].describe()"
   ]
  },
  {
   "cell_type": "markdown",
   "id": "72c4f03e",
   "metadata": {},
   "source": [
    "The total number of medications taken by both group lies very close around 16-17 medicines per patient. So this column will not help.\n",
    "\n",
    "But it will be important to see what medicines each patient taken or not taken. That may be helpful. Let's check that."
   ]
  },
  {
   "cell_type": "markdown",
   "id": "64c8b4fa",
   "metadata": {},
   "source": [
    "**Change of medications**\n",
    "\n",
    "Before investigating each medicine, let's see whether doctor suggested to change medication that helped particular group."
   ]
  },
  {
   "cell_type": "code",
   "execution_count": 40,
   "id": "370891d2",
   "metadata": {},
   "outputs": [
    {
     "data": {
      "text/plain": [
       "Ch    47009\n",
       "No    31352\n",
       "Name: change, dtype: int64"
      ]
     },
     "execution_count": 40,
     "metadata": {},
     "output_type": "execute_result"
    }
   ],
   "source": [
    "# Checking 'change' column\n",
    "Diabetes['change'].value_counts()"
   ]
  },
  {
   "cell_type": "markdown",
   "id": "ffc0df72",
   "metadata": {},
   "source": [
    "'Ch' refers the change of medication here. Let's change it as 'Yes' for easy understanding."
   ]
  },
  {
   "cell_type": "code",
   "execution_count": 41,
   "id": "474e2def",
   "metadata": {},
   "outputs": [
    {
     "name": "stderr",
     "output_type": "stream",
     "text": [
      "<ipython-input-41-68716b16d25b>:2: SettingWithCopyWarning: \n",
      "A value is trying to be set on a copy of a slice from a DataFrame.\n",
      "Try using .loc[row_indexer,col_indexer] = value instead\n",
      "\n",
      "See the caveats in the documentation: https://pandas.pydata.org/pandas-docs/stable/user_guide/indexing.html#returning-a-view-versus-a-copy\n",
      "  Diabetes['change'] = Diabetes['change'].str.replace('Ch', 'Yes')\n"
     ]
    }
   ],
   "source": [
    "# Replacing 'Ch' into 'Yes' in change column\n",
    "Diabetes['change'] = Diabetes['change'].str.replace('Ch', 'Yes')"
   ]
  },
  {
   "cell_type": "code",
   "execution_count": 42,
   "id": "30b66bdd",
   "metadata": {},
   "outputs": [
    {
     "data": {
      "text/plain": [
       "Yes    59.990301\n",
       "No     40.009699\n",
       "Name: change, dtype: float64"
      ]
     },
     "execution_count": 42,
     "metadata": {},
     "output_type": "execute_result"
    }
   ],
   "source": [
    "# Now checking the change column in terms of percentage\n",
    "Diabetes['change'].value_counts() / len(Diabetes.change) * 100"
   ]
  },
  {
   "cell_type": "markdown",
   "id": "7e348b58",
   "metadata": {},
   "source": [
    "Over 60% of the diabetes people asked to change medication. Did this helped them to not get readmitted?\n",
    "\n",
    "We can check how many got change of medication between readmitted and not readmitted."
   ]
  },
  {
   "cell_type": "code",
   "execution_count": 43,
   "id": "39f4c07f",
   "metadata": {},
   "outputs": [],
   "source": [
    "# Splitting admitted and non admitted patients data into two datframes to understand better\n",
    "no_admission = Diabetes[Diabetes['readmitted']=='NO']\n",
    "readmitted = Diabetes[Diabetes['readmitted']!='NO']"
   ]
  },
  {
   "cell_type": "code",
   "execution_count": 44,
   "id": "dce07093",
   "metadata": {},
   "outputs": [
    {
     "data": {
      "text/plain": [
       "Yes    59.071142\n",
       "No     40.928858\n",
       "Name: change, dtype: float64"
      ]
     },
     "execution_count": 44,
     "metadata": {},
     "output_type": "execute_result"
    }
   ],
   "source": [
    "# Change of medication - in not admitted people\n",
    "no_admission['change'].value_counts() / len(no_admission.change) * 100"
   ]
  },
  {
   "cell_type": "code",
   "execution_count": 45,
   "id": "27ff809d",
   "metadata": {},
   "outputs": [
    {
     "data": {
      "text/plain": [
       "Yes    60.995485\n",
       "No     39.004515\n",
       "Name: change, dtype: float64"
      ]
     },
     "execution_count": 45,
     "metadata": {},
     "output_type": "execute_result"
    }
   ],
   "source": [
    "# Change of medication - in readmitted people\n",
    "readmitted['change'].value_counts() / len(readmitted.change) * 100"
   ]
  },
  {
   "cell_type": "markdown",
   "id": "6183bfbe",
   "metadata": {},
   "source": [
    "* 59% of the not admitted patients given change in medication\n",
    "* 61% of the readmitted patients also given change in medication.\n",
    "\n",
    "So, there is no great difference, but let's explore what medicines given to each group. That may tell some story."
   ]
  },
  {
   "cell_type": "markdown",
   "id": "33618bb9",
   "metadata": {},
   "source": [
    "### Diabetes medications - does this help patients not to get readmitted?\n",
    "\n",
    "Our data contains 24 different medicines as features - each categorized into four answers.\n",
    "* Up - medicine prescribed, but to increase in dose\n",
    "* Down - medicine prescribed, but to decrease in dose\n",
    "* Steady - medicine prescribed, but no change in dose\n",
    "* No - medicine not prescribed\n",
    "\n",
    "We can see the relationship between what medicines readmitted people taken and what they did not take. This will help to identify the right medicines which can help them to avoid getting readmitted."
   ]
  },
  {
   "cell_type": "code",
   "execution_count": 46,
   "id": "06753af5",
   "metadata": {},
   "outputs": [
    {
     "name": "stdout",
     "output_type": "stream",
     "text": [
      "<class 'pandas.core.frame.DataFrame'>\n",
      "Int64Index: 78361 entries, 1 to 101761\n",
      "Data columns (total 49 columns):\n",
      " #   Column                    Non-Null Count  Dtype \n",
      "---  ------                    --------------  ----- \n",
      " 0   encounter_id              78361 non-null  int64 \n",
      " 1   patient_nbr               78361 non-null  int64 \n",
      " 2   race                      78361 non-null  object\n",
      " 3   gender                    78361 non-null  object\n",
      " 4   age                       78361 non-null  object\n",
      " 5   admission_type_id         78361 non-null  int64 \n",
      " 6   discharge_disposition_id  78361 non-null  int64 \n",
      " 7   admission_source_id       78361 non-null  int64 \n",
      " 8   time_in_hospital          78361 non-null  int64 \n",
      " 9   payer_code                78361 non-null  object\n",
      " 10  medical_specialty         78361 non-null  object\n",
      " 11  num_lab_procedures        78361 non-null  int64 \n",
      " 12  num_procedures            78361 non-null  int64 \n",
      " 13  num_medications           78361 non-null  int64 \n",
      " 14  number_outpatient         78361 non-null  int64 \n",
      " 15  number_emergency          78361 non-null  int64 \n",
      " 16  number_inpatient          78361 non-null  int64 \n",
      " 17  diag_1                    78361 non-null  object\n",
      " 18  diag_2                    78361 non-null  object\n",
      " 19  diag_3                    78361 non-null  object\n",
      " 20  number_diagnoses          78361 non-null  int64 \n",
      " 21  max_glu_serum             78361 non-null  object\n",
      " 22  A1Cresult                 78361 non-null  object\n",
      " 23  metformin                 78361 non-null  object\n",
      " 24  repaglinide               78361 non-null  object\n",
      " 25  nateglinide               78361 non-null  object\n",
      " 26  chlorpropamide            78361 non-null  object\n",
      " 27  glimepiride               78361 non-null  object\n",
      " 28  acetohexamide             78361 non-null  object\n",
      " 29  glipizide                 78361 non-null  object\n",
      " 30  glyburide                 78361 non-null  object\n",
      " 31  tolbutamide               78361 non-null  object\n",
      " 32  pioglitazone              78361 non-null  object\n",
      " 33  rosiglitazone             78361 non-null  object\n",
      " 34  acarbose                  78361 non-null  object\n",
      " 35  miglitol                  78361 non-null  object\n",
      " 36  troglitazone              78361 non-null  object\n",
      " 37  tolazamide                78361 non-null  object\n",
      " 38  examide                   78361 non-null  object\n",
      " 39  citoglipton               78361 non-null  object\n",
      " 40  insulin                   78361 non-null  object\n",
      " 41  glyburide-metformin       78361 non-null  object\n",
      " 42  glipizide-metformin       78361 non-null  object\n",
      " 43  glimepiride-pioglitazone  78361 non-null  object\n",
      " 44  metformin-rosiglitazone   78361 non-null  object\n",
      " 45  metformin-pioglitazone    78361 non-null  object\n",
      " 46  change                    78361 non-null  object\n",
      " 47  diabetesMed               78361 non-null  object\n",
      " 48  readmitted                78361 non-null  object\n",
      "dtypes: int64(13), object(36)\n",
      "memory usage: 29.9+ MB\n"
     ]
    }
   ],
   "source": [
    "# Calling info to check the medicines in the columns\n",
    "Diabetes.info()"
   ]
  },
  {
   "cell_type": "markdown",
   "id": "d150c998",
   "metadata": {},
   "source": [
    "Column 23 to 45 are the medicines prescribed to the patients. Let's check them and see how many patients are prescribed with that."
   ]
  },
  {
   "cell_type": "code",
   "execution_count": 47,
   "id": "6a275b91",
   "metadata": {},
   "outputs": [
    {
     "data": {
      "image/png": "[encoded data removed]",
      "text/plain": [
       "<Figure size 288x144 with 1 Axes>"
      ]
     },
     "metadata": {
      "needs_background": "light"
     },
     "output_type": "display_data"
    }
   ],
   "source": [
    "# Let's check the first medicine precribed to the see the distribution\n",
    "plt.figure(figsize=(4,2))\n",
    "(Diabetes['metformin'].value_counts() / len(Diabetes['metformin']) * 100).plot(kind='bar')\n",
    "plt.show()"
   ]
  },
  {
   "cell_type": "code",
   "execution_count": 48,
   "id": "64efd4e3",
   "metadata": {},
   "outputs": [
    {
     "data": {
      "image/png": "[encoded data removed]",
      "text/plain": [
       "<Figure size 288x144 with 1 Axes>"
      ]
     },
     "metadata": {
      "needs_background": "light"
     },
     "output_type": "display_data"
    }
   ],
   "source": [
    "# Let's check the second medicine \n",
    "plt.figure(figsize=(4,2))\n",
    "Diabetes['repaglinide'].value_counts().plot(kind='bar')\n",
    "plt.show()"
   ]
  },
  {
   "cell_type": "markdown",
   "id": "0ffa5afc",
   "metadata": {},
   "source": [
    "Let's visualize all of the medicines and check the count of each prescription."
   ]
  },
  {
   "cell_type": "code",
   "execution_count": 49,
   "id": "af631280",
   "metadata": {
    "scrolled": false
   },
   "outputs": [
    {
     "data": {
      "image/png": "[encoded data removed]",
      "text/plain": [
       "<Figure size 1296x1008 with 23 Axes>"
      ]
     },
     "metadata": {
      "needs_background": "light"
     },
     "output_type": "display_data"
    }
   ],
   "source": [
    "# Creating bar plot to visualize all the medicines and their prescription\n",
    "\n",
    "# Listing all the medicines in variable 'med_columns'\n",
    "med_columns = ['metformin', 'repaglinide', 'nateglinide', 'chlorpropamide',\n",
    "       'glimepiride', 'acetohexamide', 'glipizide', 'glyburide', 'tolbutamide',\n",
    "       'pioglitazone', 'rosiglitazone', 'acarbose', 'miglitol', 'troglitazone',\n",
    "       'tolazamide', 'examide', 'citoglipton', 'insulin',\n",
    "       'glyburide-metformin', 'glipizide-metformin',\n",
    "       'glimepiride-pioglitazone', 'metformin-rosiglitazone',\n",
    "       'metformin-pioglitazone']\n",
    "\n",
    "# Parameters \n",
    "a = 6  # nrows\n",
    "b = 4  # ncolumns\n",
    "c = 1  # initialize plot counter\n",
    "\n",
    "fig = plt.figure(figsize=(18,14))\n",
    "\n",
    "for i in med_columns:\n",
    "    plt.subplot(a,b,c)   \n",
    "    plt.title('{}, subplot: {}{}{}'.format(i,a,b,c))\n",
    "    plt.xlabel(i)\n",
    "    sns.countplot(x=i, data=Diabetes)\n",
    "    plt.subplots_adjust(hspace=1.5)\n",
    "    c = c+1\n",
    "plt.show()"
   ]
  },
  {
   "cell_type": "markdown",
   "id": "3e2de759",
   "metadata": {},
   "source": [
    "From bar plots we can see, all the medicines has large group of people who were not prescribed. But some medicines has significant change in their prescription. We can identify below medicines may be helpful for further investigation.\n",
    "* Insulin\n",
    "* Metformin\n",
    "* Glimepiride\n",
    "* Glipizide\n",
    "* Glyburide\n",
    "* Pioglitazone\n",
    "* Rosiglitazone\n",
    "\n",
    "But we can gain some more information from these plots by cleaning a bit in two ways:\n",
    "* By visualizing through a grouped bar chart to see how data is split between readmitted vs not readmitted\n",
    "* Excluding the 'No' category, since medicine was not prescribed and visualizing only prescribed population\n",
    "* Visualizing the same in terms of percentages"
   ]
  },
  {
   "cell_type": "code",
   "execution_count": null,
   "id": "c0f33f85",
   "metadata": {},
   "outputs": [],
   "source": []
  },
  {
   "cell_type": "code",
   "execution_count": null,
   "id": "0476c259",
   "metadata": {},
   "outputs": [],
   "source": []
  }
 ],
 "metadata": {
  "kernelspec": {
   "display_name": "Python 3",
   "language": "python",
   "name": "python3"
  },
  "language_info": {
   "codemirror_mode": {
    "name": "ipython",
    "version": 3
   },
   "file_extension": ".py",
   "mimetype": "text/x-python",
   "name": "python",
   "nbconvert_exporter": "python",
   "pygments_lexer": "ipython3",
   "version": "3.9.4"
  }
 },
 "nbformat": 4,
 "nbformat_minor": 5
}
