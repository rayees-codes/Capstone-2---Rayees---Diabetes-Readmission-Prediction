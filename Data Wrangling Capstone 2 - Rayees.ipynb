{
 "cells": [
  {
   "cell_type": "markdown",
   "id": "f11c7ad9",
   "metadata": {},
   "source": [
    "# Capstone 2 - Diabetes Patients’ Readmission Prediction"
   ]
  },
  {
   "cell_type": "markdown",
   "id": "c5a4a406",
   "metadata": {},
   "source": [
    "Code written by: Rayees Ahamed "
   ]
  },
  {
   "cell_type": "markdown",
   "id": "4893eedf",
   "metadata": {},
   "source": [
    "# Introduction"
   ]
  },
  {
   "cell_type": "markdown",
   "id": "7e06bf2b",
   "metadata": {},
   "source": [
    "**Problem statement:** \n",
    "What are the factors leading to high readmission of diabetes patients’ to hospital within 30 days of discharge?\n",
    "\n",
    "**Context:** \n",
    "Diabetes is a chronic health disease caused due to excess glucose in the blood and failure of our pancreas to produce insulin properly. This leads to several health complications to patients such as cardiovascular risk, frequent infections, blindness (retinopathy) etc. The data from 130 US hospitals from 1999-2008 shows there is a high percentage of diabetes patients getting readmitted within 30 days of their last discharge. This poses the question what factors are responsible that makes patients’ getting readmitted within a short time. Finding these factors will help in improving the quality of care in diabetes patients’, lowering the medical cost involved and identifying medicines effective in treating diabetes.\n",
    "\n",
    "**Criteria for success:** \n",
    "* Identifying one or more attributes that caused diabetes patients’ getting readmitted\n",
    "* Understanding the relationship between different attributes\n",
    "* Key medicines used in treatment that helped patients’ not getting readmitted \n",
    "\n",
    "**Scope of solution space:**\n",
    "Finding the attributes highly correlated in the patients’ who are frequently admitted. Finding the features that correlated in the patients’ who are not frequently admitted. Understanding the epidemiology of different diabetes patients (age, gender, race) that are prevalent to readmission. Medicines that are successfully treated and helped patients’ in avoiding hospital readmission.\n",
    "\n",
    "**Constraints within solution space:**\n",
    "Some attributes may lack information in all the patients. Due to the large number of categorical variables, it may be difficult to use those variables in prediction. Available data may not be sufficient to arrive at a conclusion, and may require additional data to make a clinical decision. Final model can only be used for research purposes and should not be used for diagnostic or treatment purposes.\n",
    "\n",
    "**Stakeholders to provide key insight:**\n",
    "\n",
    "* Dipanjan Sarkar - Data Scientist & Mentor at Springboard\n",
    "* Rayees Ahamed B - Springboard Data Science Student\n",
    "\n",
    "**Key data sources:**\n",
    "https://www.kaggle.com/saurabhtayal/diabetic-patients-readmission-prediction\n",
    "\n",
    "Data can be downloaded from the above kaggle page. Data originally deposited in UCI Machine Learning repository. This data derived from the published article named ‘The relationship between diabetes mellitus and 30-day readmission rates’ from Clinical Diabetes and Endocrinology journal.\n",
    "\n",
    "Dataset Name: Diabetes 130-US hospitals for years 1999-2008 Data Set\n"
   ]
  },
  {
   "cell_type": "markdown",
   "id": "151f51e8",
   "metadata": {},
   "source": [
    "# Imports"
   ]
  },
  {
   "cell_type": "code",
   "execution_count": 1,
   "id": "c0483244",
   "metadata": {},
   "outputs": [],
   "source": [
    "# Importing the necessary packages\n",
    "import pandas as pd\n",
    "import numpy as np\n",
    "import matplotlib.pyplot as plt\n",
    "import seaborn as sns\n",
    "import os\n",
    "\n",
    "from library.sb_utils import save_file"
   ]
  },
  {
   "cell_type": "markdown",
   "id": "222b793a",
   "metadata": {},
   "source": [
    "# Loading the data"
   ]
  },
  {
   "cell_type": "code",
   "execution_count": 2,
   "id": "b9ba3a19",
   "metadata": {},
   "outputs": [
    {
     "data": {
      "text/html": [
       "<div>\n",
       "<style scoped>\n",
       "    .dataframe tbody tr th:only-of-type {\n",
       "        vertical-align: middle;\n",
       "    }\n",
       "\n",
       "    .dataframe tbody tr th {\n",
       "        vertical-align: top;\n",
       "    }\n",
       "\n",
       "    .dataframe thead th {\n",
       "        text-align: right;\n",
       "    }\n",
       "</style>\n",
       "<table border=\"1\" class=\"dataframe\">\n",
       "  <thead>\n",
       "    <tr style=\"text-align: right;\">\n",
       "      <th></th>\n",
       "      <th>encounter_id</th>\n",
       "      <th>patient_nbr</th>\n",
       "      <th>race</th>\n",
       "      <th>gender</th>\n",
       "      <th>age</th>\n",
       "      <th>weight</th>\n",
       "      <th>admission_type_id</th>\n",
       "      <th>discharge_disposition_id</th>\n",
       "      <th>admission_source_id</th>\n",
       "      <th>time_in_hospital</th>\n",
       "      <th>...</th>\n",
       "      <th>citoglipton</th>\n",
       "      <th>insulin</th>\n",
       "      <th>glyburide-metformin</th>\n",
       "      <th>glipizide-metformin</th>\n",
       "      <th>glimepiride-pioglitazone</th>\n",
       "      <th>metformin-rosiglitazone</th>\n",
       "      <th>metformin-pioglitazone</th>\n",
       "      <th>change</th>\n",
       "      <th>diabetesMed</th>\n",
       "      <th>readmitted</th>\n",
       "    </tr>\n",
       "  </thead>\n",
       "  <tbody>\n",
       "    <tr>\n",
       "      <th>0</th>\n",
       "      <td>2278392</td>\n",
       "      <td>8222157</td>\n",
       "      <td>Caucasian</td>\n",
       "      <td>Female</td>\n",
       "      <td>[0-10)</td>\n",
       "      <td>?</td>\n",
       "      <td>6</td>\n",
       "      <td>25</td>\n",
       "      <td>1</td>\n",
       "      <td>1</td>\n",
       "      <td>...</td>\n",
       "      <td>No</td>\n",
       "      <td>No</td>\n",
       "      <td>No</td>\n",
       "      <td>No</td>\n",
       "      <td>No</td>\n",
       "      <td>No</td>\n",
       "      <td>No</td>\n",
       "      <td>No</td>\n",
       "      <td>No</td>\n",
       "      <td>NO</td>\n",
       "    </tr>\n",
       "    <tr>\n",
       "      <th>1</th>\n",
       "      <td>149190</td>\n",
       "      <td>55629189</td>\n",
       "      <td>Caucasian</td>\n",
       "      <td>Female</td>\n",
       "      <td>[10-20)</td>\n",
       "      <td>?</td>\n",
       "      <td>1</td>\n",
       "      <td>1</td>\n",
       "      <td>7</td>\n",
       "      <td>3</td>\n",
       "      <td>...</td>\n",
       "      <td>No</td>\n",
       "      <td>Up</td>\n",
       "      <td>No</td>\n",
       "      <td>No</td>\n",
       "      <td>No</td>\n",
       "      <td>No</td>\n",
       "      <td>No</td>\n",
       "      <td>Ch</td>\n",
       "      <td>Yes</td>\n",
       "      <td>&gt;30</td>\n",
       "    </tr>\n",
       "    <tr>\n",
       "      <th>2</th>\n",
       "      <td>64410</td>\n",
       "      <td>86047875</td>\n",
       "      <td>AfricanAmerican</td>\n",
       "      <td>Female</td>\n",
       "      <td>[20-30)</td>\n",
       "      <td>?</td>\n",
       "      <td>1</td>\n",
       "      <td>1</td>\n",
       "      <td>7</td>\n",
       "      <td>2</td>\n",
       "      <td>...</td>\n",
       "      <td>No</td>\n",
       "      <td>No</td>\n",
       "      <td>No</td>\n",
       "      <td>No</td>\n",
       "      <td>No</td>\n",
       "      <td>No</td>\n",
       "      <td>No</td>\n",
       "      <td>No</td>\n",
       "      <td>Yes</td>\n",
       "      <td>NO</td>\n",
       "    </tr>\n",
       "    <tr>\n",
       "      <th>3</th>\n",
       "      <td>500364</td>\n",
       "      <td>82442376</td>\n",
       "      <td>Caucasian</td>\n",
       "      <td>Male</td>\n",
       "      <td>[30-40)</td>\n",
       "      <td>?</td>\n",
       "      <td>1</td>\n",
       "      <td>1</td>\n",
       "      <td>7</td>\n",
       "      <td>2</td>\n",
       "      <td>...</td>\n",
       "      <td>No</td>\n",
       "      <td>Up</td>\n",
       "      <td>No</td>\n",
       "      <td>No</td>\n",
       "      <td>No</td>\n",
       "      <td>No</td>\n",
       "      <td>No</td>\n",
       "      <td>Ch</td>\n",
       "      <td>Yes</td>\n",
       "      <td>NO</td>\n",
       "    </tr>\n",
       "    <tr>\n",
       "      <th>4</th>\n",
       "      <td>16680</td>\n",
       "      <td>42519267</td>\n",
       "      <td>Caucasian</td>\n",
       "      <td>Male</td>\n",
       "      <td>[40-50)</td>\n",
       "      <td>?</td>\n",
       "      <td>1</td>\n",
       "      <td>1</td>\n",
       "      <td>7</td>\n",
       "      <td>1</td>\n",
       "      <td>...</td>\n",
       "      <td>No</td>\n",
       "      <td>Steady</td>\n",
       "      <td>No</td>\n",
       "      <td>No</td>\n",
       "      <td>No</td>\n",
       "      <td>No</td>\n",
       "      <td>No</td>\n",
       "      <td>Ch</td>\n",
       "      <td>Yes</td>\n",
       "      <td>NO</td>\n",
       "    </tr>\n",
       "  </tbody>\n",
       "</table>\n",
       "<p>5 rows × 50 columns</p>\n",
       "</div>"
      ],
      "text/plain": [
       "   encounter_id  patient_nbr             race  gender      age weight  \\\n",
       "0       2278392      8222157        Caucasian  Female   [0-10)      ?   \n",
       "1        149190     55629189        Caucasian  Female  [10-20)      ?   \n",
       "2         64410     86047875  AfricanAmerican  Female  [20-30)      ?   \n",
       "3        500364     82442376        Caucasian    Male  [30-40)      ?   \n",
       "4         16680     42519267        Caucasian    Male  [40-50)      ?   \n",
       "\n",
       "   admission_type_id  discharge_disposition_id  admission_source_id  \\\n",
       "0                  6                        25                    1   \n",
       "1                  1                         1                    7   \n",
       "2                  1                         1                    7   \n",
       "3                  1                         1                    7   \n",
       "4                  1                         1                    7   \n",
       "\n",
       "   time_in_hospital  ... citoglipton insulin  glyburide-metformin  \\\n",
       "0                 1  ...          No      No                   No   \n",
       "1                 3  ...          No      Up                   No   \n",
       "2                 2  ...          No      No                   No   \n",
       "3                 2  ...          No      Up                   No   \n",
       "4                 1  ...          No  Steady                   No   \n",
       "\n",
       "   glipizide-metformin  glimepiride-pioglitazone  metformin-rosiglitazone  \\\n",
       "0                   No                        No                       No   \n",
       "1                   No                        No                       No   \n",
       "2                   No                        No                       No   \n",
       "3                   No                        No                       No   \n",
       "4                   No                        No                       No   \n",
       "\n",
       "   metformin-pioglitazone  change diabetesMed readmitted  \n",
       "0                      No      No          No         NO  \n",
       "1                      No      Ch         Yes        >30  \n",
       "2                      No      No         Yes         NO  \n",
       "3                      No      Ch         Yes         NO  \n",
       "4                      No      Ch         Yes         NO  \n",
       "\n",
       "[5 rows x 50 columns]"
      ]
     },
     "execution_count": 2,
     "metadata": {},
     "output_type": "execute_result"
    }
   ],
   "source": [
    "# Reading the csv data into dataframe\n",
    "d_data = pd.read_csv('data/diabetic_data.csv')\n",
    "d_data.head()"
   ]
  },
  {
   "cell_type": "markdown",
   "id": "234330bc",
   "metadata": {},
   "source": [
    "# Exploring the data"
   ]
  },
  {
   "cell_type": "code",
   "execution_count": 3,
   "id": "41aa48b4",
   "metadata": {},
   "outputs": [
    {
     "name": "stdout",
     "output_type": "stream",
     "text": [
      "<class 'pandas.core.frame.DataFrame'>\n",
      "RangeIndex: 101766 entries, 0 to 101765\n",
      "Data columns (total 50 columns):\n",
      " #   Column                    Non-Null Count   Dtype \n",
      "---  ------                    --------------   ----- \n",
      " 0   encounter_id              101766 non-null  int64 \n",
      " 1   patient_nbr               101766 non-null  int64 \n",
      " 2   race                      101766 non-null  object\n",
      " 3   gender                    101766 non-null  object\n",
      " 4   age                       101766 non-null  object\n",
      " 5   weight                    101766 non-null  object\n",
      " 6   admission_type_id         101766 non-null  int64 \n",
      " 7   discharge_disposition_id  101766 non-null  int64 \n",
      " 8   admission_source_id       101766 non-null  int64 \n",
      " 9   time_in_hospital          101766 non-null  int64 \n",
      " 10  payer_code                101766 non-null  object\n",
      " 11  medical_specialty         101766 non-null  object\n",
      " 12  num_lab_procedures        101766 non-null  int64 \n",
      " 13  num_procedures            101766 non-null  int64 \n",
      " 14  num_medications           101766 non-null  int64 \n",
      " 15  number_outpatient         101766 non-null  int64 \n",
      " 16  number_emergency          101766 non-null  int64 \n",
      " 17  number_inpatient          101766 non-null  int64 \n",
      " 18  diag_1                    101766 non-null  object\n",
      " 19  diag_2                    101766 non-null  object\n",
      " 20  diag_3                    101766 non-null  object\n",
      " 21  number_diagnoses          101766 non-null  int64 \n",
      " 22  max_glu_serum             101766 non-null  object\n",
      " 23  A1Cresult                 101766 non-null  object\n",
      " 24  metformin                 101766 non-null  object\n",
      " 25  repaglinide               101766 non-null  object\n",
      " 26  nateglinide               101766 non-null  object\n",
      " 27  chlorpropamide            101766 non-null  object\n",
      " 28  glimepiride               101766 non-null  object\n",
      " 29  acetohexamide             101766 non-null  object\n",
      " 30  glipizide                 101766 non-null  object\n",
      " 31  glyburide                 101766 non-null  object\n",
      " 32  tolbutamide               101766 non-null  object\n",
      " 33  pioglitazone              101766 non-null  object\n",
      " 34  rosiglitazone             101766 non-null  object\n",
      " 35  acarbose                  101766 non-null  object\n",
      " 36  miglitol                  101766 non-null  object\n",
      " 37  troglitazone              101766 non-null  object\n",
      " 38  tolazamide                101766 non-null  object\n",
      " 39  examide                   101766 non-null  object\n",
      " 40  citoglipton               101766 non-null  object\n",
      " 41  insulin                   101766 non-null  object\n",
      " 42  glyburide-metformin       101766 non-null  object\n",
      " 43  glipizide-metformin       101766 non-null  object\n",
      " 44  glimepiride-pioglitazone  101766 non-null  object\n",
      " 45  metformin-rosiglitazone   101766 non-null  object\n",
      " 46  metformin-pioglitazone    101766 non-null  object\n",
      " 47  change                    101766 non-null  object\n",
      " 48  diabetesMed               101766 non-null  object\n",
      " 49  readmitted                101766 non-null  object\n",
      "dtypes: int64(13), object(37)\n",
      "memory usage: 38.8+ MB\n"
     ]
    }
   ],
   "source": [
    "# Checking the info\n",
    "d_data.info()"
   ]
  },
  {
   "cell_type": "markdown",
   "id": "1ad31180",
   "metadata": {},
   "source": [
    "Total 50 columns. By examining the columns, we can identify the columns of interest for analysis.\n",
    "\n",
    "For example:\n",
    "* Gender\n",
    "* Age\n",
    "* Weight\n",
    "* Time in hospital\n",
    "* Number of medications\n",
    "* Number of diagnosis\n",
    "* Diagnosis tests (Glucose level, Alc test)\n",
    "* Diabetes medications\n",
    "* Readmitted or not"
   ]
  },
  {
   "cell_type": "markdown",
   "id": "d3a649a0",
   "metadata": {},
   "source": [
    "**Missing values**"
   ]
  },
  {
   "cell_type": "code",
   "execution_count": 4,
   "id": "c64662dc",
   "metadata": {},
   "outputs": [
    {
     "data": {
      "text/plain": [
       "encounter_id                0\n",
       "patient_nbr                 0\n",
       "race                        0\n",
       "gender                      0\n",
       "age                         0\n",
       "weight                      0\n",
       "admission_type_id           0\n",
       "discharge_disposition_id    0\n",
       "admission_source_id         0\n",
       "time_in_hospital            0\n",
       "payer_code                  0\n",
       "medical_specialty           0\n",
       "num_lab_procedures          0\n",
       "num_procedures              0\n",
       "num_medications             0\n",
       "number_outpatient           0\n",
       "number_emergency            0\n",
       "number_inpatient            0\n",
       "diag_1                      0\n",
       "diag_2                      0\n",
       "diag_3                      0\n",
       "number_diagnoses            0\n",
       "max_glu_serum               0\n",
       "A1Cresult                   0\n",
       "metformin                   0\n",
       "repaglinide                 0\n",
       "nateglinide                 0\n",
       "chlorpropamide              0\n",
       "glimepiride                 0\n",
       "acetohexamide               0\n",
       "glipizide                   0\n",
       "glyburide                   0\n",
       "tolbutamide                 0\n",
       "pioglitazone                0\n",
       "rosiglitazone               0\n",
       "acarbose                    0\n",
       "miglitol                    0\n",
       "troglitazone                0\n",
       "tolazamide                  0\n",
       "examide                     0\n",
       "citoglipton                 0\n",
       "insulin                     0\n",
       "glyburide-metformin         0\n",
       "glipizide-metformin         0\n",
       "glimepiride-pioglitazone    0\n",
       "metformin-rosiglitazone     0\n",
       "metformin-pioglitazone      0\n",
       "change                      0\n",
       "diabetesMed                 0\n",
       "readmitted                  0\n",
       "dtype: int64"
      ]
     },
     "execution_count": 4,
     "metadata": {},
     "output_type": "execute_result"
    }
   ],
   "source": [
    "d_data.isna().sum()"
   ]
  },
  {
   "cell_type": "markdown",
   "id": "bc464674",
   "metadata": {},
   "source": [
    "Several columns have wrong datatypes, so missing values are hidden as objects.\n",
    "\n",
    "For example column weight shows data type as object, which should be int64 or float"
   ]
  },
  {
   "cell_type": "code",
   "execution_count": 5,
   "id": "27764a8e",
   "metadata": {},
   "outputs": [
    {
     "data": {
      "text/plain": [
       "Index(['encounter_id', 'patient_nbr', 'race', 'gender', 'age', 'weight',\n",
       "       'admission_type_id', 'discharge_disposition_id', 'admission_source_id',\n",
       "       'time_in_hospital', 'payer_code', 'medical_specialty',\n",
       "       'num_lab_procedures', 'num_procedures', 'num_medications',\n",
       "       'number_outpatient', 'number_emergency', 'number_inpatient', 'diag_1',\n",
       "       'diag_2', 'diag_3', 'number_diagnoses', 'max_glu_serum', 'A1Cresult',\n",
       "       'metformin', 'repaglinide', 'nateglinide', 'chlorpropamide',\n",
       "       'glimepiride', 'acetohexamide', 'glipizide', 'glyburide', 'tolbutamide',\n",
       "       'pioglitazone', 'rosiglitazone', 'acarbose', 'miglitol', 'troglitazone',\n",
       "       'tolazamide', 'examide', 'citoglipton', 'insulin',\n",
       "       'glyburide-metformin', 'glipizide-metformin',\n",
       "       'glimepiride-pioglitazone', 'metformin-rosiglitazone',\n",
       "       'metformin-pioglitazone', 'change', 'diabetesMed', 'readmitted'],\n",
       "      dtype='object')"
      ]
     },
     "execution_count": 5,
     "metadata": {},
     "output_type": "execute_result"
    }
   ],
   "source": [
    "# Checking the column names once\n",
    "\n",
    "d_data.columns"
   ]
  },
  {
   "cell_type": "markdown",
   "id": "55c20c39",
   "metadata": {},
   "source": [
    "**Checking the weight column**"
   ]
  },
  {
   "cell_type": "code",
   "execution_count": 6,
   "id": "44cc88e7",
   "metadata": {},
   "outputs": [
    {
     "data": {
      "text/plain": [
       "0    ?\n",
       "1    ?\n",
       "2    ?\n",
       "3    ?\n",
       "4    ?\n",
       "Name: weight, dtype: object"
      ]
     },
     "execution_count": 6,
     "metadata": {},
     "output_type": "execute_result"
    }
   ],
   "source": [
    "d_data['weight'].head()"
   ]
  },
  {
   "cell_type": "code",
   "execution_count": 7,
   "id": "25466717",
   "metadata": {},
   "outputs": [
    {
     "data": {
      "text/plain": [
       "?            98569\n",
       "[75-100)      1336\n",
       "[50-75)        897\n",
       "[100-125)      625\n",
       "[125-150)      145\n",
       "[25-50)         97\n",
       "[0-25)          48\n",
       "[150-175)       35\n",
       "[175-200)       11\n",
       ">200             3\n",
       "Name: weight, dtype: int64"
      ]
     },
     "execution_count": 7,
     "metadata": {},
     "output_type": "execute_result"
    }
   ],
   "source": [
    "d_data['weight'].value_counts()"
   ]
  },
  {
   "cell_type": "code",
   "execution_count": 8,
   "id": "dfca3519",
   "metadata": {},
   "outputs": [
    {
     "name": "stdout",
     "output_type": "stream",
     "text": [
      "96.85847925633315 % of values are missing\n"
     ]
    }
   ],
   "source": [
    "weight_missing = (98569/101766) * 100\n",
    "print(weight_missing, \"% of values are missing\")"
   ]
  },
  {
   "cell_type": "markdown",
   "id": "021c1513",
   "metadata": {},
   "source": [
    "If we see 'weight' column, 98569 out of 101766 rows are missing & marked as '?' object, which is 97% of values are missing.\n",
    "Good reason to drop this column from the analysis."
   ]
  },
  {
   "cell_type": "markdown",
   "id": "0b456419",
   "metadata": {},
   "source": [
    "**Checking the age column**"
   ]
  },
  {
   "cell_type": "code",
   "execution_count": 9,
   "id": "2b1ebd3c",
   "metadata": {},
   "outputs": [
    {
     "data": {
      "text/plain": [
       "101761    [70-80)\n",
       "101762    [80-90)\n",
       "101763    [70-80)\n",
       "101764    [80-90)\n",
       "101765    [70-80)\n",
       "Name: age, dtype: object"
      ]
     },
     "execution_count": 9,
     "metadata": {},
     "output_type": "execute_result"
    }
   ],
   "source": [
    "# Checking age column\n",
    "\n",
    "d_data['age'].tail()"
   ]
  },
  {
   "cell_type": "code",
   "execution_count": 10,
   "id": "f903e584",
   "metadata": {},
   "outputs": [
    {
     "data": {
      "text/plain": [
       "[70-80)     26068\n",
       "[60-70)     22483\n",
       "[50-60)     17256\n",
       "[80-90)     17197\n",
       "[40-50)      9685\n",
       "[30-40)      3775\n",
       "[90-100)     2793\n",
       "[20-30)      1657\n",
       "[10-20)       691\n",
       "[0-10)        161\n",
       "Name: age, dtype: int64"
      ]
     },
     "execution_count": 10,
     "metadata": {},
     "output_type": "execute_result"
    }
   ],
   "source": [
    "d_data['age'].value_counts()"
   ]
  },
  {
   "cell_type": "markdown",
   "id": "f31e3dcd",
   "metadata": {},
   "source": [
    "Looks like 'age' column does not have any odd or missing values, but categorized into different age groups. Also the datatype is 'object', which need to be converted into 'category' datatype.\n",
    "\n",
    "But before that, we can correct that typo ')' at the end of each category to ']'. For example, [70-80) to [70-80]"
   ]
  },
  {
   "cell_type": "code",
   "execution_count": 11,
   "id": "2a37ed37",
   "metadata": {},
   "outputs": [
    {
     "name": "stderr",
     "output_type": "stream",
     "text": [
      "<ipython-input-11-b1bf748d2e7c>:1: FutureWarning: The default value of regex will change from True to False in a future version. In addition, single character regular expressions will*not* be treated as literal strings when regex=True.\n",
      "  d_data['age'] = d_data['age'].str.replace(')', ']')\n"
     ]
    }
   ],
   "source": [
    "d_data['age'] = d_data['age'].str.replace(')', ']')"
   ]
  },
  {
   "cell_type": "markdown",
   "id": "f62ff655",
   "metadata": {},
   "source": [
    "Let's check again the age column"
   ]
  },
  {
   "cell_type": "code",
   "execution_count": 12,
   "id": "e065999b",
   "metadata": {},
   "outputs": [
    {
     "data": {
      "text/plain": [
       "[70-80]     26068\n",
       "[60-70]     22483\n",
       "[50-60]     17256\n",
       "[80-90]     17197\n",
       "[40-50]      9685\n",
       "[30-40]      3775\n",
       "[90-100]     2793\n",
       "[20-30]      1657\n",
       "[10-20]       691\n",
       "[0-10]        161\n",
       "Name: age, dtype: int64"
      ]
     },
     "execution_count": 12,
     "metadata": {},
     "output_type": "execute_result"
    }
   ],
   "source": [
    "d_data['age'].value_counts()"
   ]
  },
  {
   "cell_type": "markdown",
   "id": "641e4439",
   "metadata": {},
   "source": [
    "Done. Later we need to convert this into category datatype>"
   ]
  },
  {
   "cell_type": "markdown",
   "id": "ceebdeed",
   "metadata": {},
   "source": [
    "**Checking Gender column**"
   ]
  },
  {
   "cell_type": "code",
   "execution_count": 13,
   "id": "a0e907de",
   "metadata": {},
   "outputs": [
    {
     "data": {
      "text/plain": [
       "101761      Male\n",
       "101762    Female\n",
       "101763      Male\n",
       "101764    Female\n",
       "101765      Male\n",
       "Name: gender, dtype: object"
      ]
     },
     "execution_count": 13,
     "metadata": {},
     "output_type": "execute_result"
    }
   ],
   "source": [
    "d_data['gender'].tail()"
   ]
  },
  {
   "cell_type": "code",
   "execution_count": 14,
   "id": "c50fb1c0",
   "metadata": {},
   "outputs": [
    {
     "data": {
      "text/plain": [
       "Female             54708\n",
       "Male               47055\n",
       "Unknown/Invalid        3\n",
       "Name: gender, dtype: int64"
      ]
     },
     "execution_count": 14,
     "metadata": {},
     "output_type": "execute_result"
    }
   ],
   "source": [
    "d_data['gender'].value_counts()"
   ]
  },
  {
   "cell_type": "markdown",
   "id": "9f473579",
   "metadata": {},
   "source": [
    "'Gender' has only 3 missing values & marked as 'Unknown/Invalid'. These rows need to be dropped before analysis. "
   ]
  },
  {
   "cell_type": "markdown",
   "id": "81b8caef",
   "metadata": {},
   "source": [
    "# Checking the target variable - 'readmitted'"
   ]
  },
  {
   "cell_type": "code",
   "execution_count": 15,
   "id": "c0f15597",
   "metadata": {},
   "outputs": [
    {
     "data": {
      "text/plain": [
       "101756    >30\n",
       "101757     NO\n",
       "101758     NO\n",
       "101759     NO\n",
       "101760    >30\n",
       "101761    >30\n",
       "101762     NO\n",
       "101763     NO\n",
       "101764     NO\n",
       "101765     NO\n",
       "Name: readmitted, dtype: object"
      ]
     },
     "execution_count": 15,
     "metadata": {},
     "output_type": "execute_result"
    }
   ],
   "source": [
    "d_data['readmitted'].tail(10)"
   ]
  },
  {
   "cell_type": "markdown",
   "id": "6bd82f01",
   "metadata": {},
   "source": [
    "**Number of patients got readmitted**"
   ]
  },
  {
   "cell_type": "code",
   "execution_count": 16,
   "id": "e5e0bcb5",
   "metadata": {},
   "outputs": [
    {
     "data": {
      "text/plain": [
       "NO     54864\n",
       ">30    35545\n",
       "<30    11357\n",
       "Name: readmitted, dtype: int64"
      ]
     },
     "execution_count": 16,
     "metadata": {},
     "output_type": "execute_result"
    }
   ],
   "source": [
    "d_data.readmitted.value_counts()"
   ]
  },
  {
   "cell_type": "markdown",
   "id": "c4d1c16e",
   "metadata": {},
   "source": [
    "Three different entries we can see,\n",
    "* 'NO' - no readmission within 30 days\n",
    "* '>30' - readmitted after 30 days\n",
    "* '<30' - readmitted within 30 days"
   ]
  },
  {
   "cell_type": "markdown",
   "id": "9e02e477",
   "metadata": {},
   "source": [
    "**Distribution of 'readmitted' column**"
   ]
  },
  {
   "cell_type": "code",
   "execution_count": 17,
   "id": "f53a07dc",
   "metadata": {},
   "outputs": [
    {
     "data": {
      "image/png": "[encoded data removed]",
      "text/plain": [
       "<Figure size 432x288 with 1 Axes>"
      ]
     },
     "metadata": {
      "needs_background": "light"
     },
     "output_type": "display_data"
    }
   ],
   "source": [
    "# Looking at the distribution \n",
    "\n",
    "d_data.readmitted.value_counts().plot(kind='bar', title='Readmitted', xlabel='Count', ylabel='Number of patients')\n",
    "plt.show()"
   ]
  },
  {
   "cell_type": "markdown",
   "id": "0493bcd8",
   "metadata": {},
   "source": [
    "**Percentage of patients got readmitted**"
   ]
  },
  {
   "cell_type": "code",
   "execution_count": 18,
   "id": "c63b0f87",
   "metadata": {},
   "outputs": [
    {
     "name": "stdout",
     "output_type": "stream",
     "text": [
      "Not readmitted: 53.911915571015854 %\n",
      "Readmitted after 30 days: 34.92816854352141 %\n",
      "Readmitted within 30 days: 11.159915885462727 %\n"
     ]
    }
   ],
   "source": [
    "readmitted = d_data['readmitted'].value_counts()\n",
    "NO = (readmitted['NO'] / readmitted.sum()) * 100\n",
    "Above_30 = (readmitted['>30'] / readmitted.sum()) * 100\n",
    "Below_30 = (readmitted['<30'] / readmitted.sum()) * 100\n",
    "\n",
    "print('Not readmitted:', NO, \"%\")\n",
    "print('Readmitted after 30 days:', Above_30, \"%\")\n",
    "print('Readmitted within 30 days:', Below_30, \"%\")"
   ]
  },
  {
   "cell_type": "markdown",
   "id": "31378902",
   "metadata": {},
   "source": [
    "Clearly we see three sets of category of people here,\n",
    "1. People who did not get redmitted ('NO')\n",
    "2. People who got readmitted in less than 30 days ('<30')\n",
    "3. People who got readmitted in more than 30 days ('>30')\n",
    "\n",
    "From here, we can get some key questions to be asked:\n",
    "* Why are large group of people did not get readmitted? \n",
    "* What factors/attributes helped them to not get readmitted? What medications they taken?\n",
    "* Why some group of people are got readmitted within 30 days?\n",
    "* What attributes contribute to those people who get frequently readmitted?"
   ]
  },
  {
   "cell_type": "markdown",
   "id": "2a53c05c",
   "metadata": {},
   "source": [
    "**Distribution of 'Time in hospital' column:**\n",
    "\n",
    "The time each patient spent at hospital can give some idea on the severity of the patients"
   ]
  },
  {
   "cell_type": "code",
   "execution_count": 19,
   "id": "f584f2bf",
   "metadata": {},
   "outputs": [
    {
     "data": {
      "image/png": "[encoded data removed]",
      "text/plain": [
       "<Figure size 432x288 with 1 Axes>"
      ]
     },
     "metadata": {
      "needs_background": "light"
     },
     "output_type": "display_data"
    }
   ],
   "source": [
    "d_data['time_in_hospital'].value_counts().sort_values(ascending=False).plot(kind='barh', title='Time at hospital')\n",
    "plt.xlabel('Number of patients')\n",
    "plt.ylabel('Number of days')\n",
    "plt.show()"
   ]
  },
  {
   "cell_type": "code",
   "execution_count": 20,
   "id": "17ba29c7",
   "metadata": {},
   "outputs": [
    {
     "data": {
      "text/plain": [
       "count    101766.000000\n",
       "mean          4.395987\n",
       "std           2.985108\n",
       "min           1.000000\n",
       "25%           2.000000\n",
       "50%           4.000000\n",
       "75%           6.000000\n",
       "max          14.000000\n",
       "Name: time_in_hospital, dtype: float64"
      ]
     },
     "execution_count": 20,
     "metadata": {},
     "output_type": "execute_result"
    }
   ],
   "source": [
    "d_data.time_in_hospital.describe()"
   ]
  },
  {
   "cell_type": "markdown",
   "id": "02b81a74",
   "metadata": {},
   "source": [
    "Averagely, a patient spent 4.3 days at hospital during the time of admission. But from the plot, we can see high number of patients spent time of 1-6 days.\n",
    "\n",
    "Splitting the dataframe into two segments based on the 'time in hospital'. 1. Above 6 days, 2. Below 6 days\n",
    "We can calculate how many percentage of patients stayed above 6 days and below 6 days."
   ]
  },
  {
   "cell_type": "code",
   "execution_count": 21,
   "id": "b8d5a507",
   "metadata": {},
   "outputs": [
    {
     "name": "stdout",
     "output_type": "stream",
     "text": [
      "Above 6 days: 20.78199005561779 %\n",
      "Below 6 days: 71.80983825639211 %\n"
     ]
    }
   ],
   "source": [
    "above_6 = d_data[d_data['time_in_hospital'] > 6]\n",
    "below_6 = d_data[d_data['time_in_hospital'] < 6]\n",
    "\n",
    "print('Above 6 days:', ((above_6.time_in_hospital.count()) / (d_data.time_in_hospital.count()) * 100), '%')\n",
    "print('Below 6 days:', ((below_6.time_in_hospital.count()) / (d_data.time_in_hospital.count()) * 100), '%')\n"
   ]
  },
  {
   "cell_type": "markdown",
   "id": "c6bb9456",
   "metadata": {},
   "source": [
    "Looking at the distribution & summary statistics of the 'Time in Hospital' data. \n",
    "\n",
    "**Around 72% of patients stayed below 6 days, 20% of the patients stayed more than 6 days upto 14 days.**\n",
    "\n",
    "Clearly there should be a reason for why large number of patients not staying for long time in hospital, but some group stay for long time in hospital. But before moving to the next exploration of data analysis, lets recall what we found so far and take action in the dataframe.\n",
    "* Dropping the weight column as 97% of values are missing\n",
    "* Removing the 'Unknown' entries from gender column\n",
    "* Converting datatypes of some columns to right ones - but for now we will skip this & do it in EDA part"
   ]
  },
  {
   "cell_type": "code",
   "execution_count": 22,
   "id": "dc837fb0",
   "metadata": {},
   "outputs": [
    {
     "data": {
      "text/plain": [
       "pandas.core.frame.DataFrame"
      ]
     },
     "execution_count": 22,
     "metadata": {},
     "output_type": "execute_result"
    }
   ],
   "source": [
    "# Dropping the weight column\n",
    "d_data.drop(['weight'], axis=1, inplace=True)\n",
    "type(d_data)"
   ]
  },
  {
   "cell_type": "code",
   "execution_count": 23,
   "id": "9ac36be7",
   "metadata": {},
   "outputs": [
    {
     "data": {
      "text/plain": [
       "Female             54708\n",
       "Male               47055\n",
       "Unknown/Invalid        3\n",
       "Name: gender, dtype: int64"
      ]
     },
     "execution_count": 23,
     "metadata": {},
     "output_type": "execute_result"
    }
   ],
   "source": [
    "# Removing unknown entries from gender column\n",
    "\n",
    "# Checking the entries once\n",
    "d_data.gender.value_counts()"
   ]
  },
  {
   "cell_type": "code",
   "execution_count": 24,
   "id": "e034897d",
   "metadata": {},
   "outputs": [],
   "source": [
    "# Exclude 'Unknown/Invalid'\n",
    "d_data.drop(d_data[d_data['gender'] == 'Unknown/Invalid'].index, inplace=True)"
   ]
  },
  {
   "cell_type": "code",
   "execution_count": 25,
   "id": "2dc94fd6",
   "metadata": {},
   "outputs": [
    {
     "data": {
      "text/plain": [
       "Female    54708\n",
       "Male      47055\n",
       "Name: gender, dtype: int64"
      ]
     },
     "execution_count": 25,
     "metadata": {},
     "output_type": "execute_result"
    }
   ],
   "source": [
    "d_data['gender'].value_counts()"
   ]
  },
  {
   "cell_type": "markdown",
   "id": "5bf110d5",
   "metadata": {},
   "source": [
    "### Saving the data"
   ]
  },
  {
   "cell_type": "code",
   "execution_count": 26,
   "id": "931118a9",
   "metadata": {},
   "outputs": [
    {
     "data": {
      "text/plain": [
       "(101763, 49)"
      ]
     },
     "execution_count": 26,
     "metadata": {},
     "output_type": "execute_result"
    }
   ],
   "source": [
    "d_data.shape"
   ]
  },
  {
   "cell_type": "code",
   "execution_count": 27,
   "id": "c5a7c76c",
   "metadata": {},
   "outputs": [
    {
     "name": "stdout",
     "output_type": "stream",
     "text": [
      "A file already exists with this name.\n",
      "\n",
      "Do you want to overwrite? (Y/N)Y\n",
      "Writing file.  \"data/d_data_cleaned.csv\"\n"
     ]
    }
   ],
   "source": [
    "# Saving the data to a new csv file\n",
    "datapath = 'data/'\n",
    "save_file(d_data, 'd_data_cleaned.csv', datapath)"
   ]
  },
  {
   "cell_type": "code",
   "execution_count": null,
   "id": "ad7416f2",
   "metadata": {},
   "outputs": [],
   "source": []
  }
 ],
 "metadata": {
  "kernelspec": {
   "display_name": "Python 3",
   "language": "python",
   "name": "python3"
  },
  "language_info": {
   "codemirror_mode": {
    "name": "ipython",
    "version": 3
   },
   "file_extension": ".py",
   "mimetype": "text/x-python",
   "name": "python",
   "nbconvert_exporter": "python",
   "pygments_lexer": "ipython3",
   "version": "3.9.4"
  }
 },
 "nbformat": 4,
 "nbformat_minor": 5
}
