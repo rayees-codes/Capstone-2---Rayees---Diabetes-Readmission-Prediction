{
 "cells": [
  {
   "cell_type": "markdown",
   "id": "f11c7ad9",
   "metadata": {},
   "source": [
    "# Capstone 2 - Diabetes Patients’ Readmission Prediction"
   ]
  },
  {
   "cell_type": "markdown",
   "id": "c5a4a406",
   "metadata": {},
   "source": [
    "Code written by: Rayees Ahamed "
   ]
  },
  {
   "cell_type": "markdown",
   "id": "4893eedf",
   "metadata": {},
   "source": [
    "# Introduction"
   ]
  },
  {
   "cell_type": "markdown",
   "id": "7e06bf2b",
   "metadata": {},
   "source": [
    "**Problem statement:** \n",
    "What are the factors leading to high readmission of diabetes patients’ to hospital within 30 days of discharge?\n",
    "\n",
    "**Context:** \n",
    "Diabetes is a chronic health disease caused due to excess glucose in the blood and failure of our pancreas to produce insulin properly. This leads to several health complications to patients such as cardiovascular risk, frequent infections, blindness (retinopathy) etc. The data from 130 US hospitals from 1999-2008 shows there is a high percentage of diabetes patients getting readmitted within 30 days of their last discharge. This poses the question what factors are responsible that makes patients’ getting readmitted within a short time. Finding these factors will help in improving the quality of care in diabetes patients’, lowering the medical cost involved and identifying medicines effective in treating diabetes.\n",
    "\n",
    "**Criteria for success:** \n",
    "* Identifying one or more attributes that caused diabetes patients’ getting readmitted\n",
    "* Understanding the relationship between different attributes\n",
    "* Key medicines used in treatment that helped patients’ not getting readmitted \n",
    "\n",
    "**Scope of solution space:**\n",
    "Finding the attributes highly correlated in the patients’ who are frequently admitted. Finding the features that correlated in the patients’ who are not frequently admitted. Understanding the epidemiology of different diabetes patients (age, gender, race) that are prevalent to readmission. Medicines that are successfully treated and helped patients’ in avoiding hospital readmission.\n",
    "\n",
    "**Constraints within solution space:**\n",
    "Some attributes may lack information in all the patients. Due to the large number of categorical variables, it may be difficult to use those variables in prediction. Available data may not be sufficient to arrive at a conclusion, and may require additional data to make a clinical decision. Final model can only be used for research purposes and should not be used for diagnostic or treatment purposes.\n",
    "\n",
    "**Stakeholders to provide key insight:**\n",
    "\n",
    "* Dipanjan Sarkar - Data Scientist & Mentor at Springboard\n",
    "* Rayees Ahamed B - Springboard Data Science Student\n",
    "\n",
    "**Key data sources:**\n",
    "https://www.kaggle.com/saurabhtayal/diabetic-patients-readmission-prediction\n",
    "\n",
    "Data can be downloaded from the above kaggle page. Data originally deposited in UCI Machine Learning repository. This data derived from the published article named ‘The relationship between diabetes mellitus and 30-day readmission rates’ from Clinical Diabetes and Endocrinology journal.\n",
    "\n",
    "Dataset Name: Diabetes 130-US hospitals for years 1999-2008 Data Set\n"
   ]
  },
  {
   "cell_type": "markdown",
   "id": "151f51e8",
   "metadata": {},
   "source": [
    "# Imports"
   ]
  },
  {
   "cell_type": "code",
   "execution_count": 19,
   "id": "c0483244",
   "metadata": {},
   "outputs": [],
   "source": [
    "import pandas as pd\n",
    "import numpy as np\n",
    "import matplotlib.pyplot as plt\n",
    "import seaborn as sns"
   ]
  },
  {
   "cell_type": "markdown",
   "id": "222b793a",
   "metadata": {},
   "source": [
    "# Loading the data"
   ]
  },
  {
   "cell_type": "code",
   "execution_count": 20,
   "id": "b9ba3a19",
   "metadata": {},
   "outputs": [
    {
     "data": {
      "text/html": [
       "<div>\n",
       "<style scoped>\n",
       "    .dataframe tbody tr th:only-of-type {\n",
       "        vertical-align: middle;\n",
       "    }\n",
       "\n",
       "    .dataframe tbody tr th {\n",
       "        vertical-align: top;\n",
       "    }\n",
       "\n",
       "    .dataframe thead th {\n",
       "        text-align: right;\n",
       "    }\n",
       "</style>\n",
       "<table border=\"1\" class=\"dataframe\">\n",
       "  <thead>\n",
       "    <tr style=\"text-align: right;\">\n",
       "      <th></th>\n",
       "      <th>encounter_id</th>\n",
       "      <th>patient_nbr</th>\n",
       "      <th>race</th>\n",
       "      <th>gender</th>\n",
       "      <th>age</th>\n",
       "      <th>weight</th>\n",
       "      <th>admission_type_id</th>\n",
       "      <th>discharge_disposition_id</th>\n",
       "      <th>admission_source_id</th>\n",
       "      <th>time_in_hospital</th>\n",
       "      <th>...</th>\n",
       "      <th>citoglipton</th>\n",
       "      <th>insulin</th>\n",
       "      <th>glyburide-metformin</th>\n",
       "      <th>glipizide-metformin</th>\n",
       "      <th>glimepiride-pioglitazone</th>\n",
       "      <th>metformin-rosiglitazone</th>\n",
       "      <th>metformin-pioglitazone</th>\n",
       "      <th>change</th>\n",
       "      <th>diabetesMed</th>\n",
       "      <th>readmitted</th>\n",
       "    </tr>\n",
       "  </thead>\n",
       "  <tbody>\n",
       "    <tr>\n",
       "      <th>0</th>\n",
       "      <td>2278392</td>\n",
       "      <td>8222157</td>\n",
       "      <td>Caucasian</td>\n",
       "      <td>Female</td>\n",
       "      <td>[0-10)</td>\n",
       "      <td>?</td>\n",
       "      <td>6</td>\n",
       "      <td>25</td>\n",
       "      <td>1</td>\n",
       "      <td>1</td>\n",
       "      <td>...</td>\n",
       "      <td>No</td>\n",
       "      <td>No</td>\n",
       "      <td>No</td>\n",
       "      <td>No</td>\n",
       "      <td>No</td>\n",
       "      <td>No</td>\n",
       "      <td>No</td>\n",
       "      <td>No</td>\n",
       "      <td>No</td>\n",
       "      <td>NO</td>\n",
       "    </tr>\n",
       "    <tr>\n",
       "      <th>1</th>\n",
       "      <td>149190</td>\n",
       "      <td>55629189</td>\n",
       "      <td>Caucasian</td>\n",
       "      <td>Female</td>\n",
       "      <td>[10-20)</td>\n",
       "      <td>?</td>\n",
       "      <td>1</td>\n",
       "      <td>1</td>\n",
       "      <td>7</td>\n",
       "      <td>3</td>\n",
       "      <td>...</td>\n",
       "      <td>No</td>\n",
       "      <td>Up</td>\n",
       "      <td>No</td>\n",
       "      <td>No</td>\n",
       "      <td>No</td>\n",
       "      <td>No</td>\n",
       "      <td>No</td>\n",
       "      <td>Ch</td>\n",
       "      <td>Yes</td>\n",
       "      <td>&gt;30</td>\n",
       "    </tr>\n",
       "    <tr>\n",
       "      <th>2</th>\n",
       "      <td>64410</td>\n",
       "      <td>86047875</td>\n",
       "      <td>AfricanAmerican</td>\n",
       "      <td>Female</td>\n",
       "      <td>[20-30)</td>\n",
       "      <td>?</td>\n",
       "      <td>1</td>\n",
       "      <td>1</td>\n",
       "      <td>7</td>\n",
       "      <td>2</td>\n",
       "      <td>...</td>\n",
       "      <td>No</td>\n",
       "      <td>No</td>\n",
       "      <td>No</td>\n",
       "      <td>No</td>\n",
       "      <td>No</td>\n",
       "      <td>No</td>\n",
       "      <td>No</td>\n",
       "      <td>No</td>\n",
       "      <td>Yes</td>\n",
       "      <td>NO</td>\n",
       "    </tr>\n",
       "    <tr>\n",
       "      <th>3</th>\n",
       "      <td>500364</td>\n",
       "      <td>82442376</td>\n",
       "      <td>Caucasian</td>\n",
       "      <td>Male</td>\n",
       "      <td>[30-40)</td>\n",
       "      <td>?</td>\n",
       "      <td>1</td>\n",
       "      <td>1</td>\n",
       "      <td>7</td>\n",
       "      <td>2</td>\n",
       "      <td>...</td>\n",
       "      <td>No</td>\n",
       "      <td>Up</td>\n",
       "      <td>No</td>\n",
       "      <td>No</td>\n",
       "      <td>No</td>\n",
       "      <td>No</td>\n",
       "      <td>No</td>\n",
       "      <td>Ch</td>\n",
       "      <td>Yes</td>\n",
       "      <td>NO</td>\n",
       "    </tr>\n",
       "    <tr>\n",
       "      <th>4</th>\n",
       "      <td>16680</td>\n",
       "      <td>42519267</td>\n",
       "      <td>Caucasian</td>\n",
       "      <td>Male</td>\n",
       "      <td>[40-50)</td>\n",
       "      <td>?</td>\n",
       "      <td>1</td>\n",
       "      <td>1</td>\n",
       "      <td>7</td>\n",
       "      <td>1</td>\n",
       "      <td>...</td>\n",
       "      <td>No</td>\n",
       "      <td>Steady</td>\n",
       "      <td>No</td>\n",
       "      <td>No</td>\n",
       "      <td>No</td>\n",
       "      <td>No</td>\n",
       "      <td>No</td>\n",
       "      <td>Ch</td>\n",
       "      <td>Yes</td>\n",
       "      <td>NO</td>\n",
       "    </tr>\n",
       "  </tbody>\n",
       "</table>\n",
       "<p>5 rows × 50 columns</p>\n",
       "</div>"
      ],
      "text/plain": [
       "   encounter_id  patient_nbr             race  gender      age weight  \\\n",
       "0       2278392      8222157        Caucasian  Female   [0-10)      ?   \n",
       "1        149190     55629189        Caucasian  Female  [10-20)      ?   \n",
       "2         64410     86047875  AfricanAmerican  Female  [20-30)      ?   \n",
       "3        500364     82442376        Caucasian    Male  [30-40)      ?   \n",
       "4         16680     42519267        Caucasian    Male  [40-50)      ?   \n",
       "\n",
       "   admission_type_id  discharge_disposition_id  admission_source_id  \\\n",
       "0                  6                        25                    1   \n",
       "1                  1                         1                    7   \n",
       "2                  1                         1                    7   \n",
       "3                  1                         1                    7   \n",
       "4                  1                         1                    7   \n",
       "\n",
       "   time_in_hospital  ... citoglipton insulin  glyburide-metformin  \\\n",
       "0                 1  ...          No      No                   No   \n",
       "1                 3  ...          No      Up                   No   \n",
       "2                 2  ...          No      No                   No   \n",
       "3                 2  ...          No      Up                   No   \n",
       "4                 1  ...          No  Steady                   No   \n",
       "\n",
       "   glipizide-metformin  glimepiride-pioglitazone  metformin-rosiglitazone  \\\n",
       "0                   No                        No                       No   \n",
       "1                   No                        No                       No   \n",
       "2                   No                        No                       No   \n",
       "3                   No                        No                       No   \n",
       "4                   No                        No                       No   \n",
       "\n",
       "   metformin-pioglitazone  change diabetesMed readmitted  \n",
       "0                      No      No          No         NO  \n",
       "1                      No      Ch         Yes        >30  \n",
       "2                      No      No         Yes         NO  \n",
       "3                      No      Ch         Yes         NO  \n",
       "4                      No      Ch         Yes         NO  \n",
       "\n",
       "[5 rows x 50 columns]"
      ]
     },
     "execution_count": 20,
     "metadata": {},
     "output_type": "execute_result"
    }
   ],
   "source": [
    "url = \"https://raw.githubusercontent.com/rayees-codes/Springboard-Projects/main/diabetic_data.csv\"\n",
    "\n",
    "d_data = pd.read_csv(url)\n",
    "d_data.head()"
   ]
  },
  {
   "cell_type": "markdown",
   "id": "234330bc",
   "metadata": {},
   "source": [
    "# Exploring the data"
   ]
  },
  {
   "cell_type": "code",
   "execution_count": 21,
   "id": "41aa48b4",
   "metadata": {},
   "outputs": [
    {
     "name": "stdout",
     "output_type": "stream",
     "text": [
      "<class 'pandas.core.frame.DataFrame'>\n",
      "RangeIndex: 101766 entries, 0 to 101765\n",
      "Data columns (total 50 columns):\n",
      " #   Column                    Non-Null Count   Dtype \n",
      "---  ------                    --------------   ----- \n",
      " 0   encounter_id              101766 non-null  int64 \n",
      " 1   patient_nbr               101766 non-null  int64 \n",
      " 2   race                      101766 non-null  object\n",
      " 3   gender                    101766 non-null  object\n",
      " 4   age                       101766 non-null  object\n",
      " 5   weight                    101766 non-null  object\n",
      " 6   admission_type_id         101766 non-null  int64 \n",
      " 7   discharge_disposition_id  101766 non-null  int64 \n",
      " 8   admission_source_id       101766 non-null  int64 \n",
      " 9   time_in_hospital          101766 non-null  int64 \n",
      " 10  payer_code                101766 non-null  object\n",
      " 11  medical_specialty         101766 non-null  object\n",
      " 12  num_lab_procedures        101766 non-null  int64 \n",
      " 13  num_procedures            101766 non-null  int64 \n",
      " 14  num_medications           101766 non-null  int64 \n",
      " 15  number_outpatient         101766 non-null  int64 \n",
      " 16  number_emergency          101766 non-null  int64 \n",
      " 17  number_inpatient          101766 non-null  int64 \n",
      " 18  diag_1                    101766 non-null  object\n",
      " 19  diag_2                    101766 non-null  object\n",
      " 20  diag_3                    101766 non-null  object\n",
      " 21  number_diagnoses          101766 non-null  int64 \n",
      " 22  max_glu_serum             101766 non-null  object\n",
      " 23  A1Cresult                 101766 non-null  object\n",
      " 24  metformin                 101766 non-null  object\n",
      " 25  repaglinide               101766 non-null  object\n",
      " 26  nateglinide               101766 non-null  object\n",
      " 27  chlorpropamide            101766 non-null  object\n",
      " 28  glimepiride               101766 non-null  object\n",
      " 29  acetohexamide             101766 non-null  object\n",
      " 30  glipizide                 101766 non-null  object\n",
      " 31  glyburide                 101766 non-null  object\n",
      " 32  tolbutamide               101766 non-null  object\n",
      " 33  pioglitazone              101766 non-null  object\n",
      " 34  rosiglitazone             101766 non-null  object\n",
      " 35  acarbose                  101766 non-null  object\n",
      " 36  miglitol                  101766 non-null  object\n",
      " 37  troglitazone              101766 non-null  object\n",
      " 38  tolazamide                101766 non-null  object\n",
      " 39  examide                   101766 non-null  object\n",
      " 40  citoglipton               101766 non-null  object\n",
      " 41  insulin                   101766 non-null  object\n",
      " 42  glyburide-metformin       101766 non-null  object\n",
      " 43  glipizide-metformin       101766 non-null  object\n",
      " 44  glimepiride-pioglitazone  101766 non-null  object\n",
      " 45  metformin-rosiglitazone   101766 non-null  object\n",
      " 46  metformin-pioglitazone    101766 non-null  object\n",
      " 47  change                    101766 non-null  object\n",
      " 48  diabetesMed               101766 non-null  object\n",
      " 49  readmitted                101766 non-null  object\n",
      "dtypes: int64(13), object(37)\n",
      "memory usage: 38.8+ MB\n"
     ]
    }
   ],
   "source": [
    "d_data.info()"
   ]
  },
  {
   "cell_type": "markdown",
   "id": "1ad31180",
   "metadata": {},
   "source": [
    "By examining the columns, we can identify the columns of interest for analysis.\n",
    "\n",
    "For example:\n",
    "* Gender\n",
    "* Age\n",
    "* Weight\n",
    "* Time in hospital\n",
    "* Number of medications\n",
    "* Number of diagnosis\n",
    "* Diagnosis tests (Glucose level, Alc test)\n",
    "* Diabetes medications\n",
    "* Readmitted or not"
   ]
  },
  {
   "cell_type": "markdown",
   "id": "d3a649a0",
   "metadata": {},
   "source": [
    "**Missing values**"
   ]
  },
  {
   "cell_type": "code",
   "execution_count": 22,
   "id": "c64662dc",
   "metadata": {},
   "outputs": [
    {
     "data": {
      "text/plain": [
       "encounter_id                False\n",
       "patient_nbr                 False\n",
       "race                        False\n",
       "gender                      False\n",
       "age                         False\n",
       "weight                      False\n",
       "admission_type_id           False\n",
       "discharge_disposition_id    False\n",
       "admission_source_id         False\n",
       "time_in_hospital            False\n",
       "payer_code                  False\n",
       "medical_specialty           False\n",
       "num_lab_procedures          False\n",
       "num_procedures              False\n",
       "num_medications             False\n",
       "number_outpatient           False\n",
       "number_emergency            False\n",
       "number_inpatient            False\n",
       "diag_1                      False\n",
       "diag_2                      False\n",
       "diag_3                      False\n",
       "number_diagnoses            False\n",
       "max_glu_serum               False\n",
       "A1Cresult                   False\n",
       "metformin                   False\n",
       "repaglinide                 False\n",
       "nateglinide                 False\n",
       "chlorpropamide              False\n",
       "glimepiride                 False\n",
       "acetohexamide               False\n",
       "glipizide                   False\n",
       "glyburide                   False\n",
       "tolbutamide                 False\n",
       "pioglitazone                False\n",
       "rosiglitazone               False\n",
       "acarbose                    False\n",
       "miglitol                    False\n",
       "troglitazone                False\n",
       "tolazamide                  False\n",
       "examide                     False\n",
       "citoglipton                 False\n",
       "insulin                     False\n",
       "glyburide-metformin         False\n",
       "glipizide-metformin         False\n",
       "glimepiride-pioglitazone    False\n",
       "metformin-rosiglitazone     False\n",
       "metformin-pioglitazone      False\n",
       "change                      False\n",
       "diabetesMed                 False\n",
       "readmitted                  False\n",
       "dtype: bool"
      ]
     },
     "execution_count": 22,
     "metadata": {},
     "output_type": "execute_result"
    }
   ],
   "source": [
    "d_data.isna().any()"
   ]
  },
  {
   "cell_type": "markdown",
   "id": "bc464674",
   "metadata": {},
   "source": [
    "Several columns have wrong datatypes, so missing values are hidden as objects.\n",
    "\n",
    "For example column weight shows data type as object, which should be int64 or float"
   ]
  },
  {
   "cell_type": "code",
   "execution_count": 23,
   "id": "27764a8e",
   "metadata": {},
   "outputs": [
    {
     "data": {
      "text/plain": [
       "Index(['encounter_id', 'patient_nbr', 'race', 'gender', 'age', 'weight',\n",
       "       'admission_type_id', 'discharge_disposition_id', 'admission_source_id',\n",
       "       'time_in_hospital', 'payer_code', 'medical_specialty',\n",
       "       'num_lab_procedures', 'num_procedures', 'num_medications',\n",
       "       'number_outpatient', 'number_emergency', 'number_inpatient', 'diag_1',\n",
       "       'diag_2', 'diag_3', 'number_diagnoses', 'max_glu_serum', 'A1Cresult',\n",
       "       'metformin', 'repaglinide', 'nateglinide', 'chlorpropamide',\n",
       "       'glimepiride', 'acetohexamide', 'glipizide', 'glyburide', 'tolbutamide',\n",
       "       'pioglitazone', 'rosiglitazone', 'acarbose', 'miglitol', 'troglitazone',\n",
       "       'tolazamide', 'examide', 'citoglipton', 'insulin',\n",
       "       'glyburide-metformin', 'glipizide-metformin',\n",
       "       'glimepiride-pioglitazone', 'metformin-rosiglitazone',\n",
       "       'metformin-pioglitazone', 'change', 'diabetesMed', 'readmitted'],\n",
       "      dtype='object')"
      ]
     },
     "execution_count": 23,
     "metadata": {},
     "output_type": "execute_result"
    }
   ],
   "source": [
    "# Checking the column names once\n",
    "\n",
    "d_data.columns"
   ]
  },
  {
   "cell_type": "markdown",
   "id": "55c20c39",
   "metadata": {},
   "source": [
    "**Checking the weight column**"
   ]
  },
  {
   "cell_type": "code",
   "execution_count": 24,
   "id": "44cc88e7",
   "metadata": {},
   "outputs": [
    {
     "data": {
      "text/plain": [
       "0    ?\n",
       "1    ?\n",
       "2    ?\n",
       "3    ?\n",
       "4    ?\n",
       "Name: weight, dtype: object"
      ]
     },
     "execution_count": 24,
     "metadata": {},
     "output_type": "execute_result"
    }
   ],
   "source": [
    "d_data['weight'].head()"
   ]
  },
  {
   "cell_type": "code",
   "execution_count": 39,
   "id": "25466717",
   "metadata": {},
   "outputs": [
    {
     "data": {
      "text/plain": [
       "?            98569\n",
       "[75-100)      1336\n",
       "[50-75)        897\n",
       "[100-125)      625\n",
       "[125-150)      145\n",
       "[25-50)         97\n",
       "[0-25)          48\n",
       "[150-175)       35\n",
       "[175-200)       11\n",
       ">200             3\n",
       "Name: weight, dtype: int64"
      ]
     },
     "execution_count": 39,
     "metadata": {},
     "output_type": "execute_result"
    }
   ],
   "source": [
    "d_data['weight'].value_counts()"
   ]
  },
  {
   "cell_type": "code",
   "execution_count": 40,
   "id": "dfca3519",
   "metadata": {},
   "outputs": [
    {
     "name": "stdout",
     "output_type": "stream",
     "text": [
      "96.85847925633315 % of values are missing\n"
     ]
    }
   ],
   "source": [
    "weight_missing = (98569/101766) * 100\n",
    "print(weight_missing, \"% of values are missing\")"
   ]
  },
  {
   "cell_type": "markdown",
   "id": "021c1513",
   "metadata": {},
   "source": [
    "If we see 'weight' column, 98569 out of 101766 rows are missing & marked as '?' object, which is 97% of values are missing.\n",
    "Good reason to drop this column from the analysis."
   ]
  },
  {
   "cell_type": "markdown",
   "id": "0b456419",
   "metadata": {},
   "source": [
    "**Checking the age column**"
   ]
  },
  {
   "cell_type": "code",
   "execution_count": 29,
   "id": "2b1ebd3c",
   "metadata": {},
   "outputs": [
    {
     "data": {
      "text/plain": [
       "101761    [70-80)\n",
       "101762    [80-90)\n",
       "101763    [70-80)\n",
       "101764    [80-90)\n",
       "101765    [70-80)\n",
       "Name: age, dtype: object"
      ]
     },
     "execution_count": 29,
     "metadata": {},
     "output_type": "execute_result"
    }
   ],
   "source": [
    "# Checking age column\n",
    "\n",
    "d_data['age'].tail()"
   ]
  },
  {
   "cell_type": "code",
   "execution_count": 41,
   "id": "f903e584",
   "metadata": {},
   "outputs": [
    {
     "data": {
      "text/plain": [
       "[70-80)     26068\n",
       "[60-70)     22483\n",
       "[50-60)     17256\n",
       "[80-90)     17197\n",
       "[40-50)      9685\n",
       "[30-40)      3775\n",
       "[90-100)     2793\n",
       "[20-30)      1657\n",
       "[10-20)       691\n",
       "[0-10)        161\n",
       "Name: age, dtype: int64"
      ]
     },
     "execution_count": 41,
     "metadata": {},
     "output_type": "execute_result"
    }
   ],
   "source": [
    "d_data['age'].value_counts()"
   ]
  },
  {
   "cell_type": "markdown",
   "id": "f31e3dcd",
   "metadata": {},
   "source": [
    "Looks like 'age' column does not have any odd or missing values, but categorized into different age groups. Also the datatype is 'object', which need to be converted into 'category' datatype."
   ]
  },
  {
   "cell_type": "markdown",
   "id": "ceebdeed",
   "metadata": {},
   "source": [
    "**Checking Gender column**"
   ]
  },
  {
   "cell_type": "code",
   "execution_count": 36,
   "id": "a0e907de",
   "metadata": {},
   "outputs": [
    {
     "data": {
      "text/plain": [
       "101761      Male\n",
       "101762    Female\n",
       "101763      Male\n",
       "101764    Female\n",
       "101765      Male\n",
       "Name: gender, dtype: object"
      ]
     },
     "execution_count": 36,
     "metadata": {},
     "output_type": "execute_result"
    }
   ],
   "source": [
    "d_data['gender'].tail()"
   ]
  },
  {
   "cell_type": "code",
   "execution_count": 38,
   "id": "c50fb1c0",
   "metadata": {},
   "outputs": [
    {
     "data": {
      "text/plain": [
       "Female             54708\n",
       "Male               47055\n",
       "Unknown/Invalid        3\n",
       "Name: gender, dtype: int64"
      ]
     },
     "execution_count": 38,
     "metadata": {},
     "output_type": "execute_result"
    }
   ],
   "source": [
    "d_data['gender'].value_counts()"
   ]
  },
  {
   "cell_type": "markdown",
   "id": "9f473579",
   "metadata": {},
   "source": [
    "'Gender' has only 3 missing values & marked as 'Unknown/Invalid'. This need to be either excluded or converted into 'NaN' before analysis. "
   ]
  },
  {
   "cell_type": "markdown",
   "id": "81b8caef",
   "metadata": {},
   "source": [
    "# Checking the target variable - 'readmitted'"
   ]
  },
  {
   "cell_type": "code",
   "execution_count": 50,
   "id": "c0f15597",
   "metadata": {},
   "outputs": [
    {
     "data": {
      "text/plain": [
       "101756    >30\n",
       "101757     NO\n",
       "101758     NO\n",
       "101759     NO\n",
       "101760    >30\n",
       "101761    >30\n",
       "101762     NO\n",
       "101763     NO\n",
       "101764     NO\n",
       "101765     NO\n",
       "Name: readmitted, dtype: object"
      ]
     },
     "execution_count": 50,
     "metadata": {},
     "output_type": "execute_result"
    }
   ],
   "source": [
    "d_data['readmitted'].tail(10)"
   ]
  },
  {
   "cell_type": "markdown",
   "id": "6bd82f01",
   "metadata": {},
   "source": [
    "**Number of patients got readmitted**"
   ]
  },
  {
   "cell_type": "code",
   "execution_count": 94,
   "id": "e5e0bcb5",
   "metadata": {},
   "outputs": [
    {
     "data": {
      "text/plain": [
       "NO     54864\n",
       ">30    35545\n",
       "<30    11357\n",
       "Name: readmitted, dtype: int64"
      ]
     },
     "execution_count": 94,
     "metadata": {},
     "output_type": "execute_result"
    }
   ],
   "source": [
    "d_data.readmitted.value_counts()"
   ]
  },
  {
   "cell_type": "markdown",
   "id": "9e02e477",
   "metadata": {},
   "source": [
    "**Distribution of 'readmitted' column**"
   ]
  },
  {
   "cell_type": "code",
   "execution_count": 75,
   "id": "f53a07dc",
   "metadata": {},
   "outputs": [
    {
     "data": {
      "text/plain": [
       "<AxesSubplot:title={'center':'Readmitted'}, xlabel='Count'>"
      ]
     },
     "execution_count": 75,
     "metadata": {},
     "output_type": "execute_result"
    },
    {
     "data": {
      "image/png": "[encoded data removed]",
      "text/plain": [
       "<Figure size 432x288 with 1 Axes>"
      ]
     },
     "metadata": {
      "needs_background": "light"
     },
     "output_type": "display_data"
    }
   ],
   "source": [
    "# Looking at the distribution \n",
    "\n",
    "d_data.readmitted.value_counts().plot(kind='bar', title='Readmitted', xlabel='Count')"
   ]
  },
  {
   "cell_type": "markdown",
   "id": "0493bcd8",
   "metadata": {},
   "source": [
    "**Percentage of patients got readmitted**"
   ]
  },
  {
   "cell_type": "code",
   "execution_count": 95,
   "id": "c63b0f87",
   "metadata": {},
   "outputs": [
    {
     "name": "stdout",
     "output_type": "stream",
     "text": [
      "Not readmitted: 53.911915571015854 %\n",
      "Readmitted above 30 times: 34.92816854352141 %\n",
      "Readmitted below 30 times: 11.159915885462727 %\n"
     ]
    }
   ],
   "source": [
    "readmitted = d_data['readmitted'].value_counts()\n",
    "NO = (readmitted['NO'] / readmitted.sum()) * 100\n",
    "Above_30 = (readmitted['>30'] / readmitted.sum()) * 100\n",
    "Below_30 = (readmitted['<30'] / readmitted.sum()) * 100\n",
    "\n",
    "print('Not readmitted:', NO, \"%\")\n",
    "print('Readmitted above 30 times:', Above_30, \"%\")\n",
    "print('Readmitted below 30 times:', Below_30, \"%\")"
   ]
  },
  {
   "cell_type": "markdown",
   "id": "31378902",
   "metadata": {},
   "source": [
    "Clearly we see three sets of category of people here,\n",
    "1. People who did not get redmitted ('NO')\n",
    "2. People who got readmitted less than 30 times ('<30')\n",
    "3. People who got readmitted more than 30 times ('>30')\n",
    "\n",
    "From here, we can get some key questions to be asked:\n",
    "* Why are large group of people did not get readmitted? \n",
    "* What factors/attributes helped them to not get readmitted? What medications they taken?\n",
    "* Why some group of people are more frequent to get redmitted? \n",
    "* What attributes contribute to those people who get frequently readmitted?"
   ]
  },
  {
   "cell_type": "markdown",
   "id": "2a53c05c",
   "metadata": {},
   "source": [
    "**Distribution of 'Time in hospital' column:**\n",
    "\n",
    "The time each patient spent at hospital can give some idea on the severity of the patients"
   ]
  },
  {
   "cell_type": "code",
   "execution_count": 111,
   "id": "f584f2bf",
   "metadata": {},
   "outputs": [
    {
     "data": {
      "text/plain": [
       "Text(0, 0.5, 'Number of days')"
      ]
     },
     "execution_count": 111,
     "metadata": {},
     "output_type": "execute_result"
    },
    {
     "data": {
      "image/png": "[encoded data removed]",
      "text/plain": [
       "<Figure size 432x288 with 1 Axes>"
      ]
     },
     "metadata": {
      "needs_background": "light"
     },
     "output_type": "display_data"
    }
   ],
   "source": [
    "d_data['time_in_hospital'].value_counts().sort_values(ascending=False).plot(kind='barh', title='Time at hospital')\n",
    "plt.xlabel('Count')\n",
    "plt.ylabel('Number of days')"
   ]
  },
  {
   "cell_type": "code",
   "execution_count": 112,
   "id": "17ba29c7",
   "metadata": {},
   "outputs": [
    {
     "data": {
      "text/plain": [
       "count    101766.000000\n",
       "mean          4.395987\n",
       "std           2.985108\n",
       "min           1.000000\n",
       "25%           2.000000\n",
       "50%           4.000000\n",
       "75%           6.000000\n",
       "max          14.000000\n",
       "Name: time_in_hospital, dtype: float64"
      ]
     },
     "execution_count": 112,
     "metadata": {},
     "output_type": "execute_result"
    }
   ],
   "source": [
    "d_data.time_in_hospital.describe()"
   ]
  },
  {
   "cell_type": "markdown",
   "id": "02b81a74",
   "metadata": {},
   "source": [
    "Splitting the dataframe into two segments based on the 'time in hospital'. 1. Above 6 days, 2. Below 6 days"
   ]
  },
  {
   "cell_type": "code",
   "execution_count": 134,
   "id": "b8d5a507",
   "metadata": {},
   "outputs": [
    {
     "name": "stdout",
     "output_type": "stream",
     "text": [
      "Above 6 days: 71.80983825639211 %\n",
      "Below 6 days: 20.78199005561779 %\n"
     ]
    }
   ],
   "source": [
    "above_6 = d_data[d_data['time_in_hospital'] < 6]\n",
    "below_6 = d_data[d_data['time_in_hospital'] > 6]\n",
    "\n",
    "print('Above 6 days:', ((above_6.time_in_hospital.count()) / (d_data.time_in_hospital.count()) * 100), '%')\n",
    "print('Below 6 days:', ((below_6.time_in_hospital.count()) / (d_data.time_in_hospital.count()) * 100), '%')\n"
   ]
  },
  {
   "cell_type": "markdown",
   "id": "c6bb9456",
   "metadata": {},
   "source": [
    "Looking at the distribution & summary statistics of the 'Time in Hospital' data. \n",
    "\n",
    "**Around 72% of patients stayed above 6 days, 20% of the patients only stayed less than 6 days.**\n",
    "\n",
    "Clearly there should be a reason for why large number of patients staying for long time in hospital."
   ]
  },
  {
   "cell_type": "code",
   "execution_count": null,
   "id": "dc837fb0",
   "metadata": {},
   "outputs": [],
   "source": []
  }
 ],
 "metadata": {
  "kernelspec": {
   "display_name": "Python 3",
   "language": "python",
   "name": "python3"
  },
  "language_info": {
   "codemirror_mode": {
    "name": "ipython",
    "version": 3
   },
   "file_extension": ".py",
   "mimetype": "text/x-python",
   "name": "python",
   "nbconvert_exporter": "python",
   "pygments_lexer": "ipython3",
   "version": "3.9.4"
  }
 },
 "nbformat": 4,
 "nbformat_minor": 5
}
